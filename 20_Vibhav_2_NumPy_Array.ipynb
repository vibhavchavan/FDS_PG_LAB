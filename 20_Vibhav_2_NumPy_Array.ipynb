{
  "cells": [
    {
      "cell_type": "markdown",
      "id": "3c5179d4",
      "metadata": {
        "id": "3c5179d4"
      },
      "source": [
        "---\n",
        "# **Table of Contents**\n",
        "---"
      ]
    },
    {
      "cell_type": "markdown",
      "id": "77515672",
      "metadata": {
        "id": "77515672"
      },
      "source": [
        "**1.** [**Array Initialization**](#Section1)<br>\n",
        "**2.** [**Array Initialization using Random Numbers**](#Section2)<br>\n",
        "**3.** [**Numpy Indexing**](#Section3)<br>\n",
        "  - **3.1** [**Array Slicing**](#Section31)\n",
        "  - **3.2** [**Conditional Array Indexing**](#Section32)\n",
        "\n",
        "**4.** [**Numpy Array Operations**](#Section4)<br>\n",
        "  - **4.1** [**Numpy Broadcasting**](#Section41)\n",
        "  - **4.2** [**Numpy Mathematical Functions**](#Section42)\n",
        "  - **4.3** [**Numpy Unique Items and Counts**](#Section43)\n",
        "  - **4.4** [**Array Manipulation**](#Section44)\n",
        "    - **4.4.1** [**Array Shape Manipulation**](#Section441)\n",
        "    - **4.4.2** [**Array Merging & Splitting**](#Section442)\n",
        "\n",
        "**5.** [**Conclusion**](#Section5)<br>"
      ]
    },
    {
      "cell_type": "code",
      "execution_count": 1,
      "id": "c4caf78d",
      "metadata": {
        "id": "c4caf78d"
      },
      "outputs": [],
      "source": [
        "import numpy as np"
      ]
    },
    {
      "cell_type": "markdown",
      "id": "2051437e",
      "metadata": {
        "id": "2051437e"
      },
      "source": [
        "---\n",
        "<a name = Section1></a>\n",
        "# **1. Array Initialization**\n",
        "---\n",
        "\n",
        "- In this section, we will learn some array initalization methods such as:\n",
        "\n",
        "  - **.arange():** Generates an array of specifed range, step size (default is 1) and type of data to be stored.\n",
        "\n",
        "  - **.zeros():** Generate an array containing zero values.\n",
        "\n",
        "  - **.ones():** Generates an array containing ones as value.\n",
        "\n",
        "  - **.linspace():** Generates an evenly spaced numbers over a specified interval.\n",
        "\n",
        "  - **.eye():** Generates a 2-D array with ones on the diagonal and zeros elsewhere.\n",
        "  \n",
        "  - **.empty():** Generates an array with random values."
      ]
    },
    {
      "cell_type": "code",
      "execution_count": 2,
      "id": "b99fb0c3",
      "metadata": {
        "colab": {
          "base_uri": "https://localhost:8080/"
        },
        "id": "b99fb0c3",
        "outputId": "093a756e-4b8e-44c3-941e-3f876fd7bcf4"
      },
      "outputs": [
        {
          "output_type": "execute_result",
          "data": {
            "text/plain": [
              "array([0, 1, 2, 3, 4, 5, 6, 7, 8, 9])"
            ]
          },
          "metadata": {},
          "execution_count": 2
        }
      ],
      "source": [
        "# Generating an array of size 10 with a step size of 1\n",
        "np.arange(0,10,1,dtype=None)\n"
      ]
    },
    {
      "cell_type": "code",
      "execution_count": 3,
      "id": "79a98b33",
      "metadata": {
        "colab": {
          "base_uri": "https://localhost:8080/"
        },
        "id": "79a98b33",
        "outputId": "b0758a94-fb06-4769-9518-c092c69dfd80"
      },
      "outputs": [
        {
          "output_type": "execute_result",
          "data": {
            "text/plain": [
              "array([0, 2, 4, 6, 8])"
            ]
          },
          "metadata": {},
          "execution_count": 3
        }
      ],
      "source": [
        "# Generating an array of size 10 with a step size of 2\n",
        "np.arange(0,10,2,dtype=None)"
      ]
    },
    {
      "cell_type": "markdown",
      "id": "9e676c02",
      "metadata": {
        "id": "9e676c02"
      },
      "source": [
        "Specifying your data type\n",
        "\n",
        "While the default data type is floating point (np.float64), you can explicitly specify which data type you want using the dtype keyword."
      ]
    },
    {
      "cell_type": "code",
      "execution_count": 4,
      "id": "f53331f5",
      "metadata": {
        "colab": {
          "base_uri": "https://localhost:8080/"
        },
        "id": "f53331f5",
        "outputId": "352d7203-654a-42d2-e61e-6736a2c41b65"
      },
      "outputs": [
        {
          "output_type": "execute_result",
          "data": {
            "text/plain": [
              "array([0, 1, 2, 3, 4])"
            ]
          },
          "metadata": {},
          "execution_count": 4
        }
      ],
      "source": [
        "x = np.arange(0,5,1, dtype=np.int64)\n",
        "x"
      ]
    },
    {
      "cell_type": "code",
      "execution_count": 5,
      "id": "0b16e573",
      "metadata": {
        "colab": {
          "base_uri": "https://localhost:8080/"
        },
        "id": "0b16e573",
        "outputId": "19618bba-20ce-46cf-b878-b19b1b8bc514"
      },
      "outputs": [
        {
          "output_type": "execute_result",
          "data": {
            "text/plain": [
              "dtype('int64')"
            ]
          },
          "metadata": {},
          "execution_count": 5
        }
      ],
      "source": [
        "x.dtype"
      ]
    },
    {
      "cell_type": "code",
      "execution_count": 6,
      "id": "f74edff8",
      "metadata": {
        "colab": {
          "base_uri": "https://localhost:8080/"
        },
        "id": "f74edff8",
        "outputId": "6098c309-bbb3-4b07-f682-e3800c1f1b18"
      },
      "outputs": [
        {
          "output_type": "execute_result",
          "data": {
            "text/plain": [
              "array([0., 0., 0., 0., 0.])"
            ]
          },
          "metadata": {},
          "execution_count": 6
        }
      ],
      "source": [
        "# Generates an array of size 5 containing zeros\n",
        "x=np.zeros(shape=5) \n",
        "x"
      ]
    },
    {
      "cell_type": "code",
      "execution_count": 7,
      "id": "cc8df4dd",
      "metadata": {
        "colab": {
          "base_uri": "https://localhost:8080/"
        },
        "id": "cc8df4dd",
        "outputId": "b1ddc8f8-aa7e-42ad-8081-057c262ed87d"
      },
      "outputs": [
        {
          "output_type": "execute_result",
          "data": {
            "text/plain": [
              "dtype('float64')"
            ]
          },
          "metadata": {},
          "execution_count": 7
        }
      ],
      "source": [
        "x.dtype  # default data type is float64"
      ]
    },
    {
      "cell_type": "code",
      "execution_count": 8,
      "id": "a4502351",
      "metadata": {
        "colab": {
          "base_uri": "https://localhost:8080/"
        },
        "id": "a4502351",
        "outputId": "4c768f02-81a1-4da0-e3ff-5dbe4aee3395"
      },
      "outputs": [
        {
          "output_type": "stream",
          "name": "stdout",
          "text": [
            "Dimentions: 2\n"
          ]
        },
        {
          "output_type": "execute_result",
          "data": {
            "text/plain": [
              "array([[0., 0., 0.],\n",
              "       [0., 0., 0.],\n",
              "       [0., 0., 0.]])"
            ]
          },
          "metadata": {},
          "execution_count": 8
        }
      ],
      "source": [
        "# Generates an array of size 3 X 3 containing zeros\n",
        "x=np.zeros(shape=(3,3))\n",
        "\n",
        "# Display the resolution of two_dim_zeros variable\n",
        "print(\"Dimentions:\",x.ndim)\n",
        "\n",
        "# Output the result\n",
        "x"
      ]
    },
    {
      "cell_type": "code",
      "execution_count": 9,
      "id": "e9891186",
      "metadata": {
        "colab": {
          "base_uri": "https://localhost:8080/"
        },
        "id": "e9891186",
        "outputId": "af1f36c0-9695-41eb-9566-e2d6efb2fb94"
      },
      "outputs": [
        {
          "output_type": "execute_result",
          "data": {
            "text/plain": [
              "array([[1., 1., 1.],\n",
              "       [1., 1., 1.],\n",
              "       [1., 1., 1.]])"
            ]
          },
          "metadata": {},
          "execution_count": 9
        }
      ],
      "source": [
        "# Generates an array of size 3 X 3 containing ones\n",
        "np.ones(shape=(3, 3)) "
      ]
    },
    {
      "cell_type": "code",
      "execution_count": 10,
      "id": "2e5c4085",
      "metadata": {
        "colab": {
          "base_uri": "https://localhost:8080/"
        },
        "id": "2e5c4085",
        "outputId": "da8044b4-0b46-4aac-832b-c3c29afc6ede"
      },
      "outputs": [
        {
          "output_type": "execute_result",
          "data": {
            "text/plain": [
              "array([4.65448579e-310, 0.00000000e+000])"
            ]
          },
          "metadata": {},
          "execution_count": 10
        }
      ],
      "source": [
        "# Create an empty array with 2 elements\n",
        "# The function empty creates an array whose initial content is random and depends on the state of the memory. \n",
        "# The reason to use empty over zeros (or something similar) is speed - just make sure to fill every element afterwards!\n",
        "\n",
        "np.empty(2)"
      ]
    },
    {
      "cell_type": "code",
      "execution_count": 11,
      "id": "20c7664f",
      "metadata": {
        "colab": {
          "base_uri": "https://localhost:8080/"
        },
        "id": "20c7664f",
        "outputId": "50fcf700-49d3-49ad-ce01-f91f534176d8"
      },
      "outputs": [
        {
          "output_type": "execute_result",
          "data": {
            "text/plain": [
              "array([ 0,  2,  5,  7, 10])"
            ]
          },
          "metadata": {},
          "execution_count": 11
        }
      ],
      "source": [
        "# Generates an evenly spaced numbers from 0 to 5\n",
        "np.linspace(0,10,num=5,dtype=np.int64)"
      ]
    },
    {
      "cell_type": "code",
      "execution_count": 12,
      "id": "2b00996c",
      "metadata": {
        "colab": {
          "base_uri": "https://localhost:8080/"
        },
        "id": "2b00996c",
        "outputId": "a12f8fe8-33a8-4bd2-e7e3-8f789eb9b25e"
      },
      "outputs": [
        {
          "output_type": "execute_result",
          "data": {
            "text/plain": [
              "array([[1., 0., 0.],\n",
              "       [0., 1., 0.],\n",
              "       [0., 0., 1.]])"
            ]
          },
          "metadata": {},
          "execution_count": 12
        }
      ],
      "source": [
        "# Generates a 2-D array with ones on the diagonal and zeros elsewhere\n",
        "np.eye(N=3,M=3)"
      ]
    },
    {
      "cell_type": "markdown",
      "id": "10da01e7",
      "metadata": {
        "id": "10da01e7"
      },
      "source": [
        "<a name = Section2></a>\n",
        "# **2. Random Array Initialization**\n",
        "---\n",
        "\n",
        "- In this section we are going to see how to populate array with random numbers.\n",
        "\n",
        "- We will get to know about the following two function of numpy:\n",
        "\n",
        "  - **.random.rand():** Create an array of the given shape and populate it with random samples from a uniform distribution over [0, 1).\n",
        "\n",
        "  - **.random.randn():** Return a sample (or samples) from the “standard normal” distribution of mean 0 and variance 1."
      ]
    },
    {
      "cell_type": "code",
      "execution_count": 13,
      "id": "5aa39bf5",
      "metadata": {
        "colab": {
          "base_uri": "https://localhost:8080/"
        },
        "id": "5aa39bf5",
        "outputId": "e0e188ec-0598-408f-c951-cd28052f08fe"
      },
      "outputs": [
        {
          "output_type": "execute_result",
          "data": {
            "text/plain": [
              "array([0.19822288, 0.1658819 , 0.91025145, 0.23601578, 0.8962851 ])"
            ]
          },
          "metadata": {},
          "execution_count": 13
        }
      ],
      "source": [
        "# Generates an array of 5 random values\n",
        "np.random.rand(5)"
      ]
    },
    {
      "cell_type": "code",
      "execution_count": 14,
      "id": "1569af78",
      "metadata": {
        "colab": {
          "base_uri": "https://localhost:8080/"
        },
        "id": "1569af78",
        "outputId": "35fbdf17-f556-4cc6-c450-bd07f465f719"
      },
      "outputs": [
        {
          "output_type": "execute_result",
          "data": {
            "text/plain": [
              "array([[0.62744681, 0.67363914, 0.8972794 , 0.46940818, 0.4402532 ],\n",
              "       [0.70493715, 0.78765542, 0.21422775, 0.83932887, 0.06689476],\n",
              "       [0.13282013, 0.99527784, 0.35359242, 0.17748962, 0.30506537],\n",
              "       [0.74438003, 0.26754608, 0.46950228, 0.35346951, 0.77599339],\n",
              "       [0.69396463, 0.10333725, 0.61874764, 0.42086023, 0.95178085]])"
            ]
          },
          "metadata": {},
          "execution_count": 14
        }
      ],
      "source": [
        "# Generates an array of random values having resolution of 5 X 5\n",
        "np.random.rand(5,5)"
      ]
    },
    {
      "cell_type": "code",
      "execution_count": 15,
      "id": "61a57a66",
      "metadata": {
        "colab": {
          "base_uri": "https://localhost:8080/"
        },
        "id": "61a57a66",
        "outputId": "f27bc1fe-3764-4637-da5d-cbef928af699"
      },
      "outputs": [
        {
          "output_type": "execute_result",
          "data": {
            "text/plain": [
              "array([[-0.76114221,  0.00163844,  1.1774952 , -1.46809069],\n",
              "       [-1.26090044, -1.1181793 , -0.52383818,  0.18832283],\n",
              "       [-0.12900558, -0.91138372, -0.41159238,  0.13912695],\n",
              "       [-1.19889532,  0.07252674,  0.07392714,  1.32639539]])"
            ]
          },
          "metadata": {},
          "execution_count": 15
        }
      ],
      "source": [
        "# Generates an array of random values having resolution of 4 X 4\n",
        "np.random.randn(4,4)"
      ]
    },
    {
      "cell_type": "code",
      "execution_count": 16,
      "id": "1aa5f475",
      "metadata": {
        "colab": {
          "base_uri": "https://localhost:8080/"
        },
        "id": "1aa5f475",
        "outputId": "b0e8c721-d4ec-4229-8e86-d0be875ed168"
      },
      "outputs": [
        {
          "output_type": "stream",
          "name": "stdout",
          "text": [
            "Random Array [0.34932562 0.30448289 0.55413289 0.13537695 0.51201892 0.57596077]\n",
            "Array Resolution: 1\n"
          ]
        },
        {
          "output_type": "execute_result",
          "data": {
            "text/plain": [
              "array([[0.34932562, 0.30448289],\n",
              "       [0.55413289, 0.13537695],\n",
              "       [0.51201892, 0.57596077]])"
            ]
          },
          "metadata": {},
          "execution_count": 16
        }
      ],
      "source": [
        "# Generates an array of 6 random values\n",
        "rand_array = np.random.rand(6)\n",
        "\n",
        "# Display array containing random values\n",
        "print('Random Array', rand_array)\n",
        "\n",
        "# Display the resolution of the rand_array variable\n",
        "print('Array Resolution:', rand_array.ndim)\n",
        "\n",
        "# Reshape the 1-D array to 3 X 2 array and output the result\n",
        "rand_array.reshape(3, 2) "
      ]
    },
    {
      "cell_type": "code",
      "execution_count": 17,
      "id": "ee5fc6a8",
      "metadata": {
        "colab": {
          "base_uri": "https://localhost:8080/"
        },
        "id": "ee5fc6a8",
        "outputId": "2be2ef9d-bb51-4f81-8f36-6edee6b78021"
      },
      "outputs": [
        {
          "output_type": "execute_result",
          "data": {
            "text/plain": [
              "array([[0.34932562, 0.30448289, 0.55413289, 0.13537695, 0.51201892,\n",
              "        0.57596077]])"
            ]
          },
          "metadata": {},
          "execution_count": 17
        }
      ],
      "source": [
        "# With np.reshape, you can specify a few optional parameters:\n",
        "np.reshape(rand_array, newshape=(1, 6), order='C')"
      ]
    },
    {
      "cell_type": "markdown",
      "id": "445c7e33",
      "metadata": {
        "id": "445c7e33"
      },
      "source": [
        "a - is the array to be reshaped.\n",
        "\n",
        "newshape - is the new shape you want. You can specify an integer or a tuple of integers. If you specify an integer, the result will be an array of that length. The shape should be compatible with the original shape.\n",
        "\n",
        "order - C means to read/write the elements using C-like index order, F means to read/write the elements using Fortran-like index order, A means to read/write the elements in Fortran-like index order if a is Fortran contiguous in memory, C-like order otherwise. (This is an optional parameter and doesn’t need to be specified.)"
      ]
    },
    {
      "cell_type": "markdown",
      "id": "003aa8b9",
      "metadata": {
        "id": "003aa8b9"
      },
      "source": [
        "**Observation:**\n",
        "\n",
        "- In various applications(like assigning weights in **Artificial Neural Networks**) arrays need to be initialized randomly."
      ]
    },
    {
      "cell_type": "markdown",
      "id": "b7d256a0",
      "metadata": {
        "id": "b7d256a0"
      },
      "source": [
        "<a name = Section3></a>\n",
        "# **3. Numpy Indexing**\n",
        "---\n",
        "\n",
        "- In this section we will show how numpy based elements are indexed and how to access these elements."
      ]
    },
    {
      "cell_type": "code",
      "execution_count": 18,
      "id": "62a1073a",
      "metadata": {
        "colab": {
          "base_uri": "https://localhost:8080/"
        },
        "id": "62a1073a",
        "outputId": "51f295b7-7081-4058-8c58-b657b2a9a689"
      },
      "outputs": [
        {
          "output_type": "stream",
          "name": "stdout",
          "text": [
            "Full Array: [ 0  1  2  3  4  5  6  7  8  9 10]\n",
            "First element: 1\n"
          ]
        }
      ],
      "source": [
        "# Creating an array of 10 values ranging from 0 to 11\n",
        "my_array=np.arange(11)\n",
        "\n",
        "# Display the array elements\n",
        "print('Full Array:', my_array)\n",
        "\n",
        "# Display the element present at index 1\n",
        "print('First element:', my_array[1])"
      ]
    },
    {
      "cell_type": "markdown",
      "id": "3b6515e8",
      "metadata": {
        "id": "3b6515e8"
      },
      "source": [
        "**Observation:**\n",
        "\n",
        "- We just saw that we can access individual elements of an array by calling them by their indices."
      ]
    },
    {
      "cell_type": "markdown",
      "id": "2f59ae28",
      "metadata": {
        "id": "2f59ae28"
      },
      "source": [
        "<a name = Section31></a>\n",
        "## **3.1 Array Slicing**\n",
        "\n",
        "- To access more than one element of an array use slicing operations."
      ]
    },
    {
      "cell_type": "code",
      "execution_count": 19,
      "id": "cce2f75d",
      "metadata": {
        "colab": {
          "base_uri": "https://localhost:8080/"
        },
        "id": "cce2f75d",
        "outputId": "31080ee2-9421-4ba6-dbdd-590e0b69d95f"
      },
      "outputs": [
        {
          "output_type": "stream",
          "name": "stdout",
          "text": [
            "Full Array: [ 0  1  2  3  4  5  6  7  8  9 10]\n"
          ]
        }
      ],
      "source": [
        "# Creating an array of 10 values ranging from 0 to 11\n",
        "my_arr = np.arange(0, 11, 1)\n",
        "\n",
        "# Display the array elements\n",
        "print('Full Array:', my_arr)"
      ]
    },
    {
      "cell_type": "code",
      "execution_count": 20,
      "id": "05064f5d",
      "metadata": {
        "colab": {
          "base_uri": "https://localhost:8080/"
        },
        "id": "05064f5d",
        "outputId": "e0cc4bf6-7359-482b-9e98-fd905903b200"
      },
      "outputs": [
        {
          "output_type": "execute_result",
          "data": {
            "text/plain": [
              "array([1, 2, 3, 4])"
            ]
          },
          "metadata": {},
          "execution_count": 20
        }
      ],
      "source": [
        "# Accessing elements ranging from index 1 to 5\n",
        "my_arr[1:5]"
      ]
    },
    {
      "cell_type": "markdown",
      "id": "bd9084cb",
      "metadata": {
        "id": "bd9084cb"
      },
      "source": [
        "- **Note:** The first element that is extracted is of index 1 and the last element to be extracted is of index 5-1=4."
      ]
    },
    {
      "cell_type": "code",
      "execution_count": 21,
      "id": "494a021d",
      "metadata": {
        "colab": {
          "base_uri": "https://localhost:8080/"
        },
        "id": "494a021d",
        "outputId": "cfb3b273-185c-4e19-eba0-5dd770476eee"
      },
      "outputs": [
        {
          "output_type": "execute_result",
          "data": {
            "text/plain": [
              "array([ 8,  9, 10])"
            ]
          },
          "metadata": {},
          "execution_count": 21
        }
      ],
      "source": [
        "# Accessing elements ranging from index 8 onwards\n",
        "my_arr[8:]"
      ]
    },
    {
      "cell_type": "code",
      "execution_count": 22,
      "id": "5dd64a00",
      "metadata": {
        "colab": {
          "base_uri": "https://localhost:8080/"
        },
        "id": "5dd64a00",
        "outputId": "ba57bea4-c0c4-4fc9-cc5b-d7fa088f97dc"
      },
      "outputs": [
        {
          "output_type": "execute_result",
          "data": {
            "text/plain": [
              "array([0, 1, 2, 3, 4, 5])"
            ]
          },
          "metadata": {},
          "execution_count": 22
        }
      ],
      "source": [
        "# Accessing elements ranging till index 6\n",
        "my_arr[:6]"
      ]
    },
    {
      "cell_type": "markdown",
      "id": "084d19d0",
      "metadata": {
        "id": "084d19d0"
      },
      "source": [
        "- **Note:** Numpy arrays are **mutable**. It implies that you can change the values of the array."
      ]
    },
    {
      "cell_type": "code",
      "execution_count": 23,
      "id": "4c39be9b",
      "metadata": {
        "id": "4c39be9b"
      },
      "outputs": [],
      "source": [
        "# Mapping value -5 ranging index 0 to 5\n",
        "my_arr[0:5]=-5"
      ]
    },
    {
      "cell_type": "code",
      "execution_count": 24,
      "id": "c9f5bedf",
      "metadata": {
        "colab": {
          "base_uri": "https://localhost:8080/"
        },
        "id": "c9f5bedf",
        "outputId": "bc35373a-9e2b-4a8a-c259-91ad6c13d6bb"
      },
      "outputs": [
        {
          "output_type": "execute_result",
          "data": {
            "text/plain": [
              "array([-5, -5, -5, -5, -5,  5,  6,  7,  8,  9, 10])"
            ]
          },
          "metadata": {},
          "execution_count": 24
        }
      ],
      "source": [
        "my_arr"
      ]
    },
    {
      "cell_type": "markdown",
      "id": "356e3751",
      "metadata": {
        "id": "356e3751"
      },
      "source": [
        "- You can also perform slicing operations on 2-D array."
      ]
    },
    {
      "cell_type": "code",
      "execution_count": 25,
      "id": "c6291eb9",
      "metadata": {
        "id": "c6291eb9"
      },
      "outputs": [],
      "source": [
        "# Initializing an array of resolution 4 X 3\n",
        "arr2d = np.array([[1,2,3],\n",
        "                [4,5,6],\n",
        "                [7,8,9],\n",
        "                [10,11,12]])"
      ]
    },
    {
      "cell_type": "code",
      "execution_count": 26,
      "id": "ac11124e",
      "metadata": {
        "colab": {
          "base_uri": "https://localhost:8080/"
        },
        "id": "ac11124e",
        "outputId": "dec0fb7f-825e-48a4-89aa-ef83da85b642"
      },
      "outputs": [
        {
          "output_type": "execute_result",
          "data": {
            "text/plain": [
              "array([[ 1,  2,  3],\n",
              "       [ 4,  5,  6],\n",
              "       [ 7,  8,  9],\n",
              "       [10, 11, 12]])"
            ]
          },
          "metadata": {},
          "execution_count": 26
        }
      ],
      "source": [
        "# Ouput the 2-D array\n",
        "arr2d"
      ]
    },
    {
      "cell_type": "code",
      "execution_count": 27,
      "id": "ad8ac232",
      "metadata": {
        "id": "ad8ac232"
      },
      "outputs": [],
      "source": [
        "# It could also be achieved using arange(0, 12), and then using reshape(4, 3)\n",
        "arr2d = np.arange(12).reshape(4,3)"
      ]
    },
    {
      "cell_type": "code",
      "execution_count": 28,
      "id": "b30f7876",
      "metadata": {
        "colab": {
          "base_uri": "https://localhost:8080/"
        },
        "id": "b30f7876",
        "outputId": "b85c5b63-f276-44bd-89de-eaf379426b13"
      },
      "outputs": [
        {
          "output_type": "execute_result",
          "data": {
            "text/plain": [
              "array([[ 0,  1,  2],\n",
              "       [ 3,  4,  5],\n",
              "       [ 6,  7,  8],\n",
              "       [ 9, 10, 11]])"
            ]
          },
          "metadata": {},
          "execution_count": 28
        }
      ],
      "source": [
        "arr2d"
      ]
    },
    {
      "cell_type": "code",
      "execution_count": 29,
      "id": "9850062a",
      "metadata": {
        "colab": {
          "base_uri": "https://localhost:8080/"
        },
        "id": "9850062a",
        "outputId": "979d4826-edfe-4937-bf52-23bb546d6c47"
      },
      "outputs": [
        {
          "output_type": "execute_result",
          "data": {
            "text/plain": [
              "2"
            ]
          },
          "metadata": {},
          "execution_count": 29
        }
      ],
      "source": [
        "# Accessing element present at 0th row and 2nd column\n",
        "arr2d[0,2]"
      ]
    },
    {
      "cell_type": "code",
      "execution_count": 30,
      "id": "3b3436c8",
      "metadata": {
        "colab": {
          "base_uri": "https://localhost:8080/"
        },
        "id": "3b3436c8",
        "outputId": "ac04fb36-4c4b-4900-ed1a-185498f9ed9a"
      },
      "outputs": [
        {
          "output_type": "execute_result",
          "data": {
            "text/plain": [
              "array([[0, 1],\n",
              "       [3, 4]])"
            ]
          },
          "metadata": {},
          "execution_count": 30
        }
      ],
      "source": [
        "# Accessing elements from rows (1st and 2nd) and columns (1st and 2nd)\n",
        "arr2d[0:2,0:2]"
      ]
    },
    {
      "cell_type": "code",
      "execution_count": 31,
      "id": "4207647c",
      "metadata": {
        "colab": {
          "base_uri": "https://localhost:8080/"
        },
        "id": "4207647c",
        "outputId": "e2daeea7-f4c8-42f4-9476-d5ae7c6e98e8"
      },
      "outputs": [
        {
          "output_type": "execute_result",
          "data": {
            "text/plain": [
              "array([[1, 2],\n",
              "       [4, 5]])"
            ]
          },
          "metadata": {},
          "execution_count": 31
        }
      ],
      "source": [
        "# Accessing elements from rows (till 2nd) and columns (1st onwards)\n",
        "arr2d[:2,1:]"
      ]
    },
    {
      "cell_type": "markdown",
      "id": "89bcc7a5",
      "metadata": {
        "id": "89bcc7a5"
      },
      "source": [
        "**Observation:**\n",
        "\n",
        "- So, through these examples we have seen that we can access one or multiple elements of an array using slicing.\n",
        "\n",
        "- Also at times when needed we can extract subarrays from an array."
      ]
    },
    {
      "cell_type": "markdown",
      "id": "e6850c89",
      "metadata": {
        "id": "e6850c89"
      },
      "source": [
        "<a name = Section32></a>\n",
        "## **3.2 Conditional Array Indexing**\n",
        "\n",
        "- Here, we will observe how to **filter** element of an **array** based on some conditions.\n",
        "\n",
        "- First, we need to create a **boolean array** based on an conditional statement using **conditional operators** for comparison.\n",
        "\n",
        "- Then this boolean array is passed as index of the original array to return the filtered elements."
      ]
    },
    {
      "cell_type": "code",
      "execution_count": 32,
      "id": "8e998145",
      "metadata": {
        "colab": {
          "base_uri": "https://localhost:8080/"
        },
        "id": "8e998145",
        "outputId": "d569e6c5-99ef-433f-f3b0-2093728d922d"
      },
      "outputs": [
        {
          "output_type": "stream",
          "name": "stdout",
          "text": [
            "Elements: [1 2 3 4 5 6]\n"
          ]
        },
        {
          "output_type": "execute_result",
          "data": {
            "text/plain": [
              "array([False, False,  True,  True,  True,  True])"
            ]
          },
          "metadata": {},
          "execution_count": 32
        }
      ],
      "source": [
        "# Create a list of elements\n",
        "my_list=[1,2,3,4,5,6]\n",
        "\n",
        "# Cast to numpy array\n",
        "arr = np.array(object=my_list)\n",
        "\n",
        "# Display the array elements\n",
        "print(\"Elements:\",arr)\n",
        "\n",
        "# Output boolean values (True for element greater than 2)\n",
        "arr>2"
      ]
    },
    {
      "cell_type": "code",
      "execution_count": 33,
      "id": "ddc1dc86",
      "metadata": {
        "colab": {
          "base_uri": "https://localhost:8080/"
        },
        "id": "ddc1dc86",
        "outputId": "991318de-a07e-4f65-9390-7a5068ab0db8"
      },
      "outputs": [
        {
          "output_type": "stream",
          "name": "stdout",
          "text": [
            "Array: [ 2  3  4  5  6  7  8  9 10 11 12 13 14]\n",
            "Length: 13\n"
          ]
        }
      ],
      "source": [
        "# Initialize an array ranging from 2 to 15\n",
        "my_array = np.arange(2,15)\n",
        "\n",
        "# Display the elements of an array\n",
        "print('Array:', my_array)\n",
        "\n",
        "# Display the lenght of array\n",
        "print('Length:',len(my_array))\n"
      ]
    },
    {
      "cell_type": "code",
      "execution_count": 34,
      "id": "4026a6f7",
      "metadata": {
        "colab": {
          "base_uri": "https://localhost:8080/"
        },
        "id": "4026a6f7",
        "outputId": "0502c335-98cb-458c-bb53-63ddd27c8c0e"
      },
      "outputs": [
        {
          "output_type": "execute_result",
          "data": {
            "text/plain": [
              "array([2, 4, 6])"
            ]
          },
          "metadata": {},
          "execution_count": 34
        }
      ],
      "source": [
        "# Example 1: Output elements that have True as condition\n",
        "my_array[[True, False, True, False, True, False, False, False, False, False, False, False, False]]"
      ]
    },
    {
      "cell_type": "code",
      "execution_count": 35,
      "id": "34a633d6",
      "metadata": {
        "colab": {
          "base_uri": "https://localhost:8080/"
        },
        "id": "34a633d6",
        "outputId": "8366ea39-b4b8-4d01-b978-9fc4a72e2da4"
      },
      "outputs": [
        {
          "output_type": "execute_result",
          "data": {
            "text/plain": [
              "array([ 9, 10, 11, 12, 13, 14])"
            ]
          },
          "metadata": {},
          "execution_count": 35
        }
      ],
      "source": [
        "# Example 2: Output elements that have True as condition\n",
        "my_array[[False, False, False, False, False, False, False, True, True, True, True, True, True]]"
      ]
    },
    {
      "cell_type": "code",
      "execution_count": 36,
      "id": "bc27884d",
      "metadata": {
        "colab": {
          "base_uri": "https://localhost:8080/"
        },
        "id": "bc27884d",
        "outputId": "6dc5588f-b590-4af0-f55b-9cd1b60711e6"
      },
      "outputs": [
        {
          "output_type": "execute_result",
          "data": {
            "text/plain": [
              "array([False, False, False, False, False, False, False,  True,  True,\n",
              "        True,  True,  True,  True])"
            ]
          },
          "metadata": {},
          "execution_count": 36
        }
      ],
      "source": [
        "# Output boolean values (True for element greater than 8)\n",
        "my_array>8"
      ]
    },
    {
      "cell_type": "code",
      "execution_count": 37,
      "id": "37cf67cf",
      "metadata": {
        "colab": {
          "base_uri": "https://localhost:8080/"
        },
        "id": "37cf67cf",
        "outputId": "bceb56d6-bd25-4d0b-86a0-75f73c3e9ec0"
      },
      "outputs": [
        {
          "output_type": "execute_result",
          "data": {
            "text/plain": [
              "array([ 9, 10, 11, 12, 13, 14])"
            ]
          },
          "metadata": {},
          "execution_count": 37
        }
      ],
      "source": [
        "# Output actual values based on the condition passed (elements greater than 8)\n",
        "my_array[my_array>8]"
      ]
    },
    {
      "cell_type": "code",
      "execution_count": 38,
      "id": "8b10438c",
      "metadata": {
        "colab": {
          "base_uri": "https://localhost:8080/"
        },
        "id": "8b10438c",
        "outputId": "50887f4b-72ad-4380-bd05-5beff92e158a"
      },
      "outputs": [
        {
          "output_type": "execute_result",
          "data": {
            "text/plain": [
              "array([3, 6])"
            ]
          },
          "metadata": {},
          "execution_count": 38
        }
      ],
      "source": [
        "# Output values present at index 1 and 4\n",
        "my_array[[1,4]]"
      ]
    },
    {
      "cell_type": "code",
      "execution_count": 39,
      "id": "d23f9aa4",
      "metadata": {
        "colab": {
          "base_uri": "https://localhost:8080/"
        },
        "id": "d23f9aa4",
        "outputId": "a3ea89b6-dfcf-4a67-a4bc-53ee1e9e2984"
      },
      "outputs": [
        {
          "output_type": "execute_result",
          "data": {
            "text/plain": [
              "array([3, 6])"
            ]
          },
          "metadata": {},
          "execution_count": 39
        }
      ],
      "source": [
        "# Output elements that have True as condition\n",
        "my_array[[False, True, False, False, True, False, False, False, False, False, False, False, False]]"
      ]
    },
    {
      "cell_type": "markdown",
      "id": "0c402bd2",
      "metadata": {
        "id": "0c402bd2"
      },
      "source": [
        "**Observation:**\n",
        "\n",
        "- Use conditional indexing to filter out some values like null or outliers in an array.\n",
        "\n",
        "- Given below is a table where you can see what are the various operators available in Python.\n",
        "\n",
        "<center><img src=\"https://www.oreilly.com/library/view/visual-basic-2012/9781118332085/images/f253-01.jpg\"></center>"
      ]
    },
    {
      "cell_type": "markdown",
      "id": "08b4de51",
      "metadata": {
        "id": "08b4de51"
      },
      "source": [
        "---\n",
        "<a name = Section4></a>\n",
        "# **4. Numpy Array Operations**\n",
        "---\n",
        "\n",
        "- In this section we will observe various arithmatic operations on numpy arrays."
      ]
    },
    {
      "cell_type": "markdown",
      "id": "2f6613c2",
      "metadata": {
        "id": "2f6613c2"
      },
      "source": [
        "<a name = Section41></a>\n",
        "## **4.1 Numpy Broadcasting**\n",
        "\n",
        "- The term broadcasting describes **how numpy treats arrays** with **different shapes** during arithmetic operations. \n",
        "\n",
        "- Subject to certain constraints, the smaller array is “broadcast” across the larger array so that they have compatible shapes.\n",
        "\n",
        "- Broadcasting provides a means of **vectorizing array operations** so that looping occurs in C instead of Python. \n",
        "\n",
        "- It does this **without** making **needless copies of data** and usually leads to efficient algorithm implementations. \n",
        "\n",
        "- There are, however, cases where broadcasting is a bad idea because it leads to inefficient use of memory that slows computation.\n",
        "\n",
        "- NumPy operations are usually done on pairs of arrays on an element-by-element basis. \n",
        "\n",
        "- In the simplest case, the two arrays must have exactly the same shape, as in the following example:"
      ]
    },
    {
      "cell_type": "code",
      "execution_count": 40,
      "id": "d2cecf27",
      "metadata": {
        "colab": {
          "base_uri": "https://localhost:8080/"
        },
        "id": "d2cecf27",
        "outputId": "7cf2a771-7340-4e33-cd2d-26d9b222fcab"
      },
      "outputs": [
        {
          "output_type": "execute_result",
          "data": {
            "text/plain": [
              "array([2., 4., 6.])"
            ]
          },
          "metadata": {},
          "execution_count": 40
        }
      ],
      "source": [
        "# First array of three elements\n",
        "a = np.array([1.0, 2.0, 3.0])\n",
        "\n",
        "# Second array of three elements\n",
        "b = np.array([2.0, 2.0, 2.0])\n",
        "\n",
        "# Output the result of broadcasting\n",
        "a*b"
      ]
    },
    {
      "cell_type": "code",
      "execution_count": 41,
      "id": "6a59a407",
      "metadata": {
        "colab": {
          "base_uri": "https://localhost:8080/"
        },
        "id": "6a59a407",
        "outputId": "88b1c3a1-8b85-47ea-8185-859c00d4a3af"
      },
      "outputs": [
        {
          "output_type": "execute_result",
          "data": {
            "text/plain": [
              "array([3., 4., 5.])"
            ]
          },
          "metadata": {},
          "execution_count": 41
        }
      ],
      "source": [
        "# Output the result of broadcasting\n",
        "a+b"
      ]
    },
    {
      "cell_type": "markdown",
      "id": "d2d9b37c",
      "metadata": {
        "id": "d2d9b37c"
      },
      "source": [
        "- NumPy’s broadcasting rule relaxes this constraint when the arrays’ shapes meet certain constraints. \n",
        "\n",
        "- The simplest broadcasting example occurs when an array and a scalar value are combined in an operation:"
      ]
    },
    {
      "cell_type": "code",
      "execution_count": 42,
      "id": "08e2b93e",
      "metadata": {
        "colab": {
          "base_uri": "https://localhost:8080/"
        },
        "id": "08e2b93e",
        "outputId": "badefa06-f75f-4a83-d987-fd1d6ec710c5"
      },
      "outputs": [
        {
          "output_type": "execute_result",
          "data": {
            "text/plain": [
              "array([2., 4., 6.])"
            ]
          },
          "metadata": {},
          "execution_count": 42
        }
      ],
      "source": [
        "# An array of three elements\n",
        "a = np.array([1.0, 2.0, 3.0])\n",
        "\n",
        "\n",
        "# Initialize variable with scalar value\n",
        "b = 2.0\n",
        "\n",
        "# Output the result of broadcasting\n",
        "a * b"
      ]
    },
    {
      "cell_type": "code",
      "execution_count": 43,
      "id": "1d467f7a",
      "metadata": {
        "colab": {
          "base_uri": "https://localhost:8080/"
        },
        "id": "1d467f7a",
        "outputId": "7e3a25c6-bf46-4367-f9b5-5118a6a4eb9a"
      },
      "outputs": [
        {
          "output_type": "stream",
          "name": "stdout",
          "text": [
            "Shape of Array: (4, 3)\n"
          ]
        },
        {
          "output_type": "execute_result",
          "data": {
            "text/plain": [
              "array([[ 1,  2,  3],\n",
              "       [ 4,  5,  6],\n",
              "       [ 7,  8,  9],\n",
              "       [10, 11, 12]])"
            ]
          },
          "metadata": {},
          "execution_count": 43
        }
      ],
      "source": [
        "# Initialized array of resolution 4 X 3\n",
        "my_arr = np.arange(1,13).reshape(4,3)\n",
        "\n",
        "# Initialize scaler with a constant value\n",
        "scalar = 3\n",
        "\n",
        "# Display the shape of 2-D array\n",
        "print('Shape of Array:', my_arr.shape)\n",
        "\n",
        "# Output the 2-D array\n",
        "my_arr"
      ]
    },
    {
      "cell_type": "code",
      "execution_count": 44,
      "id": "bd5d498f",
      "metadata": {
        "colab": {
          "base_uri": "https://localhost:8080/"
        },
        "id": "bd5d498f",
        "outputId": "88b82645-bb9e-4d7d-b6f3-689785316c68"
      },
      "outputs": [
        {
          "output_type": "execute_result",
          "data": {
            "text/plain": [
              "array([[ 4,  5,  6],\n",
              "       [ 7,  8,  9],\n",
              "       [10, 11, 12],\n",
              "       [13, 14, 15]])"
            ]
          },
          "metadata": {},
          "execution_count": 44
        }
      ],
      "source": [
        "# Output of broadcasting scalar value to the array\n",
        "my_arr + scalar"
      ]
    },
    {
      "cell_type": "markdown",
      "id": "518d4d9a",
      "metadata": {
        "id": "518d4d9a"
      },
      "source": [
        "**Observation:**\n",
        "\n",
        "- We can observe that scalar is stretched and is added to all of the elements of an array."
      ]
    },
    {
      "cell_type": "code",
      "execution_count": 45,
      "id": "6c66e065",
      "metadata": {
        "colab": {
          "base_uri": "https://localhost:8080/"
        },
        "id": "6c66e065",
        "outputId": "6a2b6032-250e-478d-805f-1e8e2c2d7bdf"
      },
      "outputs": [
        {
          "output_type": "stream",
          "name": "stdout",
          "text": [
            "shape: (3,)\n"
          ]
        },
        {
          "output_type": "execute_result",
          "data": {
            "text/plain": [
              "array([10, 10, 10])"
            ]
          },
          "metadata": {},
          "execution_count": 45
        }
      ],
      "source": [
        "# Initialized 1-D array\n",
        "arr_1d = np.array([10, 10, 10])\n",
        "\n",
        "# Display the shape of 1-D array\n",
        "print('shape:', arr_1d.shape)\n",
        "\n",
        "# Output the 1-D array\n",
        "arr_1d"
      ]
    },
    {
      "cell_type": "code",
      "execution_count": 46,
      "id": "5b96105c",
      "metadata": {
        "colab": {
          "base_uri": "https://localhost:8080/"
        },
        "id": "5b96105c",
        "outputId": "a390d385-8ea0-4cf2-d1e5-fde8a9eadf94"
      },
      "outputs": [
        {
          "output_type": "execute_result",
          "data": {
            "text/plain": [
              "array([[11, 12, 13],\n",
              "       [14, 15, 16],\n",
              "       [17, 18, 19],\n",
              "       [20, 21, 22]])"
            ]
          },
          "metadata": {},
          "execution_count": 46
        }
      ],
      "source": [
        "# Ouput broadcasted values to the 2-D array\n",
        "my_arr + arr_1d"
      ]
    },
    {
      "cell_type": "markdown",
      "id": "dc75fd81",
      "metadata": {
        "id": "dc75fd81"
      },
      "source": [
        "**Observation:**\n",
        "\n",
        "- We observed that array with lower dimension i.e. arr_1d is stretched such that it matches the dimensions of arr_2d.\n",
        "\n",
        "- Let's learn it better with one diagramatic example.\n",
        "\n",
        "<center><img src=\"https://github.com/insaid2018/Term-1/blob/master/Images/broadcasting.png?raw=true\"></center>"
      ]
    },
    {
      "cell_type": "markdown",
      "id": "bc1704bf",
      "metadata": {
        "id": "bc1704bf"
      },
      "source": [
        "- From the above image you can see how and when the **data** is **stretched** to carry out the mathematical operations. \n",
        "\n",
        "- Here we have performed addition on arrays of varying dimensions. Always Remember to stretch the data as per the __broadcasting rules.__\n",
        "\n",
        "- Now lets look at a different shape of array."
      ]
    },
    {
      "cell_type": "code",
      "execution_count": 47,
      "id": "61a7d8e2",
      "metadata": {
        "colab": {
          "base_uri": "https://localhost:8080/"
        },
        "id": "61a7d8e2",
        "outputId": "c6dce951-84c8-44ca-dcb5-caf9c00e83d9"
      },
      "outputs": [
        {
          "output_type": "stream",
          "name": "stdout",
          "text": [
            "shape: (1, 4)\n"
          ]
        },
        {
          "output_type": "execute_result",
          "data": {
            "text/plain": [
              "array([[1, 1, 1, 1]])"
            ]
          },
          "metadata": {},
          "execution_count": 47
        }
      ],
      "source": [
        "# Initialized 2-D array\n",
        "arr = np.array([[1, 1, 1, 1]])\n",
        "\n",
        "# Display the shape of 2-D array\n",
        "print('shape:', arr.shape)\n",
        "\n",
        "# Output the 2-D array\n",
        "arr"
      ]
    },
    {
      "cell_type": "code",
      "execution_count": 48,
      "id": "023ef261",
      "metadata": {
        "colab": {
          "base_uri": "https://localhost:8080/",
          "height": 184
        },
        "id": "023ef261",
        "outputId": "297990fa-f083-4dc4-c9cb-8391a092761b"
      },
      "outputs": [
        {
          "output_type": "error",
          "ename": "NameError",
          "evalue": "ignored",
          "traceback": [
            "\u001b[0;31m---------------------------------------------------------------------------\u001b[0m",
            "\u001b[0;31mNameError\u001b[0m                                 Traceback (most recent call last)",
            "\u001b[0;32m<ipython-input-48-d07f081190f3>\u001b[0m in \u001b[0;36m<module>\u001b[0;34m()\u001b[0m\n\u001b[1;32m      1\u001b[0m \u001b[0;31m# Ouput broadcasted values to the 2-D array\u001b[0m\u001b[0;34m\u001b[0m\u001b[0;34m\u001b[0m\u001b[0;34m\u001b[0m\u001b[0m\n\u001b[0;32m----> 2\u001b[0;31m \u001b[0marr_2d\u001b[0m \u001b[0;34m+\u001b[0m \u001b[0marr\u001b[0m\u001b[0;34m\u001b[0m\u001b[0;34m\u001b[0m\u001b[0m\n\u001b[0m",
            "\u001b[0;31mNameError\u001b[0m: name 'arr_2d' is not defined"
          ]
        }
      ],
      "source": [
        "# Ouput broadcasted values to the 2-D array\n",
        "arr_2d + arr"
      ]
    },
    {
      "cell_type": "markdown",
      "id": "f3063293",
      "metadata": {
        "id": "f3063293"
      },
      "source": [
        "**Observation:**\n",
        "\n",
        "- If the **dimensions do not match** it will **throw** an **exception**.\n",
        "\n",
        "- It is **advisable** to **keep a note of the shape** or dimension of the arrays before applying any mathematical operation.\n",
        "\n",
        "- And make sure they satisfy the broadcasting rules else value error may occur."
      ]
    },
    {
      "cell_type": "markdown",
      "id": "c0e8c0c1",
      "metadata": {
        "id": "c0e8c0c1"
      },
      "source": [
        "<a name = Section42></a>\n",
        "## **4.2 Numpy Mathematical Functions**\n",
        "\n",
        "- In this section we will observe faster and optimized mathematicalfunctions that we can apply for large size arrays.\n",
        "\n",
        "- We will try out following functions with respect to an array:\n",
        "\n",
        "  - **.min():** Return the minimum along a given axis.\n",
        "\n",
        "  - **.max():** Return the maximum along a given axis.\n",
        "\n",
        "  - **.argmin():** Returns the indices of the minimum values along an axis.\n",
        "\n",
        "  - **.argmax():** Returns the indices of the maximum values along an axis.\n",
        "\n",
        "  - **.sqrt():** Return the non-negative square-root of an array, element-wise.\n",
        "\n",
        "  - **.mean():** Compute the arithmetic mean along the specified axis.\n",
        "\n",
        "  - **.exp():** Calculate the exponential of all elements in the input array."
      ]
    },
    {
      "cell_type": "code",
      "execution_count": null,
      "id": "dd8f0cbb",
      "metadata": {
        "id": "dd8f0cbb"
      },
      "outputs": [],
      "source": [
        "# Initialize an array of elements ranging from 1 to 11\n",
        "arr= np.arange(1,11)\n",
        "\n",
        "# Output the array\n",
        "arr"
      ]
    },
    {
      "cell_type": "code",
      "execution_count": null,
      "id": "e9559585",
      "metadata": {
        "id": "e9559585"
      },
      "outputs": [],
      "source": [
        "print('Minimum value in an array:', arr.min())\n",
        "print('Maximum value in an array:', arr.max())\n",
        "print('Minimum index in an array:', arr.argmin())\n",
        "print('Maximum index in an array:', arr.argmax())\n",
        "print('Mean of an array:', arr.mean())"
      ]
    },
    {
      "cell_type": "code",
      "execution_count": null,
      "id": "3f010391",
      "metadata": {
        "id": "3f010391"
      },
      "outputs": [],
      "source": [
        "arr = np.array([ 5,  2,  3,  4,  1,  6,  7,  8,  9, 10])"
      ]
    },
    {
      "cell_type": "code",
      "execution_count": null,
      "id": "b83ad732",
      "metadata": {
        "id": "b83ad732"
      },
      "outputs": [],
      "source": [
        "print('Minimum value in an array:', arr.min())\n",
        "print('Maximum value in an array:', arr.max())\n",
        "print('Minimum index in an array:', arr.argmin())\n",
        "print('Maximum index in an array:', arr.argmax())\n",
        "print('Mean of an array:', arr.mean())"
      ]
    },
    {
      "cell_type": "code",
      "execution_count": null,
      "id": "8056a0e2",
      "metadata": {
        "id": "8056a0e2"
      },
      "outputs": [],
      "source": [
        "print('Square Root of elements in an array:', np.sqrt(arr))\n",
        "print('Exponent of elements in an array:', np.exp(arr))"
      ]
    },
    {
      "cell_type": "markdown",
      "id": "e84c2e74",
      "metadata": {
        "id": "e84c2e74"
      },
      "source": [
        "- You can aggregate matrices the same way you aggregated vectors:"
      ]
    },
    {
      "cell_type": "code",
      "execution_count": null,
      "id": "2f12f1d9",
      "metadata": {
        "id": "2f12f1d9"
      },
      "outputs": [],
      "source": [
        "data = np.array([[1, 2], [3, 4], [5, 6]])\n",
        "data"
      ]
    },
    {
      "cell_type": "code",
      "execution_count": null,
      "id": "b6af00c6",
      "metadata": {
        "id": "b6af00c6"
      },
      "outputs": [],
      "source": [
        "data.max()"
      ]
    },
    {
      "cell_type": "code",
      "execution_count": null,
      "id": "a07c0b0c",
      "metadata": {
        "id": "a07c0b0c"
      },
      "outputs": [],
      "source": [
        "data.min()"
      ]
    },
    {
      "cell_type": "code",
      "execution_count": null,
      "id": "9b12899b",
      "metadata": {
        "id": "9b12899b"
      },
      "outputs": [],
      "source": [
        "data.sum()"
      ]
    },
    {
      "cell_type": "markdown",
      "id": "90ae7585",
      "metadata": {
        "id": "90ae7585"
      },
      "source": [
        "- You can aggregate all the values in a matrix and you can aggregate them across columns or rows using the axis parameter:"
      ]
    },
    {
      "cell_type": "code",
      "execution_count": null,
      "id": "2c5420a1",
      "metadata": {
        "id": "2c5420a1"
      },
      "outputs": [],
      "source": [
        "data.max(axis=0)"
      ]
    },
    {
      "cell_type": "code",
      "execution_count": null,
      "id": "850afaf3",
      "metadata": {
        "id": "850afaf3"
      },
      "outputs": [],
      "source": [
        "data.max(axis=1)"
      ]
    },
    {
      "cell_type": "markdown",
      "id": "1bf56a40",
      "metadata": {
        "id": "1bf56a40"
      },
      "source": [
        "**Observation:**\n",
        "\n",
        "- We saw various methods to do various mathematical operations like minimum, maximum, finding mean, finding exponent.\n",
        "\n",
        "- There are more functions available to calculate various statistical parameters."
      ]
    },
    {
      "cell_type": "markdown",
      "id": "7368f7c7",
      "metadata": {
        "id": "7368f7c7"
      },
      "source": [
        "<a name = Section43></a>\n",
        "## **4.3 How to get unique items and counts**"
      ]
    },
    {
      "cell_type": "markdown",
      "id": "4f879307",
      "metadata": {
        "id": "4f879307"
      },
      "source": [
        "- **You can find the unique elements in an array easily with np.unique.**"
      ]
    },
    {
      "cell_type": "code",
      "execution_count": null,
      "id": "a31aa004",
      "metadata": {
        "id": "a31aa004"
      },
      "outputs": [],
      "source": [
        "a = np.array([11, 11, 12, 13, 14, 15, 16, 17, 12, 13, 11, 14, 18, 19, 20])\n",
        "    \n",
        "unique_values = np.unique(a)\n",
        "print(unique_values)"
      ]
    },
    {
      "cell_type": "markdown",
      "id": "63484ddf",
      "metadata": {
        "id": "63484ddf"
      },
      "source": [
        "- **To get the indices of unique values in a NumPy array (an array of first index positions of unique values in the array), just pass the return_index argument in np.unique() as well as your array.**"
      ]
    },
    {
      "cell_type": "code",
      "execution_count": null,
      "id": "778b1fcf",
      "metadata": {
        "id": "778b1fcf"
      },
      "outputs": [],
      "source": [
        "unique_values,unique_index = np.unique(a,return_index=True)\n",
        "\n",
        "print(unique_values)\n",
        "print(unique_index)"
      ]
    },
    {
      "cell_type": "markdown",
      "id": "16d1f081",
      "metadata": {
        "id": "16d1f081"
      },
      "source": [
        "- **You can pass the return_counts argument in np.unique() along with your array to get the frequency count of unique values in a NumPy array.**"
      ]
    },
    {
      "cell_type": "code",
      "execution_count": null,
      "id": "4ba51307",
      "metadata": {
        "id": "4ba51307"
      },
      "outputs": [],
      "source": [
        "unique_values,occurrence_count = np.unique(a, return_counts=True)\n",
        "\n",
        "print(occurrence_count, end=\"\\n\")\n",
        "print(unique_values)"
      ]
    },
    {
      "cell_type": "markdown",
      "id": "f042790d",
      "metadata": {
        "id": "f042790d"
      },
      "source": [
        "- **This also works with 2D arrays! If you start with this array:**"
      ]
    },
    {
      "cell_type": "code",
      "execution_count": null,
      "id": "10eb7fe6",
      "metadata": {
        "id": "10eb7fe6"
      },
      "outputs": [],
      "source": [
        "a_2d = np.array([[1, 2, 3, 4], [5, 6, 7, 8], [9, 10, 11, 12], [1, 2, 3, 4]])"
      ]
    },
    {
      "cell_type": "code",
      "execution_count": null,
      "id": "00a745c0",
      "metadata": {
        "id": "00a745c0"
      },
      "outputs": [],
      "source": [
        "unique_values = np.unique(a_2d)\n",
        "print(unique_values)"
      ]
    },
    {
      "cell_type": "markdown",
      "id": "010b82b4",
      "metadata": {
        "id": "010b82b4"
      },
      "source": [
        "- **If the axis argument isn’t passed, your 2D array will be flattened.**\n",
        "\n",
        "- **If you want to get the unique rows or columns, make sure to pass the axis argument. To find the unique rows, specify axis=0 and for columns, specify axis=1.**"
      ]
    },
    {
      "cell_type": "code",
      "execution_count": null,
      "id": "d05c6ecb",
      "metadata": {
        "id": "d05c6ecb"
      },
      "outputs": [],
      "source": [
        "a_2d"
      ]
    },
    {
      "cell_type": "code",
      "execution_count": null,
      "id": "c81673b4",
      "metadata": {
        "id": "c81673b4"
      },
      "outputs": [],
      "source": [
        "unique_rows = np.unique(a_2d, axis=0)\n",
        "\n",
        "unique_rows"
      ]
    },
    {
      "cell_type": "code",
      "execution_count": null,
      "id": "286209f2",
      "metadata": {
        "id": "286209f2"
      },
      "outputs": [],
      "source": [
        "unique_rows, indices, occurrence_count = np.unique(a_2d, axis=0, return_counts=True, return_index=True)"
      ]
    },
    {
      "cell_type": "code",
      "execution_count": null,
      "id": "4040e685",
      "metadata": {
        "id": "4040e685"
      },
      "outputs": [],
      "source": [
        "print(unique_rows)"
      ]
    },
    {
      "cell_type": "code",
      "execution_count": null,
      "id": "b9d13b72",
      "metadata": {
        "id": "b9d13b72"
      },
      "outputs": [],
      "source": [
        "print(indices)"
      ]
    },
    {
      "cell_type": "code",
      "execution_count": null,
      "id": "b33ea8ba",
      "metadata": {
        "id": "b33ea8ba"
      },
      "outputs": [],
      "source": [
        "print(occurrence_count)"
      ]
    },
    {
      "cell_type": "markdown",
      "id": "c4f2e56c",
      "metadata": {
        "id": "c4f2e56c"
      },
      "source": [
        "<a name = Section44></a>\n",
        "## **4.4 Array Manipulation**\n",
        "\n",
        "- In this section we will see some numpy functions that can change the structure (shape) of an array."
      ]
    },
    {
      "cell_type": "markdown",
      "id": "3121641e",
      "metadata": {
        "id": "3121641e"
      },
      "source": [
        "<a name = Section441></a>\n",
        "### **4.4.1 Array Shape Manipulation**\n",
        "\n",
        "- We will explore following functions that will perform array shape manipulation:\n",
        "\n",
        "  - **.reshape():** Gives a new shape to an array without changing its data.\n",
        "\n",
        "  - **.flatten():** Return a copy of the array collapsed into one dimension.\n",
        "\n",
        "  - **.transpose()**: Reverse or permute the axes of an array and returns the modified array.\n",
        "  \n",
        "  - **.flip()** : Function allows you to flip, or reverse, the contents of an array along an axis."
      ]
    },
    {
      "cell_type": "code",
      "execution_count": null,
      "id": "1ee74e1f",
      "metadata": {
        "id": "1ee74e1f"
      },
      "outputs": [],
      "source": [
        "# Initialize an array of elements ranging from 0 to 116\n",
        "arr = np.arange(0,16)\n",
        "\n",
        "# Output the array\n",
        "arr"
      ]
    },
    {
      "cell_type": "code",
      "execution_count": null,
      "id": "755c4aac",
      "metadata": {
        "id": "755c4aac"
      },
      "outputs": [],
      "source": [
        "# Reshaping array with resolution of 4 X 4 \n",
        "arr_2D = arr.reshape(4, 4)\n",
        "\n",
        "arr_2D"
      ]
    },
    {
      "cell_type": "code",
      "execution_count": null,
      "id": "dc085f52",
      "metadata": {
        "id": "dc085f52"
      },
      "outputs": [],
      "source": [
        "# Transform 2-D array to 1-D array\n",
        "arr_2D.flatten()"
      ]
    },
    {
      "cell_type": "code",
      "execution_count": null,
      "id": "56af6bd3",
      "metadata": {
        "id": "56af6bd3"
      },
      "outputs": [],
      "source": [
        "# Transpose the elements of 2-D array\n",
        "arr_2D.transpose()"
      ]
    },
    {
      "cell_type": "code",
      "execution_count": null,
      "id": "cbca91fd",
      "metadata": {
        "id": "cbca91fd"
      },
      "outputs": [],
      "source": [
        "# Reversing a 1D array\n",
        "\n",
        "arr = np.array([1, 2, 3, 4, 5, 6, 7, 8])\n",
        "reversed_arr = np.flip(arr)\n",
        "print('Reversed Array: ', reversed_arr)"
      ]
    },
    {
      "cell_type": "code",
      "execution_count": null,
      "id": "4c4263c2",
      "metadata": {
        "id": "4c4263c2"
      },
      "outputs": [],
      "source": [
        "# Reversing a 2D array\n",
        "\n",
        "arr_2d = np.array([[1, 2, 3, 4], [5, 6, 7, 8], [9, 10, 11, 12]])\n",
        "reversed_arr = np.flip(arr_2d)\n",
        "\n",
        "print(\"Normal Array:\")\n",
        "print(arr_2d)\n",
        "\n",
        "print(\"Reversed Array\")\n",
        "print(reversed_arr)"
      ]
    },
    {
      "cell_type": "code",
      "execution_count": null,
      "id": "92a2caa8",
      "metadata": {
        "id": "92a2caa8"
      },
      "outputs": [],
      "source": [
        "# Reverse only the rows with:\n",
        "\n",
        "reversed_arr_rows = np.flip(arr_2d, axis=0)\n",
        "print(reversed_arr_rows)"
      ]
    },
    {
      "cell_type": "code",
      "execution_count": null,
      "id": "e11c04e8",
      "metadata": {
        "id": "e11c04e8"
      },
      "outputs": [],
      "source": [
        "# Reverse only the columns with:\n",
        "reversed_arr_columns = np.flip(arr_2d, axis=1)\n",
        "print(reversed_arr_columns)"
      ]
    },
    {
      "cell_type": "code",
      "execution_count": null,
      "id": "5f198186",
      "metadata": {
        "id": "5f198186"
      },
      "outputs": [],
      "source": [
        "# Reverse the contents of only one column or row. \n",
        "# For example, you can reverse the contents of the row at index position 1 (the second row):"
      ]
    },
    {
      "cell_type": "code",
      "execution_count": null,
      "id": "7b933377",
      "metadata": {
        "id": "7b933377"
      },
      "outputs": [],
      "source": [
        "arr_2d[1] = np.flip(arr_2d[1])\n",
        "print(arr_2d)"
      ]
    },
    {
      "cell_type": "code",
      "execution_count": null,
      "id": "8f799217",
      "metadata": {
        "id": "8f799217"
      },
      "outputs": [],
      "source": [
        "arr_2d[:,1] = np.flip(arr_2d[:,1])\n",
        "print(arr_2d)"
      ]
    },
    {
      "cell_type": "markdown",
      "id": "b646cb17",
      "metadata": {
        "id": "b646cb17"
      },
      "source": [
        "<a name = Section442></a>\n",
        "### **4.4.2 Array Merging and Splitting**\n",
        "\n",
        "- We will explore following functions that will perform array merging and splitting:\n",
        "\n",
        "  - **.concatenate():** Join a sequence of arrays along an existing axis.\n",
        "\n",
        "  - **.hsplit():** Split an array into multiple sub-arrays horizontally (column-wise).\n",
        "\n",
        "  - **.vsplit():** Split an array into multiple sub-arrays vertically (row-wise).\n",
        "  \n",
        "  - **.sort():** Sorting an array."
      ]
    },
    {
      "cell_type": "code",
      "execution_count": null,
      "id": "920ffe19",
      "metadata": {
        "id": "920ffe19"
      },
      "outputs": [],
      "source": [
        "# Initialize a first 2-D array of shape 2 X 4\n",
        "arr_x = np.array([[1, 2, 3, 4], \n",
        "                  [5, 6, 7, 8]])\n",
        "\n",
        "# Initialize a second 2-D array of shape 2 X 4\n",
        "arr_y = np.array([[21, 22, 23, 24], \n",
        "                  [25, 26, 27, 28]])"
      ]
    },
    {
      "cell_type": "code",
      "execution_count": null,
      "id": "e6f4f9f7",
      "metadata": {
        "id": "e6f4f9f7"
      },
      "outputs": [],
      "source": [
        "# Concatenation of two 2-D arrays column-wise\n",
        "concat_col_wise = np.concatenate((arr_x, arr_y), axis=1)\n",
        "\n",
        "# Output the result of concatenation of two 2-D arrays column-wise\n",
        "concat_col_wise"
      ]
    },
    {
      "cell_type": "code",
      "execution_count": null,
      "id": "1a49cb30",
      "metadata": {
        "id": "1a49cb30"
      },
      "outputs": [],
      "source": [
        "# Concatenation of two 2-D arrays row-wise\n",
        "concat_row_wise = np.concatenate((arr_x, arr_y), axis=0)\n",
        "\n",
        "# Output the result of concatenation of two 2-D arrays row-wise\n",
        "concat_row_wise"
      ]
    },
    {
      "cell_type": "code",
      "execution_count": null,
      "id": "a0167952",
      "metadata": {
        "id": "a0167952"
      },
      "outputs": [],
      "source": [
        "# Split an array into multiple sub-arrays horizontally (column-wise)\n",
        "horizontal = np.hsplit(ary=concat_row_wise, indices_or_sections=2)\n",
        "\n",
        "# Output the result\n",
        "horizontal"
      ]
    },
    {
      "cell_type": "code",
      "execution_count": null,
      "id": "f922d231",
      "metadata": {
        "id": "f922d231"
      },
      "outputs": [],
      "source": [
        "# Split an array into multiple sub-arrays horizontally (column-wise)\n",
        "verticle = np.vsplit(ary=concat_row_wise, indices_or_sections=2)\n",
        "\n",
        "# Output the result\n",
        "verticle"
      ]
    },
    {
      "cell_type": "markdown",
      "id": "9150ac34",
      "metadata": {
        "id": "9150ac34"
      },
      "source": [
        "- **Sorting an element**"
      ]
    },
    {
      "cell_type": "code",
      "execution_count": null,
      "id": "ec61c903",
      "metadata": {
        "id": "ec61c903"
      },
      "outputs": [],
      "source": [
        "\n",
        "arr = np.array([2, 1, 5, 3, 7, 4, 6, 8])\n",
        "np.sort(arr)"
      ]
    },
    {
      "cell_type": "markdown",
      "id": "083852d9",
      "metadata": {
        "id": "083852d9"
      },
      "source": [
        "In addition to sort, which returns a sorted copy of an array, you can use:\n",
        "\n",
        " - argsort, which is an indirect sort along a specified axis,\n",
        "\n",
        "- lexsort, which is an indirect stable sort on multiple keys,\n",
        "\n",
        "- searchsorted, which will find elements in a sorted array, and\n",
        "\n",
        "- partition, which is a partial sort."
      ]
    },
    {
      "cell_type": "markdown",
      "id": "4701fdca",
      "metadata": {
        "id": "4701fdca"
      },
      "source": [
        "**Observation:**\n",
        "\n",
        "- Using **concatenate** function we can merge arrays **columnwise** and **rowwise**. \n",
        "\n",
        "- Also arrays can be **horizontally** and **vertically** spliited using hsplit and vsplit."
      ]
    },
    {
      "cell_type": "markdown",
      "id": "285a2613",
      "metadata": {
        "id": "285a2613"
      },
      "source": [
        "---\n",
        "<a name = Section5></a>\n",
        "# **5. Conclusion**\n",
        "---\n",
        "\n",
        "- **Numpy** is an **open-source** add-on module to Python.\n",
        "\n",
        "- By using Numpy you can **speed up** your **workflow** operations.\n",
        "\n",
        "- You can **interface** with **other packages** in the Python ecosystem that use Numpy under the hood.\n",
        "\n",
        "- A growing plethora of scientific and mathematical Python-based packages are using NumPy arrays.\n",
        "\n",
        "- It provides common mathematical and numerical routines in pre-compiled, fast functions.\n",
        "\n",
        "- It **provides basic routines** for manipulating large arrays and matrices of numeric data.\n",
        "\n",
        "- NumPy arrays have a fixed size decided at the time of creation. \n",
        "\n",
        "- Changing the size of an array will create a new array and delete the original.\n",
        "\n",
        "- The **elements** in a NumPy array are all **required** to be of the **same data type**, and thus will be the same size in memory.\n",
        "\n",
        "- NumPy arrays **facilitate advanced mathematical** and other types of **operations** on large numbers of data."
      ]
    },
    {
      "cell_type": "code",
      "execution_count": null,
      "id": "cffe81af",
      "metadata": {
        "id": "cffe81af"
      },
      "outputs": [],
      "source": [
        ""
      ]
    }
  ],
  "metadata": {
    "kernelspec": {
      "display_name": "Python 3",
      "language": "python",
      "name": "python3"
    },
    "language_info": {
      "codemirror_mode": {
        "name": "ipython",
        "version": 3
      },
      "file_extension": ".py",
      "mimetype": "text/x-python",
      "name": "python",
      "nbconvert_exporter": "python",
      "pygments_lexer": "ipython3",
      "version": "3.8.8"
    },
    "colab": {
      "name": "Assignment 2 - NumPy Array.ipynb",
      "provenance": [],
      "collapsed_sections": [
        "2f59ae28",
        "e6850c89",
        "c0e8c0c1",
        "7368f7c7",
        "c4f2e56c",
        "3121641e",
        "b646cb17"
      ]
    }
  },
  "nbformat": 4,
  "nbformat_minor": 5
}