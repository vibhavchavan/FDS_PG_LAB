{
  "cells": [
    {
      "cell_type": "markdown",
      "id": "fb6610cd",
      "metadata": {
        "id": "fb6610cd"
      },
      "source": [
        "# <center>DATA AND SAMPLING DISTRIBUTION</center>"
      ]
    },
    {
      "cell_type": "code",
      "execution_count": 6,
      "id": "08434482",
      "metadata": {
        "id": "08434482"
      },
      "outputs": [],
      "source": [
        "import numpy as np\n",
        "import pandas as pd\n",
        "import scipy.stats as stats\n",
        "from scipy.stats import binom\n",
        "import seaborn as sns\n",
        "import pylab\n",
        "\n",
        "import matplotlib.pyplot as plt\n",
        "%matplotlib inline"
      ]
    },
    {
      "cell_type": "code",
      "execution_count": 7,
      "id": "eafe461f",
      "metadata": {
        "id": "eafe461f"
      },
      "outputs": [],
      "source": [
        "loans_income = pd.read_csv('/content/sample_data/loans_income.csv')"
      ]
    },
    {
      "cell_type": "code",
      "execution_count": 8,
      "id": "cf7ccd3d",
      "metadata": {
        "id": "cf7ccd3d"
      },
      "outputs": [],
      "source": [
        "sp500_px = pd.read_csv('/content/sample_data/sp500_px.txt')"
      ]
    },
    {
      "cell_type": "code",
      "execution_count": 9,
      "id": "528ca69c",
      "metadata": {
        "colab": {
          "base_uri": "https://localhost:8080/"
        },
        "id": "528ca69c",
        "outputId": "9b776dc4-bca5-40cf-a85a-68cd91fc6154"
      },
      "outputs": [
        {
          "output_type": "execute_result",
          "data": {
            "text/plain": [
              "(50000, 1)"
            ]
          },
          "metadata": {},
          "execution_count": 9
        }
      ],
      "source": [
        "loans_income.shape"
      ]
    },
    {
      "cell_type": "code",
      "execution_count": 10,
      "id": "483f77d4",
      "metadata": {
        "colab": {
          "base_uri": "https://localhost:8080/"
        },
        "id": "483f77d4",
        "outputId": "c6c30a56-9273-4508-f53a-b6b954d1cc37"
      },
      "outputs": [
        {
          "output_type": "execute_result",
          "data": {
            "text/plain": [
              "(1330, 518)"
            ]
          },
          "metadata": {},
          "execution_count": 10
        }
      ],
      "source": [
        "sp500_px.shape"
      ]
    },
    {
      "cell_type": "code",
      "execution_count": 11,
      "id": "30fc6b60",
      "metadata": {
        "id": "30fc6b60"
      },
      "outputs": [],
      "source": [
        "loans_sample = loans_income.sample(n=1000)"
      ]
    },
    {
      "cell_type": "code",
      "execution_count": 12,
      "id": "5996e6cc",
      "metadata": {
        "colab": {
          "base_uri": "https://localhost:8080/"
        },
        "id": "5996e6cc",
        "outputId": "eef17ceb-de91-43fc-c4c5-a00c7c4ef139"
      },
      "outputs": [
        {
          "output_type": "execute_result",
          "data": {
            "text/plain": [
              "(1000, 1)"
            ]
          },
          "metadata": {},
          "execution_count": 12
        }
      ],
      "source": [
        "loans_sample.shape"
      ]
    },
    {
      "cell_type": "code",
      "execution_count": 13,
      "id": "535624ad",
      "metadata": {
        "colab": {
          "base_uri": "https://localhost:8080/",
          "height": 206
        },
        "id": "535624ad",
        "outputId": "565b9b16-ac6d-4d9b-c1a7-c92def389957"
      },
      "outputs": [
        {
          "output_type": "execute_result",
          "data": {
            "text/html": [
              "<div>\n",
              "<style scoped>\n",
              "    .dataframe tbody tr th:only-of-type {\n",
              "        vertical-align: middle;\n",
              "    }\n",
              "\n",
              "    .dataframe tbody tr th {\n",
              "        vertical-align: top;\n",
              "    }\n",
              "\n",
              "    .dataframe thead th {\n",
              "        text-align: right;\n",
              "    }\n",
              "</style>\n",
              "<table border=\"1\" class=\"dataframe\">\n",
              "  <thead>\n",
              "    <tr style=\"text-align: right;\">\n",
              "      <th></th>\n",
              "      <th>x</th>\n",
              "    </tr>\n",
              "  </thead>\n",
              "  <tbody>\n",
              "    <tr>\n",
              "      <th>33595</th>\n",
              "      <td>70000</td>\n",
              "    </tr>\n",
              "    <tr>\n",
              "      <th>21994</th>\n",
              "      <td>30000</td>\n",
              "    </tr>\n",
              "    <tr>\n",
              "      <th>44049</th>\n",
              "      <td>50000</td>\n",
              "    </tr>\n",
              "    <tr>\n",
              "      <th>23177</th>\n",
              "      <td>54000</td>\n",
              "    </tr>\n",
              "    <tr>\n",
              "      <th>24225</th>\n",
              "      <td>44000</td>\n",
              "    </tr>\n",
              "  </tbody>\n",
              "</table>\n",
              "</div>"
            ],
            "text/plain": [
              "           x\n",
              "33595  70000\n",
              "21994  30000\n",
              "44049  50000\n",
              "23177  54000\n",
              "24225  44000"
            ]
          },
          "metadata": {},
          "execution_count": 13
        }
      ],
      "source": [
        "loans_sample.head()"
      ]
    },
    {
      "cell_type": "code",
      "execution_count": 14,
      "id": "bfd0bffb",
      "metadata": {
        "id": "bfd0bffb"
      },
      "outputs": [],
      "source": [
        "#mean of 5 numbers\n",
        "sample_mean_5 = loans_sample.rolling(5).mean().x"
      ]
    },
    {
      "cell_type": "code",
      "execution_count": 15,
      "id": "d999e296",
      "metadata": {
        "colab": {
          "base_uri": "https://localhost:8080/"
        },
        "id": "d999e296",
        "outputId": "76cca774-64ae-4c15-bd14-77e009ad6a73"
      },
      "outputs": [
        {
          "output_type": "execute_result",
          "data": {
            "text/plain": [
              "33595        NaN\n",
              "21994        NaN\n",
              "44049        NaN\n",
              "23177        NaN\n",
              "24225    49600.0\n",
              "          ...   \n",
              "34150    59896.0\n",
              "49211    62696.0\n",
              "9795     76970.6\n",
              "10991    85007.2\n",
              "43201    88007.2\n",
              "Name: x, Length: 1000, dtype: float64"
            ]
          },
          "metadata": {},
          "execution_count": 15
        }
      ],
      "source": [
        "sample_mean_5"
      ]
    },
    {
      "cell_type": "code",
      "execution_count": 16,
      "id": "81d56f60",
      "metadata": {
        "id": "81d56f60"
      },
      "outputs": [],
      "source": [
        "sample_mean_5 = sample_mean_5.dropna()"
      ]
    },
    {
      "cell_type": "code",
      "execution_count": 17,
      "id": "612e56a2",
      "metadata": {
        "colab": {
          "base_uri": "https://localhost:8080/"
        },
        "id": "612e56a2",
        "outputId": "081f4a30-ffb6-488c-e9db-7e2a6e0159f7"
      },
      "outputs": [
        {
          "output_type": "execute_result",
          "data": {
            "text/plain": [
              "24225    49600.0\n",
              "8104     42200.0\n",
              "21792    49890.0\n",
              "38846    54890.0\n",
              "47788    55050.0\n",
              "          ...   \n",
              "34150    59896.0\n",
              "49211    62696.0\n",
              "9795     76970.6\n",
              "10991    85007.2\n",
              "43201    88007.2\n",
              "Name: x, Length: 996, dtype: float64"
            ]
          },
          "metadata": {},
          "execution_count": 17
        }
      ],
      "source": [
        "sample_mean_5"
      ]
    },
    {
      "cell_type": "code",
      "execution_count": 18,
      "id": "cd40c5f4",
      "metadata": {
        "id": "cd40c5f4"
      },
      "outputs": [],
      "source": [
        "#mean of 20 numbers\n",
        "sample_mean_20 = loans_income.rolling(20).mean().x\n",
        "sample_mean_20 = sample_mean_20.dropna()\n",
        "\n"
      ]
    },
    {
      "cell_type": "code",
      "execution_count": 19,
      "id": "d36fbe7c",
      "metadata": {
        "colab": {
          "base_uri": "https://localhost:8080/"
        },
        "id": "d36fbe7c",
        "outputId": "46a6e654-de67-425a-eb47-4f4c324889e1"
      },
      "outputs": [
        {
          "output_type": "execute_result",
          "data": {
            "text/plain": [
              "19       71966.6\n",
              "20       70116.6\n",
              "21       71516.6\n",
              "22       68516.6\n",
              "23       68578.5\n",
              "          ...   \n",
              "49995    85425.0\n",
              "49996    84475.0\n",
              "49997    82975.0\n",
              "49998    84575.0\n",
              "49999    84675.0\n",
              "Name: x, Length: 49981, dtype: float64"
            ]
          },
          "metadata": {},
          "execution_count": 19
        }
      ],
      "source": [
        "sample_mean_20"
      ]
    },
    {
      "cell_type": "code",
      "execution_count": 20,
      "id": "dcded0af",
      "metadata": {
        "id": "dcded0af"
      },
      "outputs": [],
      "source": [
        "# mean of 30 numbers\n",
        "sample_mean_30 = loans_income.rolling(30).mean().x\n",
        "sample_mean_30 = sample_mean_30.dropna()"
      ]
    },
    {
      "cell_type": "code",
      "execution_count": 21,
      "id": "3ec6bca8",
      "metadata": {
        "colab": {
          "base_uri": "https://localhost:8080/"
        },
        "id": "3ec6bca8",
        "outputId": "1be73c55-31c4-4d85-9566-22e368aebc54"
      },
      "outputs": [
        {
          "output_type": "execute_result",
          "data": {
            "text/plain": [
              "29       67244.333333\n",
              "30       69211.000000\n",
              "31       69599.000000\n",
              "32       67599.000000\n",
              "33       70073.600000\n",
              "             ...     \n",
              "49995    79880.066667\n",
              "49996    79720.066667\n",
              "49997    79386.733333\n",
              "49998    81520.066667\n",
              "49999    81620.066667\n",
              "Name: x, Length: 49971, dtype: float64"
            ]
          },
          "metadata": {},
          "execution_count": 21
        }
      ],
      "source": [
        "sample_mean_30"
      ]
    },
    {
      "cell_type": "code",
      "execution_count": 22,
      "id": "f81e1026",
      "metadata": {
        "colab": {
          "base_uri": "https://localhost:8080/",
          "height": 607
        },
        "id": "f81e1026",
        "outputId": "99eb2d81-28c2-442c-a269-450ea8afb135"
      },
      "outputs": [
        {
          "output_type": "display_data",
          "data": {
            "image/png": "[encoded data removed]",
            "text/plain": [
              "<Figure size 720x720 with 4 Axes>"
            ]
          },
          "metadata": {
            "needs_background": "light"
          }
        }
      ],
      "source": [
        "fig = plt.figure(figsize=(10,10))\n",
        "#The full distribution of the plot:\n",
        "ax = fig.add_subplot(2,2,1)\n",
        "ax.hist(loans_income.x,bins=25)\n",
        "plt.title('Full Plot of the whole DATAFRAME')\n",
        "\n",
        "#distribution of 1000 samples:\n",
        "\n",
        "ax = fig.add_subplot(2,2,2)\n",
        "ax.hist(loans_sample.x,bins=40)\n",
        "plt.title('Full Plot of the 1000 samples')\n",
        "\n",
        "#distribution of means of 5 numbers from 1000 samples:\n",
        "ax = fig.add_subplot(2,2,3)\n",
        "ax.hist(sample_mean_5,bins=40)\n",
        "plt.title('Plot of Rolling Mean 5 of the 1000 samples')\n",
        "\n",
        "#distribution of means of 20 numbers from 1000 samples:\n",
        "ax = fig.add_subplot(2,2,4)\n",
        "ax.hist(sample_mean_20,bins=40,label='Mean of 20')\n",
        "ax.hist(sample_mean_30,bins=40,label='Mean of 30')\n",
        "plt.title('Plot of Rolling Mean 20 and 30 of the 1000 samples')\n",
        "\n",
        "ax.legend()\n",
        "plt.show()"
      ]
    },
    {
      "cell_type": "markdown",
      "id": "dc73b2d4",
      "metadata": {
        "id": "dc73b2d4"
      },
      "source": [
        "### Population stats"
      ]
    },
    {
      "cell_type": "code",
      "execution_count": 23,
      "id": "1666f4bd",
      "metadata": {
        "colab": {
          "base_uri": "https://localhost:8080/"
        },
        "id": "1666f4bd",
        "outputId": "3c3d5fe8-fc1b-4843-dcc4-ba724de43512"
      },
      "outputs": [
        {
          "output_type": "stream",
          "name": "stdout",
          "text": [
            "Total Population STD :  32872.03536985002\n",
            "Total Population Mean :  68760.51844\n",
            "Total Population Median :  62000.0\n",
            "Total Population Standard Error: 147.00821129152527\n"
          ]
        }
      ],
      "source": [
        "#Calculating a rolling mean:\n",
        "print('Total Population STD : ',loans_income.x.std())\n",
        "print('Total Population Mean : ',loans_income.x.mean())\n",
        "print('Total Population Median : ',np.median(loans_income.x))\n",
        "print('Total Population Standard Error:',stats.sem(loans_income.x, ddof=1))"
      ]
    },
    {
      "cell_type": "markdown",
      "id": "25d1e48b",
      "metadata": {
        "id": "25d1e48b"
      },
      "source": [
        "### Bootstrapping for 1000,10000,20000 Samples"
      ]
    },
    {
      "cell_type": "code",
      "execution_count": 24,
      "id": "39e3e709",
      "metadata": {
        "id": "39e3e709"
      },
      "outputs": [],
      "source": [
        "bootstrap_1000 = np.random.choice(loans_income.x,size=1000,replace=True)\n",
        "bootstrap_10000 = np.random.choice(loans_income.x,size=10000,replace=True)\n",
        "bootstrap_20000 = np.random.choice(loans_income.x,size=20000,replace=True)"
      ]
    },
    {
      "cell_type": "code",
      "execution_count": 25,
      "id": "d01b1f31",
      "metadata": {
        "colab": {
          "base_uri": "https://localhost:8080/"
        },
        "id": "d01b1f31",
        "outputId": "31e6c696-5519-4ed1-802a-0afe096cd301"
      },
      "outputs": [
        {
          "output_type": "execute_result",
          "data": {
            "text/plain": [
              "array([185000,  25915, 110000,  35000,  76000,  94500,  68500,  70000,\n",
              "        58444, 120000])"
            ]
          },
          "metadata": {},
          "execution_count": 25
        }
      ],
      "source": [
        "bootstrap_1000[:10]"
      ]
    },
    {
      "cell_type": "code",
      "execution_count": 26,
      "id": "57596d97",
      "metadata": {
        "colab": {
          "base_uri": "https://localhost:8080/"
        },
        "id": "57596d97",
        "outputId": "9e098c36-6079-49c3-92d5-7383b366bc49"
      },
      "outputs": [
        {
          "output_type": "execute_result",
          "data": {
            "text/plain": [
              "array([ 32000,  40000, 119000, ...,  30000,  86500, 157922])"
            ]
          },
          "metadata": {},
          "execution_count": 26
        }
      ],
      "source": [
        "bootstrap_10000"
      ]
    },
    {
      "cell_type": "code",
      "execution_count": 27,
      "id": "807dd470",
      "metadata": {
        "colab": {
          "base_uri": "https://localhost:8080/"
        },
        "id": "807dd470",
        "outputId": "dc95d54d-5ae1-4e7c-801e-e2bfb6b07527"
      },
      "outputs": [
        {
          "output_type": "execute_result",
          "data": {
            "text/plain": [
              "array([ 45000,  76000,  18000, 140000,  65000, 110000,  70000,  37000,\n",
              "        80000,  72000])"
            ]
          },
          "metadata": {},
          "execution_count": 27
        }
      ],
      "source": [
        "bootstrap_20000[:10]"
      ]
    },
    {
      "cell_type": "code",
      "execution_count": 28,
      "id": "6b9e8443",
      "metadata": {
        "colab": {
          "base_uri": "https://localhost:8080/"
        },
        "id": "6b9e8443",
        "outputId": "01b8ff0d-8bae-4097-821e-52140d3b4ac3"
      },
      "outputs": [
        {
          "output_type": "execute_result",
          "data": {
            "text/plain": [
              "3"
            ]
          },
          "metadata": {},
          "execution_count": 28
        }
      ],
      "source": [
        "arr_bootstraps = [bootstrap_1000,bootstrap_10000,bootstrap_20000]\n",
        "len(arr_bootstraps)"
      ]
    },
    {
      "cell_type": "code",
      "execution_count": 29,
      "id": "d2c97bbe",
      "metadata": {
        "colab": {
          "base_uri": "https://localhost:8080/"
        },
        "id": "d2c97bbe",
        "outputId": "9d35829b-9024-4863-d88f-823d1c1895ef"
      },
      "outputs": [
        {
          "output_type": "execute_result",
          "data": {
            "text/plain": [
              "[array([185000,  25915, 110000,  35000,  76000,  94500,  68500,  70000,\n",
              "         58444, 120000,  40000,  52000, 120000,  42000,  48399,  35000,\n",
              "         47500,  50000,  70000,  72000,  61000,  58000,  44000,  85000,\n",
              "         42000,  40724,  38000,  50000,  85000,  37000,  18000, 120000,\n",
              "         75000,  77000, 126600,  58500, 105596,  90000,  36000,  38000,\n",
              "         60000,  48000,  95000,  61000,  62300,  72000,  70000,  86000,\n",
              "        126000, 100000,  90000,  80000, 100000,  70000,  51261,  61000,\n",
              "        100000,  60000,  53000,  90000, 106667,  30000, 133000,  55000,\n",
              "         72000,  55000,  45000,  51000,  50000,  56000,  25000, 100495,\n",
              "         26000,  46000,  66900,  73524,  32625, 140000,  75000,  35000,\n",
              "         40000,  70000,  42000,  68590,  16656,  21000,  75000,  55000,\n",
              "        120000,  49400,  60000,  80000, 150000,  44000,  48000,  31200,\n",
              "        118000, 120000, 120000,  60000,  26000, 126000,  55000,  85000,\n",
              "         72000,  78600,  35000,  51500,  74500,  77000,  55000, 120000,\n",
              "         51050,  65000,  33000,  72000, 140000,  65000,  85000,  21000,\n",
              "         88000, 139000,  85000,  90000,  40056,  39454,  73000,  39000,\n",
              "         30000,  55000,  75000,  80000,  66000,  80000,  46000,  90000,\n",
              "         32000, 115000,  73000,  30000,  24500,  75000,  42000,  62000,\n",
              "         82000,  77000,  33500,  43500,  66747, 105000,  85000,  60000,\n",
              "         26000,  26000,  85000,  70000, 100000,  72000, 121000,  35000,\n",
              "         39000,  33446, 180000,  45000,  75000,  81000,  40000,  56000,\n",
              "        120000,  45000, 109000,  80000,  87000,  48000,  29000,  70000,\n",
              "         75000,  98500, 112000,  54000,  67000,  40000,  92000,  54000,\n",
              "        154000,  40000,  42000,  95000,  67500,  90000,  65000,  78500,\n",
              "         52000, 120000,  64000, 159350,  51000,  50000,  63000,  40000,\n",
              "         25000,  80000,  45000,  22000,  45000,  47400,  89000, 105000,\n",
              "         78048,  75734, 122800,  96000,  45000, 195250, 100000,  68000,\n",
              "         75000,  57200,  68000,  78000,  40000,  25000,  53500,  55000,\n",
              "        110000,  48150,  73000,  60000, 189000,  25000,  96000,  48000,\n",
              "         57000, 152687,  62208, 130000,  78400,  95000,  86000,  60000,\n",
              "         50000,  63000,  46800, 105000,  85000,  71500, 110000,  55000,\n",
              "         38000,  52000, 145000,  36200,  24000,  20000, 120000,  44000,\n",
              "         90000, 132000, 100000,  62400, 110500, 151000,  31300,  48000,\n",
              "         67600,  32000,  70000,  30000,  50128,  50000,  82000,  51000,\n",
              "         35000, 110000,  20000,  46000,  28000, 108000,  80000,  30000,\n",
              "         43000,  52000,  42500, 135000,  30000,  50000,  44038, 115000,\n",
              "         50000,  54000,  60500,  40000,  38000,  69000, 150000,  90000,\n",
              "        141040, 100000,  69677,  31000,  60000,  72000,  45000, 130000,\n",
              "         70000,  51200,  65000, 159996,  50000,  52000,  85000,  55000,\n",
              "         25000,  55000,  47000,  33000,  51200,  72000,  65000,  35000,\n",
              "         63000, 150000, 140000, 125000,  55000, 120000,  76000,  55000,\n",
              "         50000,  70000,  62000,  37000,  49000,  81000,  60299,  40000,\n",
              "         52000,  40000,  26748,  15000,  50000, 120000,  85000,  35000,\n",
              "         45000,  46000,  41000,  60000,  95000, 100000,  38000,  87900,\n",
              "         45000,  70000,  41000,  96000,  53500,  47000,  85000,  27664,\n",
              "         30000, 101000,  77000,  68559, 120000,  30000, 100000, 152500,\n",
              "         62000,  55000, 108066,  40596, 150000,  65000, 120000,  60000,\n",
              "         60000, 175000,  32500,  76000,  60000,  46000,  26880,  27000,\n",
              "         61000,  44000, 102000,  56706,  78000,  38000,  30000, 120000,\n",
              "         30000,  74838,  40000,  75000,  68000, 125400,  26000,  30000,\n",
              "         95000,  74000,  30000, 110000, 110000,  50000,  50000,  80000,\n",
              "         55000, 108000,  56000,  62000,  25000,  97000,  43600,  68000,\n",
              "         65000, 100000, 104000,  61000,  90000,  54000,  19000,  95634,\n",
              "         57000, 120000,  65000,  25000,  62000,  85000,  40000,  50000,\n",
              "         37000,  58000,  48000,  80000, 101000,  60000,  68000,  38000,\n",
              "         55000,  40000,  42000,  40000, 130000,  55000,  90000,  21084,\n",
              "         67000,  43000, 103000,  35000,  45000,  45000, 125000,  83000,\n",
              "        110000,  50000,  77000,  86400,  60000,  55000,  60000,  67600,\n",
              "        110000,  78000,  45000,  19120,  75000,  40000,  75000,  40000,\n",
              "         20000, 100000, 105650,  33000,  80000,  30410,  41250,  14260,\n",
              "         45000,  68000,  42500,  63372,  99000,  50000, 113000,  52000,\n",
              "         60000, 102000, 170000,  45000,  90000, 150000,  53000,  50000,\n",
              "         36000,  50000,  72000,  80000, 100000,  54000,  53000,  70350,\n",
              "         80000,  68000,  85000,  86100,  92000,  48000, 120000,  29120,\n",
              "         38500,  24960,  90000,  25000, 145000,  96771,  90000,  96000,\n",
              "         25000,  60000,  71200,  64000,  60000,  55000,  57000,  75000,\n",
              "         65000,  95000,  41100,  56500,  56000,  73527,  61800,  65000,\n",
              "         55000,  60000,  70000,  81996,  52000,  48000,  35000,  15600,\n",
              "         43600,  22000,  40000, 140000,  21000,  33000, 100822,  55000,\n",
              "        160575, 125000, 118000,  95760,  85000,  80000, 193000,  25000,\n",
              "         45000, 156000,  37689, 135000,  32000, 142000,  55000,  61000,\n",
              "         44000,  45000, 140000,  34216, 110000,  24000,  72000,  52000,\n",
              "         58000,  35000, 105000,  42000,  80000,  88000,  39504,  75000,\n",
              "         90000,  97000,  49000,  70000,  42000, 121000,  60000,  32000,\n",
              "        145000,  40000,  75000,  72000,  65000,  40000,  81000, 110000,\n",
              "         45000, 110000,  53000,  63000,  89000, 125000,  40000,  55000,\n",
              "         99600, 125000,  54147,  90000,  65000,  62000,  75000,  95000,\n",
              "         52062,  48000,  25000,  30000,  75000, 150000,  78000,  75000,\n",
              "        124000,  98000,  50000,  87500,  47800,  75000,  46000,  70000,\n",
              "         29000,  60000,  97000,  73000, 185000, 115000,  61279,  95000,\n",
              "         49000,  51000,  40000,  72100,  80000,  58000,  38000,  15000,\n",
              "        125000,  78000,  10572,  80000,  30000,  60000, 125657,  41000,\n",
              "         40000,  60400,  52000,  46000,  66347,  65000,  83805,  15600,\n",
              "        114000,  84000,  63000,  45000, 150000,  70000, 128000, 105000,\n",
              "         22000,  72500,  33000,  90000,  56000,  60000,  94000,  18000,\n",
              "         62000,  33000,  80000, 100000,  65000,  15000, 113500, 105000,\n",
              "         52000,  93000,  78000, 159000, 140000,  50000,  90000,  48000,\n",
              "         33000, 115000, 122000, 127594,  55000,  62000,  46000, 120000,\n",
              "         57000,  35000,  48504, 110000,  40000,  62400,  75005,  40000,\n",
              "         24960,  37000,  56000,  40000,  41000,  44000, 125000,  27000,\n",
              "         88000,  40000,  76070,  72000, 185000,  40000,  42604,  65000,\n",
              "        160000,  60000,  48000,  84000,  56000,  45000,  98000,  49000,\n",
              "         32500,  77000, 152000,  44000,  70000,  87000,  75000,  70801,\n",
              "         81984,  27000,  42000,  65000, 186000,  28000,  74000,  44000,\n",
              "        140000,  54000,  75000, 113675,  75000,  80000,  50000, 120000,\n",
              "         98000,  65000,  40000, 100000, 165000,  90000,  67350,  63440,\n",
              "         40000,  30500,  86000,  89375,  52000,  54000,  70500,  91820,\n",
              "         80000,  71000,  60000,  64000,  80000,  35000, 100000,  73000,\n",
              "         58000,  42000,  45000,  70000, 125000,  91000,  42000,  70000,\n",
              "         67000,  12600,  69996,  25000,  53000, 175000,  60000,  37000,\n",
              "         34000,  72000, 175000,  21840,  70000,  37500,  26500, 144000,\n",
              "         47000,  30000, 150000,  72000, 145000, 125000,  73200,  53640,\n",
              "         30000, 130000,  76000,  89000,  65000,  71000,  51000,  98000,\n",
              "         40000,  67000, 175000,  62000,  65000,  72000,  44400,  50300,\n",
              "         46500,  80000,  60000, 130000, 167000,  87000,  58320,  81000,\n",
              "         65000,  72000,  77000,  80000,  95000,  38628, 175000,  38168,\n",
              "         70000,  38000,  40000, 110000,  23000,  45000, 138000,  35000,\n",
              "         68000,  37440,  90000,  30352,  28000,  62000, 105000,  35000,\n",
              "         98000, 117500,  28000,  28000,  96000,  80000,  40000,  52000,\n",
              "         55000,  66393,  46000,  93400,  70704,  85000,  55000,  70000,\n",
              "        108000,  50000,  70000,  36000,  25000,  41000,  87000,  51000,\n",
              "         40000,  42000,  55000,  48000,  90000,  25000,  26000, 120000,\n",
              "         68000,  95680,  92000,  65000,  70000,  70000,  75000,  15600,\n",
              "         60000,  47500,  34000,  50000, 112000,  40296, 100000,  27996,\n",
              "         45000,  40000,  61000,  76000,  81000, 121000,  75000,  41577,\n",
              "         50000, 150000,  70000,  52000,  46000,  25000,  32000, 165000,\n",
              "         21000,  63960,  70000,  54386, 110000,  90000,  56066, 100000,\n",
              "         54000,  26000,  31000, 190000,  55000,  50000,  64000,  62000,\n",
              "         13000,  73000,  95000,  80000,  33000,  89000,  58500,  42000,\n",
              "         58300,  56000, 100000,  75600,  24000,  56000,  56000,  32496,\n",
              "         94000,  82000,  51000,  52000, 125000,  80000, 120000,  40000,\n",
              "         62000,  60000,  56000,  35000,  53643,  75000,  40000,  61140,\n",
              "         90000,  65000,  68000,  68780,  58000, 120000, 140000,  90000,\n",
              "         52500,  73000,  30000,  90000,  64000,  60000, 120000,  61000,\n",
              "         70000,  56000,  64000, 110000,  46800, 140000,  55000, 135000]),\n",
              " array([ 32000,  40000, 119000, ...,  30000,  86500, 157922]),\n",
              " array([ 45000,  76000,  18000, ...,  26400, 118260,  60000])]"
            ]
          },
          "metadata": {},
          "execution_count": 29
        }
      ],
      "source": [
        "arr_bootstraps"
      ]
    },
    {
      "cell_type": "code",
      "execution_count": 30,
      "id": "e95be0fa",
      "metadata": {
        "colab": {
          "base_uri": "https://localhost:8080/"
        },
        "id": "e95be0fa",
        "outputId": "fbe9fd4c-b529-4c8d-e797-c59d0a29cfda"
      },
      "outputs": [
        {
          "output_type": "stream",
          "name": "stdout",
          "text": [
            "Bootstrap Stats for 1000 examples \n",
            "\n",
            "------------------------------------------------------------------------------\n",
            "\n",
            "Bootstrap STD :  34413.69045690937\n",
            "Bootstrap Mean :  69972.833\n",
            "Bootstrap Median:  63000.0\n",
            "Boostrap Bias,  -1212.314559999999\n",
            "Standard Error: 1088.2564453583425\n",
            "\n",
            "------------------------------------------------------------------------------\n",
            "\n",
            "Bootstrap Stats for 10000 examples \n",
            "\n",
            "------------------------------------------------------------------------------\n",
            "\n",
            "Bootstrap STD :  32357.647243831736\n",
            "Bootstrap Mean :  67781.292\n",
            "Bootstrap Median:  60000.0\n",
            "Boostrap Bias,  979.2264399999985\n",
            "Standard Error: 323.57647243831735\n",
            "\n",
            "------------------------------------------------------------------------------\n",
            "\n",
            "Bootstrap Stats for 20000 examples \n",
            "\n",
            "------------------------------------------------------------------------------\n",
            "\n",
            "Bootstrap STD :  32663.645721182304\n",
            "Bootstrap Mean :  68681.6148\n",
            "Bootstrap Median:  62000.0\n",
            "Boostrap Bias,  78.90364000000409\n",
            "Standard Error: 230.96685387722962\n",
            "\n",
            "------------------------------------------------------------------------------\n",
            "\n"
          ]
        }
      ],
      "source": [
        "for i in range(len(arr_bootstraps)):\n",
        "    print('Bootstrap Stats for {} examples \\n'.format(len(arr_bootstraps[i])))\n",
        "    print('------------------------------------------------------------------------------\\n')\n",
        "    print('Bootstrap STD : ',np.std(arr_bootstraps[i],ddof=1))\n",
        "    print('Bootstrap Mean : ',np.mean(arr_bootstraps[i]))\n",
        "    print('Bootstrap Median: ',np.median(arr_bootstraps[i]))\n",
        "    print('Boostrap Bias, ',loans_income.x.mean() - np.mean(arr_bootstraps[i],axis=0))\n",
        "    print('Standard Error:',stats.sem(arr_bootstraps[i], ddof=1))\n",
        "    print('\\n------------------------------------------------------------------------------\\n')"
      ]
    },
    {
      "cell_type": "code",
      "execution_count": 31,
      "id": "ba77e4d1",
      "metadata": {
        "colab": {
          "base_uri": "https://localhost:8080/",
          "height": 295
        },
        "id": "ba77e4d1",
        "outputId": "942620a2-42f7-4187-9cd8-7f4fcdcd7858"
      },
      "outputs": [
        {
          "output_type": "display_data",
          "data": {
            "image/png": "[encoded data removed]",
            "text/plain": [
              "<Figure size 432x288 with 1 Axes>"
            ]
          },
          "metadata": {
            "needs_background": "light"
          }
        }
      ],
      "source": [
        "stats.probplot(loans_income.x, dist=\"norm\", plot=pylab)\n",
        "pylab.show()"
      ]
    },
    {
      "cell_type": "code",
      "execution_count": 32,
      "id": "3e40b6fe",
      "metadata": {
        "colab": {
          "base_uri": "https://localhost:8080/",
          "height": 295
        },
        "id": "3e40b6fe",
        "outputId": "5d09a2cf-6274-4192-f9db-1bcc6bf86bab"
      },
      "outputs": [
        {
          "output_type": "display_data",
          "data": {
            "image/png": "[encoded data removed]",
            "text/plain": [
              "<Figure size 432x288 with 1 Axes>"
            ]
          },
          "metadata": {
            "needs_background": "light"
          }
        }
      ],
      "source": [
        "measurements = np.random.normal(loc = 20, scale = 5, size=100)   \n",
        "stats.probplot(measurements, dist=\"norm\", plot=pylab)\n",
        "pylab.show()"
      ]
    },
    {
      "cell_type": "markdown",
      "id": "77acb706",
      "metadata": {
        "id": "77acb706"
      },
      "source": [
        "#### Second Datasets."
      ]
    },
    {
      "cell_type": "code",
      "execution_count": 33,
      "id": "a865755c",
      "metadata": {
        "colab": {
          "base_uri": "https://localhost:8080/",
          "height": 0
        },
        "id": "a865755c",
        "outputId": "4ea85eb9-a9fd-433b-fcdb-1996a0ef3274"
      },
      "outputs": [
        {
          "output_type": "execute_result",
          "data": {
            "text/html": [
              "<div>\n",
              "<style scoped>\n",
              "    .dataframe tbody tr th:only-of-type {\n",
              "        vertical-align: middle;\n",
              "    }\n",
              "\n",
              "    .dataframe tbody tr th {\n",
              "        vertical-align: top;\n",
              "    }\n",
              "\n",
              "    .dataframe thead th {\n",
              "        text-align: right;\n",
              "    }\n",
              "</style>\n",
              "<table border=\"1\" class=\"dataframe\">\n",
              "  <thead>\n",
              "    <tr style=\"text-align: right;\">\n",
              "      <th></th>\n",
              "      <th>Unnamed: 0</th>\n",
              "      <th>ADS</th>\n",
              "      <th>CA</th>\n",
              "      <th>MSFT</th>\n",
              "      <th>RHT</th>\n",
              "      <th>CTSH</th>\n",
              "      <th>CSC</th>\n",
              "      <th>EMC</th>\n",
              "      <th>IBM</th>\n",
              "      <th>XRX</th>\n",
              "      <th>ALTR</th>\n",
              "      <th>ADI</th>\n",
              "      <th>AVGO</th>\n",
              "      <th>BRCM</th>\n",
              "      <th>FSLR</th>\n",
              "      <th>INTC</th>\n",
              "      <th>LLTC</th>\n",
              "      <th>MCHP</th>\n",
              "      <th>MU</th>\n",
              "      <th>NVDA</th>\n",
              "      <th>QRVO</th>\n",
              "      <th>QCOM</th>\n",
              "      <th>SWKS</th>\n",
              "      <th>TXN</th>\n",
              "      <th>XLNX</th>\n",
              "      <th>AAPL</th>\n",
              "      <th>HPQ</th>\n",
              "      <th>EA</th>\n",
              "      <th>SNDK</th>\n",
              "      <th>STX</th>\n",
              "      <th>WDC</th>\n",
              "      <th>TEL</th>\n",
              "      <th>HRS</th>\n",
              "      <th>MSI</th>\n",
              "      <th>ACN</th>\n",
              "      <th>AMAT</th>\n",
              "      <th>KLAC</th>\n",
              "      <th>LRCX</th>\n",
              "      <th>ADBE</th>\n",
              "      <th>ADSK</th>\n",
              "      <th>...</th>\n",
              "      <th>ENDP</th>\n",
              "      <th>LLY</th>\n",
              "      <th>MNK</th>\n",
              "      <th>MRK</th>\n",
              "      <th>MYL</th>\n",
              "      <th>PRGO</th>\n",
              "      <th>PFE</th>\n",
              "      <th>ZTS</th>\n",
              "      <th>ABT</th>\n",
              "      <th>A</th>\n",
              "      <th>BCR</th>\n",
              "      <th>BAX</th>\n",
              "      <th>BDX</th>\n",
              "      <th>BSX</th>\n",
              "      <th>EW</th>\n",
              "      <th>HSP</th>\n",
              "      <th>ISRG</th>\n",
              "      <th>JNJ</th>\n",
              "      <th>MDT</th>\n",
              "      <th>PKI</th>\n",
              "      <th>STJ</th>\n",
              "      <th>SYK</th>\n",
              "      <th>TMO</th>\n",
              "      <th>VAR</th>\n",
              "      <th>ZBH</th>\n",
              "      <th>BMY</th>\n",
              "      <th>CAH</th>\n",
              "      <th>CERN</th>\n",
              "      <th>ESRX</th>\n",
              "      <th>MCK</th>\n",
              "      <th>WAT</th>\n",
              "      <th>ALXN</th>\n",
              "      <th>AMGN</th>\n",
              "      <th>BXLT</th>\n",
              "      <th>BIIB</th>\n",
              "      <th>CELG</th>\n",
              "      <th>GILD</th>\n",
              "      <th>REGN</th>\n",
              "      <th>VRTX</th>\n",
              "      <th>HSIC</th>\n",
              "    </tr>\n",
              "  </thead>\n",
              "  <tbody>\n",
              "    <tr>\n",
              "      <th>0</th>\n",
              "      <td>1993-01-29</td>\n",
              "      <td>0.0</td>\n",
              "      <td>0.060124</td>\n",
              "      <td>-0.022100</td>\n",
              "      <td>0.0</td>\n",
              "      <td>0.0</td>\n",
              "      <td>0.018897</td>\n",
              "      <td>0.007368</td>\n",
              "      <td>0.092165</td>\n",
              "      <td>0.259140</td>\n",
              "      <td>-0.007105</td>\n",
              "      <td>-0.015785</td>\n",
              "      <td>0.0</td>\n",
              "      <td>0.0</td>\n",
              "      <td>0.0</td>\n",
              "      <td>-0.050488</td>\n",
              "      <td>-0.089870</td>\n",
              "      <td>0.0</td>\n",
              "      <td>0.037021</td>\n",
              "      <td>0.0</td>\n",
              "      <td>0.0</td>\n",
              "      <td>-0.044718</td>\n",
              "      <td>-0.041262</td>\n",
              "      <td>0.060179</td>\n",
              "      <td>0.033152</td>\n",
              "      <td>-0.024235</td>\n",
              "      <td>0.045586</td>\n",
              "      <td>0.12500</td>\n",
              "      <td>0.0</td>\n",
              "      <td>0.0</td>\n",
              "      <td>0.118103</td>\n",
              "      <td>0.0</td>\n",
              "      <td>0.016412</td>\n",
              "      <td>-1.842719</td>\n",
              "      <td>0.0</td>\n",
              "      <td>-0.012867</td>\n",
              "      <td>0.079940</td>\n",
              "      <td>0.246706</td>\n",
              "      <td>-0.044884</td>\n",
              "      <td>0.057267</td>\n",
              "      <td>...</td>\n",
              "      <td>0.0</td>\n",
              "      <td>-0.077535</td>\n",
              "      <td>0.0</td>\n",
              "      <td>-0.028797</td>\n",
              "      <td>0.166355</td>\n",
              "      <td>-0.577943</td>\n",
              "      <td>0.066591</td>\n",
              "      <td>0.0</td>\n",
              "      <td>0.045961</td>\n",
              "      <td>0.0</td>\n",
              "      <td>-0.326659</td>\n",
              "      <td>0.000000</td>\n",
              "      <td>-0.033363</td>\n",
              "      <td>0.06250</td>\n",
              "      <td>0.0</td>\n",
              "      <td>0.0</td>\n",
              "      <td>0.0</td>\n",
              "      <td>0.018827</td>\n",
              "      <td>0.006047</td>\n",
              "      <td>0.000000</td>\n",
              "      <td>0.187132</td>\n",
              "      <td>0.276317</td>\n",
              "      <td>-0.124187</td>\n",
              "      <td>0.037430</td>\n",
              "      <td>0.0</td>\n",
              "      <td>0.038546</td>\n",
              "      <td>0.060142</td>\n",
              "      <td>0.03126</td>\n",
              "      <td>0.00195</td>\n",
              "      <td>0.0</td>\n",
              "      <td>0.0</td>\n",
              "      <td>0.0</td>\n",
              "      <td>0.34716</td>\n",
              "      <td>0.0</td>\n",
              "      <td>0.04167</td>\n",
              "      <td>0.00000</td>\n",
              "      <td>0.015564</td>\n",
              "      <td>1.75</td>\n",
              "      <td>0.1250</td>\n",
              "      <td>0.0</td>\n",
              "    </tr>\n",
              "    <tr>\n",
              "      <th>1</th>\n",
              "      <td>1993-02-01</td>\n",
              "      <td>0.0</td>\n",
              "      <td>-0.180389</td>\n",
              "      <td>0.027621</td>\n",
              "      <td>0.0</td>\n",
              "      <td>0.0</td>\n",
              "      <td>0.018889</td>\n",
              "      <td>0.018425</td>\n",
              "      <td>0.115207</td>\n",
              "      <td>-0.100775</td>\n",
              "      <td>0.063893</td>\n",
              "      <td>-0.015793</td>\n",
              "      <td>0.0</td>\n",
              "      <td>0.0</td>\n",
              "      <td>0.0</td>\n",
              "      <td>0.095367</td>\n",
              "      <td>0.044935</td>\n",
              "      <td>0.0</td>\n",
              "      <td>0.037020</td>\n",
              "      <td>0.0</td>\n",
              "      <td>0.0</td>\n",
              "      <td>0.006387</td>\n",
              "      <td>-0.041252</td>\n",
              "      <td>0.102317</td>\n",
              "      <td>0.099446</td>\n",
              "      <td>0.064618</td>\n",
              "      <td>0.072942</td>\n",
              "      <td>0.09375</td>\n",
              "      <td>0.0</td>\n",
              "      <td>0.0</td>\n",
              "      <td>0.000000</td>\n",
              "      <td>0.0</td>\n",
              "      <td>-0.032829</td>\n",
              "      <td>0.594428</td>\n",
              "      <td>0.0</td>\n",
              "      <td>0.016077</td>\n",
              "      <td>0.019985</td>\n",
              "      <td>0.411170</td>\n",
              "      <td>0.134672</td>\n",
              "      <td>0.057267</td>\n",
              "      <td>...</td>\n",
              "      <td>0.0</td>\n",
              "      <td>-0.031014</td>\n",
              "      <td>0.0</td>\n",
              "      <td>-0.172781</td>\n",
              "      <td>-0.066536</td>\n",
              "      <td>0.346766</td>\n",
              "      <td>-0.027745</td>\n",
              "      <td>0.0</td>\n",
              "      <td>-0.045960</td>\n",
              "      <td>0.0</td>\n",
              "      <td>-0.093331</td>\n",
              "      <td>0.018157</td>\n",
              "      <td>0.100076</td>\n",
              "      <td>0.03125</td>\n",
              "      <td>0.0</td>\n",
              "      <td>0.0</td>\n",
              "      <td>0.0</td>\n",
              "      <td>-0.056481</td>\n",
              "      <td>-0.048392</td>\n",
              "      <td>0.041782</td>\n",
              "      <td>-0.074851</td>\n",
              "      <td>-0.027632</td>\n",
              "      <td>0.000000</td>\n",
              "      <td>-0.074859</td>\n",
              "      <td>0.0</td>\n",
              "      <td>-0.038546</td>\n",
              "      <td>0.060142</td>\n",
              "      <td>0.10156</td>\n",
              "      <td>0.01953</td>\n",
              "      <td>0.0</td>\n",
              "      <td>0.0</td>\n",
              "      <td>0.0</td>\n",
              "      <td>-0.23144</td>\n",
              "      <td>0.0</td>\n",
              "      <td>0.00000</td>\n",
              "      <td>-0.01041</td>\n",
              "      <td>0.007782</td>\n",
              "      <td>1.25</td>\n",
              "      <td>0.1250</td>\n",
              "      <td>0.0</td>\n",
              "    </tr>\n",
              "    <tr>\n",
              "      <th>2</th>\n",
              "      <td>1993-02-02</td>\n",
              "      <td>0.0</td>\n",
              "      <td>-0.120257</td>\n",
              "      <td>0.035900</td>\n",
              "      <td>0.0</td>\n",
              "      <td>0.0</td>\n",
              "      <td>-0.075573</td>\n",
              "      <td>0.029482</td>\n",
              "      <td>-0.023041</td>\n",
              "      <td>0.028796</td>\n",
              "      <td>-0.014192</td>\n",
              "      <td>0.047363</td>\n",
              "      <td>0.0</td>\n",
              "      <td>0.0</td>\n",
              "      <td>0.0</td>\n",
              "      <td>0.000000</td>\n",
              "      <td>0.067402</td>\n",
              "      <td>0.0</td>\n",
              "      <td>0.123402</td>\n",
              "      <td>0.0</td>\n",
              "      <td>0.0</td>\n",
              "      <td>0.035141</td>\n",
              "      <td>0.041252</td>\n",
              "      <td>-0.024066</td>\n",
              "      <td>0.016572</td>\n",
              "      <td>-0.016148</td>\n",
              "      <td>-0.045586</td>\n",
              "      <td>-0.06250</td>\n",
              "      <td>0.0</td>\n",
              "      <td>0.0</td>\n",
              "      <td>0.118103</td>\n",
              "      <td>0.0</td>\n",
              "      <td>-0.032829</td>\n",
              "      <td>0.237767</td>\n",
              "      <td>0.0</td>\n",
              "      <td>0.051450</td>\n",
              "      <td>0.000000</td>\n",
              "      <td>0.054828</td>\n",
              "      <td>0.082299</td>\n",
              "      <td>-0.042955</td>\n",
              "      <td>...</td>\n",
              "      <td>0.0</td>\n",
              "      <td>-0.062028</td>\n",
              "      <td>0.0</td>\n",
              "      <td>-0.143984</td>\n",
              "      <td>-0.066536</td>\n",
              "      <td>0.693532</td>\n",
              "      <td>-0.133183</td>\n",
              "      <td>0.0</td>\n",
              "      <td>-0.153198</td>\n",
              "      <td>0.0</td>\n",
              "      <td>-0.093331</td>\n",
              "      <td>-0.072626</td>\n",
              "      <td>0.000000</td>\n",
              "      <td>0.03125</td>\n",
              "      <td>0.0</td>\n",
              "      <td>0.0</td>\n",
              "      <td>0.0</td>\n",
              "      <td>-0.018827</td>\n",
              "      <td>0.000000</td>\n",
              "      <td>0.208912</td>\n",
              "      <td>0.018711</td>\n",
              "      <td>-0.027632</td>\n",
              "      <td>0.000000</td>\n",
              "      <td>0.044923</td>\n",
              "      <td>0.0</td>\n",
              "      <td>-0.115639</td>\n",
              "      <td>-0.030071</td>\n",
              "      <td>-0.01562</td>\n",
              "      <td>0.00000</td>\n",
              "      <td>0.0</td>\n",
              "      <td>0.0</td>\n",
              "      <td>0.0</td>\n",
              "      <td>-0.11572</td>\n",
              "      <td>0.0</td>\n",
              "      <td>0.00000</td>\n",
              "      <td>0.00000</td>\n",
              "      <td>-0.007792</td>\n",
              "      <td>-0.25</td>\n",
              "      <td>0.0000</td>\n",
              "      <td>0.0</td>\n",
              "    </tr>\n",
              "    <tr>\n",
              "      <th>3</th>\n",
              "      <td>1993-02-03</td>\n",
              "      <td>0.0</td>\n",
              "      <td>0.060124</td>\n",
              "      <td>-0.024857</td>\n",
              "      <td>0.0</td>\n",
              "      <td>0.0</td>\n",
              "      <td>-0.151128</td>\n",
              "      <td>0.003689</td>\n",
              "      <td>-0.253454</td>\n",
              "      <td>-0.043190</td>\n",
              "      <td>-0.007105</td>\n",
              "      <td>0.205236</td>\n",
              "      <td>0.0</td>\n",
              "      <td>0.0</td>\n",
              "      <td>0.0</td>\n",
              "      <td>-0.050495</td>\n",
              "      <td>0.022467</td>\n",
              "      <td>0.0</td>\n",
              "      <td>-0.012340</td>\n",
              "      <td>0.0</td>\n",
              "      <td>0.0</td>\n",
              "      <td>0.006387</td>\n",
              "      <td>0.041252</td>\n",
              "      <td>-0.024073</td>\n",
              "      <td>0.049723</td>\n",
              "      <td>-0.032305</td>\n",
              "      <td>-0.091184</td>\n",
              "      <td>0.21875</td>\n",
              "      <td>0.0</td>\n",
              "      <td>0.0</td>\n",
              "      <td>0.059052</td>\n",
              "      <td>0.0</td>\n",
              "      <td>0.049247</td>\n",
              "      <td>-0.118893</td>\n",
              "      <td>0.0</td>\n",
              "      <td>0.000000</td>\n",
              "      <td>0.039970</td>\n",
              "      <td>-0.054828</td>\n",
              "      <td>-0.149639</td>\n",
              "      <td>0.057267</td>\n",
              "      <td>...</td>\n",
              "      <td>0.0</td>\n",
              "      <td>0.139564</td>\n",
              "      <td>0.0</td>\n",
              "      <td>0.345561</td>\n",
              "      <td>0.133081</td>\n",
              "      <td>0.693532</td>\n",
              "      <td>0.022199</td>\n",
              "      <td>0.0</td>\n",
              "      <td>0.168520</td>\n",
              "      <td>0.0</td>\n",
              "      <td>0.093331</td>\n",
              "      <td>0.090783</td>\n",
              "      <td>0.044480</td>\n",
              "      <td>0.03125</td>\n",
              "      <td>0.0</td>\n",
              "      <td>0.0</td>\n",
              "      <td>0.0</td>\n",
              "      <td>0.263578</td>\n",
              "      <td>0.030243</td>\n",
              "      <td>0.125347</td>\n",
              "      <td>0.187140</td>\n",
              "      <td>0.000000</td>\n",
              "      <td>0.124187</td>\n",
              "      <td>0.104805</td>\n",
              "      <td>0.0</td>\n",
              "      <td>0.141333</td>\n",
              "      <td>0.000000</td>\n",
              "      <td>-0.01172</td>\n",
              "      <td>0.02344</td>\n",
              "      <td>0.0</td>\n",
              "      <td>0.0</td>\n",
              "      <td>0.0</td>\n",
              "      <td>-0.08679</td>\n",
              "      <td>0.0</td>\n",
              "      <td>0.04167</td>\n",
              "      <td>-0.04167</td>\n",
              "      <td>-0.038919</td>\n",
              "      <td>-0.50</td>\n",
              "      <td>0.0625</td>\n",
              "      <td>0.0</td>\n",
              "    </tr>\n",
              "    <tr>\n",
              "      <th>4</th>\n",
              "      <td>1993-02-04</td>\n",
              "      <td>0.0</td>\n",
              "      <td>-0.360770</td>\n",
              "      <td>-0.060757</td>\n",
              "      <td>0.0</td>\n",
              "      <td>0.0</td>\n",
              "      <td>0.113350</td>\n",
              "      <td>-0.022114</td>\n",
              "      <td>0.069862</td>\n",
              "      <td>0.000000</td>\n",
              "      <td>-0.007096</td>\n",
              "      <td>-0.031570</td>\n",
              "      <td>0.0</td>\n",
              "      <td>0.0</td>\n",
              "      <td>0.0</td>\n",
              "      <td>0.000000</td>\n",
              "      <td>0.022467</td>\n",
              "      <td>0.0</td>\n",
              "      <td>-0.074041</td>\n",
              "      <td>0.0</td>\n",
              "      <td>0.0</td>\n",
              "      <td>0.051113</td>\n",
              "      <td>0.041252</td>\n",
              "      <td>-0.024073</td>\n",
              "      <td>-0.008290</td>\n",
              "      <td>-0.016157</td>\n",
              "      <td>-0.109414</td>\n",
              "      <td>0.09375</td>\n",
              "      <td>0.0</td>\n",
              "      <td>0.0</td>\n",
              "      <td>-0.118103</td>\n",
              "      <td>0.0</td>\n",
              "      <td>0.000000</td>\n",
              "      <td>-0.237776</td>\n",
              "      <td>0.0</td>\n",
              "      <td>-0.003219</td>\n",
              "      <td>-0.099925</td>\n",
              "      <td>-0.246706</td>\n",
              "      <td>0.000000</td>\n",
              "      <td>-0.157480</td>\n",
              "      <td>...</td>\n",
              "      <td>0.0</td>\n",
              "      <td>0.000000</td>\n",
              "      <td>0.0</td>\n",
              "      <td>-0.345561</td>\n",
              "      <td>-0.133073</td>\n",
              "      <td>-0.924709</td>\n",
              "      <td>-0.016648</td>\n",
              "      <td>0.0</td>\n",
              "      <td>-0.061282</td>\n",
              "      <td>0.0</td>\n",
              "      <td>0.186662</td>\n",
              "      <td>0.000000</td>\n",
              "      <td>-0.011123</td>\n",
              "      <td>-0.15625</td>\n",
              "      <td>0.0</td>\n",
              "      <td>0.0</td>\n",
              "      <td>0.0</td>\n",
              "      <td>0.018827</td>\n",
              "      <td>-0.024196</td>\n",
              "      <td>0.167129</td>\n",
              "      <td>-0.187629</td>\n",
              "      <td>-0.082895</td>\n",
              "      <td>0.341510</td>\n",
              "      <td>-0.029946</td>\n",
              "      <td>0.0</td>\n",
              "      <td>-0.115635</td>\n",
              "      <td>0.060142</td>\n",
              "      <td>-0.00782</td>\n",
              "      <td>-0.01562</td>\n",
              "      <td>0.0</td>\n",
              "      <td>0.0</td>\n",
              "      <td>0.0</td>\n",
              "      <td>0.14465</td>\n",
              "      <td>0.0</td>\n",
              "      <td>-0.04166</td>\n",
              "      <td>-0.03126</td>\n",
              "      <td>-0.046711</td>\n",
              "      <td>0.00</td>\n",
              "      <td>0.0625</td>\n",
              "      <td>0.0</td>\n",
              "    </tr>\n",
              "  </tbody>\n",
              "</table>\n",
              "<p>5 rows × 518 columns</p>\n",
              "</div>"
            ],
            "text/plain": [
              "   Unnamed: 0  ADS        CA      MSFT  ...      GILD  REGN    VRTX  HSIC\n",
              "0  1993-01-29  0.0  0.060124 -0.022100  ...  0.015564  1.75  0.1250   0.0\n",
              "1  1993-02-01  0.0 -0.180389  0.027621  ...  0.007782  1.25  0.1250   0.0\n",
              "2  1993-02-02  0.0 -0.120257  0.035900  ... -0.007792 -0.25  0.0000   0.0\n",
              "3  1993-02-03  0.0  0.060124 -0.024857  ... -0.038919 -0.50  0.0625   0.0\n",
              "4  1993-02-04  0.0 -0.360770 -0.060757  ... -0.046711  0.00  0.0625   0.0\n",
              "\n",
              "[5 rows x 518 columns]"
            ]
          },
          "metadata": {},
          "execution_count": 33
        }
      ],
      "source": [
        "sp500_px.head()"
      ]
    },
    {
      "cell_type": "code",
      "execution_count": 34,
      "id": "1881e6ed",
      "metadata": {
        "id": "1881e6ed"
      },
      "outputs": [],
      "source": [
        "shapes = sp500_px.shape"
      ]
    },
    {
      "cell_type": "code",
      "execution_count": 35,
      "id": "63c3dca8",
      "metadata": {
        "colab": {
          "base_uri": "https://localhost:8080/"
        },
        "id": "63c3dca8",
        "outputId": "cffcfd57-98b8-434b-93b2-17ffd8b2f546"
      },
      "outputs": [
        {
          "output_type": "execute_result",
          "data": {
            "text/plain": [
              "(1330, 518)"
            ]
          },
          "metadata": {},
          "execution_count": 35
        }
      ],
      "source": [
        "shapes"
      ]
    },
    {
      "cell_type": "code",
      "execution_count": 36,
      "id": "6475f608",
      "metadata": {
        "id": "6475f608"
      },
      "outputs": [],
      "source": [
        "nflx = sp500_px.loc[:,'NFLX']"
      ]
    },
    {
      "cell_type": "code",
      "execution_count": 37,
      "id": "810c3647",
      "metadata": {
        "colab": {
          "base_uri": "https://localhost:8080/",
          "height": 0
        },
        "id": "810c3647",
        "outputId": "388119d8-6aa1-43ab-a184-02c8673fa3d6"
      },
      "outputs": [
        {
          "output_type": "display_data",
          "data": {
            "image/png": "[encoded data removed]",
            "text/plain": [
              "<Figure size 432x288 with 1 Axes>"
            ]
          },
          "metadata": {
            "needs_background": "light"
          }
        },
        {
          "output_type": "stream",
          "name": "stderr",
          "text": [
            "/usr/local/lib/python3.7/dist-packages/pandas/core/series.py:726: RuntimeWarning: divide by zero encountered in log\n",
            "  result = getattr(ufunc, method)(*inputs, **kwargs)\n",
            "/usr/local/lib/python3.7/dist-packages/numpy/lib/function_base.py:1280: RuntimeWarning: invalid value encountered in subtract\n",
            "  a = op(a[slice1], a[slice2])\n"
          ]
        },
        {
          "output_type": "display_data",
          "data": {
            "image/png": "[encoded data removed]",
            "text/plain": [
              "<Figure size 432x288 with 1 Axes>"
            ]
          },
          "metadata": {
            "needs_background": "light"
          }
        }
      ],
      "source": [
        "stats.probplot(nflx, dist=\"norm\", plot=pylab)\n",
        "pylab.show()\n",
        "\n",
        "# After standardizing tread\n",
        "\n",
        "treated_nflx = np.diff(np.log(nflx))\n",
        "stats.probplot(treated_nflx, dist=\"norm\", plot=pylab,fit=True)\n",
        "pylab.show()"
      ]
    },
    {
      "cell_type": "code",
      "execution_count": 37,
      "id": "6c0fb141",
      "metadata": {
        "id": "6c0fb141"
      },
      "outputs": [],
      "source": [
        ""
      ]
    }
  ],
  "metadata": {
    "kernelspec": {
      "display_name": "Python 3",
      "language": "python",
      "name": "python3"
    },
    "language_info": {
      "codemirror_mode": {
        "name": "ipython",
        "version": 3
      },
      "file_extension": ".py",
      "mimetype": "text/x-python",
      "name": "python",
      "nbconvert_exporter": "python",
      "pygments_lexer": "ipython3",
      "version": "3.8.8"
    },
    "colab": {
      "name": "Assignment 10 - Data & Sampling Distribution.ipynb",
      "provenance": [],
      "collapsed_sections": [
        "77acb706"
      ]
    }
  },
  "nbformat": 4,
  "nbformat_minor": 5
}