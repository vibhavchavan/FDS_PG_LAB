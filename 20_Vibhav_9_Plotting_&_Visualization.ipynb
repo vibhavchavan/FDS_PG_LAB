{
  "cells": [
    {
      "cell_type": "code",
      "execution_count": 113,
      "id": "f4972c59",
      "metadata": {
        "id": "f4972c59"
      },
      "outputs": [],
      "source": [
        "import matplotlib.pyplot as plt\n",
        "import numpy as np"
      ]
    },
    {
      "cell_type": "code",
      "execution_count": 114,
      "id": "5f79842a",
      "metadata": {
        "id": "5f79842a"
      },
      "outputs": [],
      "source": [
        "data = np.arange(9)"
      ]
    },
    {
      "cell_type": "code",
      "execution_count": 115,
      "id": "1594ef77",
      "metadata": {
        "colab": {
          "base_uri": "https://localhost:8080/"
        },
        "id": "1594ef77",
        "outputId": "97e706b7-7818-4162-d8f5-be93f3ada63c"
      },
      "outputs": [
        {
          "output_type": "execute_result",
          "data": {
            "text/plain": [
              "array([0, 1, 2, 3, 4, 5, 6, 7, 8])"
            ]
          },
          "metadata": {},
          "execution_count": 115
        }
      ],
      "source": [
        "data"
      ]
    },
    {
      "cell_type": "code",
      "execution_count": 116,
      "id": "9b351984",
      "metadata": {
        "colab": {
          "base_uri": "https://localhost:8080/",
          "height": 282
        },
        "id": "9b351984",
        "outputId": "00b3315b-7ca1-4986-9fd2-8ded4954ad80"
      },
      "outputs": [
        {
          "output_type": "execute_result",
          "data": {
            "text/plain": [
              "[<matplotlib.lines.Line2D at 0x7fcb3ce1db10>]"
            ]
          },
          "metadata": {},
          "execution_count": 116
        },
        {
          "output_type": "display_data",
          "data": {
            "image/png": "[encoded data removed]",
            "text/plain": [
              "<Figure size 432x288 with 1 Axes>"
            ]
          },
          "metadata": {
            "needs_background": "light"
          }
        }
      ],
      "source": [
        "plt.plot(data)"
      ]
    },
    {
      "cell_type": "markdown",
      "id": "16ae67a0",
      "metadata": {
        "id": "16ae67a0"
      },
      "source": [
        "### Figures and Subplots"
      ]
    },
    {
      "cell_type": "code",
      "execution_count": 117,
      "id": "34b06a3a",
      "metadata": {
        "colab": {
          "base_uri": "https://localhost:8080/",
          "height": 641
        },
        "id": "34b06a3a",
        "outputId": "c299b563-bb07-4879-b08c-eda22862bacd"
      },
      "outputs": [
        {
          "output_type": "execute_result",
          "data": {
            "text/plain": [
              "[<matplotlib.lines.Line2D at 0x7fcb3cd46b90>]"
            ]
          },
          "metadata": {},
          "execution_count": 117
        },
        {
          "output_type": "display_data",
          "data": {
            "image/png": "[encoded data removed]",
            "text/plain": [
              "<Figure size 432x288 with 2 Axes>"
            ]
          },
          "metadata": {
            "needs_background": "light"
          }
        }
      ],
      "source": [
        "fig1 = plt.figure()\n",
        "ax1 = fig1.add_axes([0,0,1,1])\n",
        "ax2 = fig1.add_axes([0,1,1,1])\n",
        "data1 = np.arange(10,20)\n",
        "ax1.plot(data)\n",
        "ax2.plot(data1)"
      ]
    },
    {
      "cell_type": "code",
      "execution_count": 118,
      "id": "dd6c7ac0",
      "metadata": {
        "colab": {
          "base_uri": "https://localhost:8080/",
          "height": 34
        },
        "id": "dd6c7ac0",
        "outputId": "8b8dcbf7-4da2-40fa-bad1-6981dc46dd6e"
      },
      "outputs": [
        {
          "output_type": "display_data",
          "data": {
            "text/plain": [
              "<Figure size 432x288 with 0 Axes>"
            ]
          },
          "metadata": {}
        }
      ],
      "source": [
        "fig2 = plt.figure()"
      ]
    },
    {
      "cell_type": "code",
      "execution_count": 119,
      "id": "f579bc92",
      "metadata": {
        "id": "f579bc92"
      },
      "outputs": [],
      "source": [
        "ax1 = fig2.add_subplot(2,2,1)"
      ]
    },
    {
      "cell_type": "code",
      "execution_count": 120,
      "id": "7c448023",
      "metadata": {
        "id": "7c448023"
      },
      "outputs": [],
      "source": [
        "ax2 = fig2.add_subplot(2,2,2)"
      ]
    },
    {
      "cell_type": "code",
      "execution_count": 121,
      "id": "731c65a8",
      "metadata": {
        "id": "731c65a8"
      },
      "outputs": [],
      "source": [
        "ax3 = fig2.add_subplot(2,2,3)"
      ]
    },
    {
      "cell_type": "code",
      "execution_count": 122,
      "id": "202126e0",
      "metadata": {
        "colab": {
          "base_uri": "https://localhost:8080/",
          "height": 269
        },
        "id": "202126e0",
        "outputId": "11c29426-6006-4451-e739-fd5928a1451d"
      },
      "outputs": [
        {
          "output_type": "execute_result",
          "data": {
            "image/png": "[encoded data removed]",
            "text/plain": [
              "<Figure size 432x288 with 3 Axes>"
            ]
          },
          "metadata": {},
          "execution_count": 122
        }
      ],
      "source": [
        "fig2"
      ]
    },
    {
      "cell_type": "code",
      "execution_count": 123,
      "id": "318e9972",
      "metadata": {
        "colab": {
          "base_uri": "https://localhost:8080/",
          "height": 282
        },
        "id": "318e9972",
        "outputId": "cb9eaa89-91c0-478d-d071-c09327db4b83"
      },
      "outputs": [
        {
          "output_type": "execute_result",
          "data": {
            "text/plain": [
              "[<matplotlib.lines.Line2D at 0x7fcb3d8f4210>]"
            ]
          },
          "metadata": {},
          "execution_count": 123
        },
        {
          "output_type": "display_data",
          "data": {
            "image/png": "[encoded data removed]",
            "text/plain": [
              "<Figure size 432x288 with 1 Axes>"
            ]
          },
          "metadata": {
            "needs_background": "light"
          }
        }
      ],
      "source": [
        "plt.plot(np.random.randn(50).cumsum(),'k--')"
      ]
    },
    {
      "cell_type": "markdown",
      "id": "bf8453b1",
      "metadata": {
        "id": "bf8453b1"
      },
      "source": [
        "One nuance of using Jupyter notebooks is that plots are reset after\n",
        "each cell is evaluated, so for more complex plots you must put all of\n",
        "the plotting commands in a single notebook cell.\n"
      ]
    },
    {
      "cell_type": "code",
      "execution_count": 124,
      "id": "8cf7ed36",
      "metadata": {
        "colab": {
          "base_uri": "https://localhost:8080/",
          "height": 286
        },
        "id": "8cf7ed36",
        "outputId": "0e690352-2bc8-47f0-c5bd-4165e7e39704"
      },
      "outputs": [
        {
          "output_type": "execute_result",
          "data": {
            "text/plain": [
              "[<matplotlib.lines.Line2D at 0x7fcb3da4aa90>]"
            ]
          },
          "metadata": {},
          "execution_count": 124
        },
        {
          "output_type": "display_data",
          "data": {
            "image/png": "[encoded data removed]",
            "text/plain": [
              "<Figure size 432x288 with 3 Axes>"
            ]
          },
          "metadata": {
            "needs_background": "light"
          }
        }
      ],
      "source": [
        "fig3 = plt.figure()\n",
        "ax1 = fig3.add_subplot(2,2,1)\n",
        "ax2 = fig3.add_subplot(2,2,2)\n",
        "ax3 = fig3.add_subplot(2,2,3)\n",
        "plt.plot(np.random.randn(50).cumsum(),'k--')"
      ]
    },
    {
      "cell_type": "markdown",
      "id": "642d1ad7",
      "metadata": {
        "id": "642d1ad7"
      },
      "source": [
        "The 'k--' is a style option instructing matplotlib to plot a black dashed line. The\n",
        "objects returned by fig.add_subplot here are AxesSubplot objects, on which you\n",
        "can directly plot on the other empty subplots by calling each one’s instance method"
      ]
    },
    {
      "cell_type": "code",
      "execution_count": 125,
      "id": "4f300e48",
      "metadata": {
        "colab": {
          "base_uri": "https://localhost:8080/"
        },
        "id": "4f300e48",
        "outputId": "ba85e753-2857-49c5-f29a-08566febe4b5"
      },
      "outputs": [
        {
          "output_type": "execute_result",
          "data": {
            "text/plain": [
              "(array([ 1.,  1.,  0.,  2.,  0.,  4.,  7.,  8.,  9.,  8.,  5.,  7.,  8.,\n",
              "         8., 11.,  7.,  2.,  7.,  2.,  3.]),\n",
              " array([-2.99588575, -2.73777722, -2.47966868, -2.22156015, -1.96345161,\n",
              "        -1.70534308, -1.44723454, -1.189126  , -0.93101747, -0.67290893,\n",
              "        -0.4148004 , -0.15669186,  0.10141667,  0.35952521,  0.61763374,\n",
              "         0.87574228,  1.13385082,  1.39195935,  1.65006789,  1.90817642,\n",
              "         2.16628496]),\n",
              " <a list of 20 Patch objects>)"
            ]
          },
          "metadata": {},
          "execution_count": 125
        }
      ],
      "source": [
        "ax1.hist(np.random.randn(100), bins=20, color='k', alpha=0.3)"
      ]
    },
    {
      "cell_type": "code",
      "execution_count": 126,
      "id": "ed422e96",
      "metadata": {
        "colab": {
          "base_uri": "https://localhost:8080/",
          "height": 269
        },
        "id": "ed422e96",
        "outputId": "5ceea935-0603-40c4-f7f6-a2b31c01bf9e"
      },
      "outputs": [
        {
          "output_type": "execute_result",
          "data": {
            "image/png": "[encoded data removed]",
            "text/plain": [
              "<Figure size 432x288 with 3 Axes>"
            ]
          },
          "metadata": {},
          "execution_count": 126
        }
      ],
      "source": [
        "fig3"
      ]
    },
    {
      "cell_type": "code",
      "execution_count": 127,
      "id": "96392768",
      "metadata": {
        "colab": {
          "base_uri": "https://localhost:8080/"
        },
        "id": "96392768",
        "outputId": "d42e1adb-59bd-449d-a845-9c2d113a7983"
      },
      "outputs": [
        {
          "output_type": "execute_result",
          "data": {
            "text/plain": [
              "<matplotlib.collections.PathCollection at 0x7fcb3de03990>"
            ]
          },
          "metadata": {},
          "execution_count": 127
        }
      ],
      "source": [
        "ax2.scatter(np.arange(30), np.arange(30) + 3 * np.random.randn(30))"
      ]
    },
    {
      "cell_type": "code",
      "execution_count": 128,
      "id": "32c6c7b8",
      "metadata": {
        "colab": {
          "base_uri": "https://localhost:8080/",
          "height": 265
        },
        "id": "32c6c7b8",
        "outputId": "e67cf36a-f62a-464f-9952-ad4f161b7e6d"
      },
      "outputs": [
        {
          "output_type": "execute_result",
          "data": {
            "image/png": "[encoded data removed]",
            "text/plain": [
              "<Figure size 432x288 with 3 Axes>"
            ]
          },
          "metadata": {},
          "execution_count": 128
        }
      ],
      "source": [
        "fig3"
      ]
    },
    {
      "cell_type": "markdown",
      "id": "7c35d893",
      "metadata": {
        "id": "7c35d893"
      },
      "source": [
        "Creating a figure with a grid of subplots is a very common task, so matplotlib includes a convenience method, plt.subplots, that creates a new figure and returns a NumPy array containing the created subplot objects."
      ]
    },
    {
      "cell_type": "markdown",
      "id": "4f46e56b",
      "metadata": {
        "id": "4f46e56b"
      },
      "source": [
        " ### pyplot.subplots options\n",
        "- nrows - Number of rows of subplots\n",
        "- ncols - Number of columns of subplots\n",
        "- sharex - All subplots should use the same x-axis ticks (adjusting the xlim will affect all subplots)\n",
        "- sharey - All subplots should use the same y-axis ticks (adjusting the ylim will affect all subplots)\n",
        "- subplot_kw - Dict of keywords passed to add_subplot call used to create each subplot\n",
        "- **fig_kw - Additional keywords to subplots are used when creating the figure, such as plt.subplots(2, 2, figsize=(8, 6))"
      ]
    },
    {
      "cell_type": "code",
      "execution_count": 129,
      "id": "ae2670bf",
      "metadata": {
        "colab": {
          "base_uri": "https://localhost:8080/",
          "height": 0
        },
        "id": "ae2670bf",
        "outputId": "ff267ea1-0ec8-4bdc-c26f-6ac2602ff164"
      },
      "outputs": [
        {
          "output_type": "display_data",
          "data": {
            "image/png": "[encoded data removed]",
            "text/plain": [
              "<Figure size 432x288 with 6 Axes>"
            ]
          },
          "metadata": {
            "needs_background": "light"
          }
        }
      ],
      "source": [
        "fig , axes = plt.subplots(2,3)"
      ]
    },
    {
      "cell_type": "markdown",
      "id": "b230d2e8",
      "metadata": {
        "id": "b230d2e8"
      },
      "source": [
        "This is very useful, as the axes array can be easily indexed like a two-dimensional array; for example, axes[0, 1]. You can also indicate that subplots should have the same x- or y-axis using sharex and sharey, respectively. "
      ]
    },
    {
      "cell_type": "code",
      "execution_count": 130,
      "id": "6d7e651f",
      "metadata": {
        "colab": {
          "base_uri": "https://localhost:8080/"
        },
        "id": "6d7e651f",
        "outputId": "aaa6d356-105d-403b-81d6-be416e6de898"
      },
      "outputs": [
        {
          "output_type": "execute_result",
          "data": {
            "text/plain": [
              "array([[<matplotlib.axes._subplots.AxesSubplot object at 0x7fcb3de97390>,\n",
              "        <matplotlib.axes._subplots.AxesSubplot object at 0x7fcb3df37910>,\n",
              "        <matplotlib.axes._subplots.AxesSubplot object at 0x7fcb3dd0b910>],\n",
              "       [<matplotlib.axes._subplots.AxesSubplot object at 0x7fcb3dd8cfd0>,\n",
              "        <matplotlib.axes._subplots.AxesSubplot object at 0x7fcb3dfa4e10>,\n",
              "        <matplotlib.axes._subplots.AxesSubplot object at 0x7fcb3deda850>]],\n",
              "      dtype=object)"
            ]
          },
          "metadata": {},
          "execution_count": 130
        }
      ],
      "source": [
        "axes"
      ]
    },
    {
      "cell_type": "code",
      "execution_count": 131,
      "id": "5f7c2c0e",
      "metadata": {
        "colab": {
          "base_uri": "https://localhost:8080/"
        },
        "id": "5f7c2c0e",
        "outputId": "bb01073b-b676-4c52-a2c3-7aa24a71fae3"
      },
      "outputs": [
        {
          "output_type": "execute_result",
          "data": {
            "text/plain": [
              "<matplotlib.axes._subplots.AxesSubplot at 0x7fcb3df37910>"
            ]
          },
          "metadata": {},
          "execution_count": 131
        }
      ],
      "source": [
        "axes[0,1]"
      ]
    },
    {
      "cell_type": "code",
      "execution_count": 132,
      "id": "ea016caa",
      "metadata": {
        "id": "ea016caa"
      },
      "outputs": [],
      "source": [
        "ax1 = axes[0,1]"
      ]
    },
    {
      "cell_type": "code",
      "execution_count": 133,
      "id": "04b76a98",
      "metadata": {
        "colab": {
          "base_uri": "https://localhost:8080/"
        },
        "id": "04b76a98",
        "outputId": "94377f6e-c031-4122-e44f-b24d159a63cf"
      },
      "outputs": [
        {
          "output_type": "execute_result",
          "data": {
            "text/plain": [
              "(array([ 7.,  2.,  1.,  6.,  3.,  9.,  8., 10.,  3., 12., 13.,  3.,  5.,\n",
              "         6.,  3.,  2.,  1.,  2.,  3.,  1.]),\n",
              " array([-1.8621521 , -1.65051231, -1.43887253, -1.22723274, -1.01559295,\n",
              "        -0.80395317, -0.59231338, -0.3806736 , -0.16903381,  0.04260597,\n",
              "         0.25424576,  0.46588555,  0.67752533,  0.88916512,  1.1008049 ,\n",
              "         1.31244469,  1.52408447,  1.73572426,  1.94736405,  2.15900383,\n",
              "         2.37064362]),\n",
              " <a list of 20 Patch objects>)"
            ]
          },
          "metadata": {},
          "execution_count": 133
        }
      ],
      "source": [
        "ax1.hist(np.random.randn(100), bins=20, color='k', alpha=0.3)"
      ]
    },
    {
      "cell_type": "code",
      "execution_count": 134,
      "id": "b4bb0144",
      "metadata": {
        "colab": {
          "base_uri": "https://localhost:8080/",
          "height": 0
        },
        "id": "b4bb0144",
        "outputId": "a49c4242-9a0c-41bf-b093-017a37dd1755"
      },
      "outputs": [
        {
          "output_type": "execute_result",
          "data": {
            "image/png": "[encoded data removed]",
            "text/plain": [
              "<Figure size 432x288 with 6 Axes>"
            ]
          },
          "metadata": {},
          "execution_count": 134
        }
      ],
      "source": [
        "fig"
      ]
    },
    {
      "cell_type": "markdown",
      "id": "f4ad1371",
      "metadata": {
        "id": "f4ad1371"
      },
      "source": [
        "### Adjusting the spacing around subplots"
      ]
    },
    {
      "cell_type": "markdown",
      "id": "c2a2697f",
      "metadata": {
        "id": "c2a2697f"
      },
      "source": [
        "By default matplotlib leaves a certain amount of padding around the outside of the\n",
        "subplots and spacing between subplots. This spacing is all specified relative to the\n",
        "height and width of the plot, so that if you resize the plot either programmatically or\n",
        "manually using the GUI window, the plot will dynamically adjust itself. You can\n",
        "change the spacing using the subplots_adjust method on Figure objects, also avail‐\n",
        "able as a top-level function:\n"
      ]
    },
    {
      "cell_type": "code",
      "execution_count": 135,
      "id": "a8b82fc9",
      "metadata": {
        "colab": {
          "base_uri": "https://localhost:8080/",
          "height": 0
        },
        "id": "a8b82fc9",
        "outputId": "dab7cd55-112a-4752-c37f-36e70f506c4c"
      },
      "outputs": [
        {
          "output_type": "display_data",
          "data": {
            "image/png": "[encoded data removed]",
            "text/plain": [
              "<Figure size 432x288 with 4 Axes>"
            ]
          },
          "metadata": {
            "needs_background": "light"
          }
        }
      ],
      "source": [
        "fig, axes = plt.subplots(2,2,sharex= True,sharey= True)\n",
        "for i in range(2):\n",
        "    for j in range(2):\n",
        "        axes[i,j].hist(np.random.rand(50),bins=20,color='k',alpha=0.5)\n",
        "plt.subplots_adjust(wspace=0,hspace=0)"
      ]
    },
    {
      "cell_type": "markdown",
      "id": "091e2e00",
      "metadata": {
        "id": "091e2e00"
      },
      "source": [
        "### Colors, Markers, and Line Styles"
      ]
    },
    {
      "cell_type": "markdown",
      "id": "89846d82",
      "metadata": {
        "id": "89846d82"
      },
      "source": [
        "Matplotlib’s main plot function accepts arrays of x and y coordinates and optionally a\n",
        "string abbreviation indicating color and line style. For example, to plot x versus y\n",
        "with green dashes, you would execute:"
      ]
    },
    {
      "cell_type": "code",
      "execution_count": 136,
      "id": "0c51f5ce",
      "metadata": {
        "colab": {
          "base_uri": "https://localhost:8080/",
          "height": 0
        },
        "id": "0c51f5ce",
        "outputId": "ae8b901b-049e-41e9-f274-c6b7abb27511"
      },
      "outputs": [
        {
          "output_type": "execute_result",
          "data": {
            "text/plain": [
              "[<matplotlib.lines.Line2D at 0x7fcb3c867450>]"
            ]
          },
          "metadata": {},
          "execution_count": 136
        },
        {
          "output_type": "display_data",
          "data": {
            "image/png": "[encoded data removed]",
            "text/plain": [
              "<Figure size 432x288 with 1 Axes>"
            ]
          },
          "metadata": {
            "needs_background": "light"
          }
        }
      ],
      "source": [
        "from numpy.random import randn\n",
        "plt.plot(randn(30).cumsum(), 'ko--')"
      ]
    },
    {
      "cell_type": "markdown",
      "id": "0c745af6",
      "metadata": {
        "id": "0c745af6"
      },
      "source": [
        "This could also have been written more explicitly as:"
      ]
    },
    {
      "cell_type": "code",
      "execution_count": 137,
      "id": "48a2a8e7",
      "metadata": {
        "colab": {
          "base_uri": "https://localhost:8080/",
          "height": 0
        },
        "id": "48a2a8e7",
        "outputId": "6573cc82-aee9-4b3b-c9ba-4f7dd1fbb8df"
      },
      "outputs": [
        {
          "output_type": "execute_result",
          "data": {
            "text/plain": [
              "[<matplotlib.lines.Line2D at 0x7fcb3c80ffd0>]"
            ]
          },
          "metadata": {},
          "execution_count": 137
        },
        {
          "output_type": "display_data",
          "data": {
            "image/png": "[encoded data removed]",
            "text/plain": [
              "<Figure size 432x288 with 1 Axes>"
            ]
          },
          "metadata": {
            "needs_background": "light"
          }
        }
      ],
      "source": [
        "plt.plot(randn(30).cumsum(), color='k', linestyle='dashed', marker='o')"
      ]
    },
    {
      "cell_type": "code",
      "execution_count": 138,
      "id": "1d5d295f",
      "metadata": {
        "id": "1d5d295f"
      },
      "outputs": [],
      "source": [
        "data = np.random.randn(30).cumsum()"
      ]
    },
    {
      "cell_type": "code",
      "execution_count": 139,
      "id": "8e819db7",
      "metadata": {
        "colab": {
          "base_uri": "https://localhost:8080/"
        },
        "id": "8e819db7",
        "outputId": "34fa37a6-849c-453b-d993-d1b2566c68bb"
      },
      "outputs": [
        {
          "output_type": "execute_result",
          "data": {
            "text/plain": [
              "array([-0.39419689, -1.55896162, -3.55082709, -5.24636999, -5.97804767,\n",
              "       -6.59081309, -6.09598511, -7.34810382, -6.81999994, -7.28523686,\n",
              "       -7.00738694, -6.12473051, -6.33381839, -5.41879275, -3.73537256,\n",
              "       -3.77309684, -4.18353253, -4.37417823, -2.85435809, -2.7192405 ,\n",
              "       -2.29776793, -2.42233719, -2.32470583, -5.62837912, -4.79754922,\n",
              "       -6.75368714, -7.76000618, -8.98478918, -8.50024267, -6.78491104])"
            ]
          },
          "metadata": {},
          "execution_count": 139
        }
      ],
      "source": [
        "data"
      ]
    },
    {
      "cell_type": "code",
      "execution_count": 140,
      "id": "85cb5745",
      "metadata": {
        "colab": {
          "base_uri": "https://localhost:8080/",
          "height": 0
        },
        "id": "85cb5745",
        "outputId": "a822aa8c-b4a7-42c6-e308-bca90e3de6ad"
      },
      "outputs": [
        {
          "output_type": "execute_result",
          "data": {
            "text/plain": [
              "<matplotlib.legend.Legend at 0x7fcb3c7e3850>"
            ]
          },
          "metadata": {},
          "execution_count": 140
        },
        {
          "output_type": "display_data",
          "data": {
            "image/png": "[encoded data removed]",
            "text/plain": [
              "<Figure size 432x288 with 1 Axes>"
            ]
          },
          "metadata": {
            "needs_background": "light"
          }
        }
      ],
      "source": [
        "plt.plot(data, 'k--', label='Default')\n",
        "plt.plot(data, 'k-', drawstyle='steps-post', label='steps-post')\n",
        "plt.legend(loc='best')"
      ]
    },
    {
      "cell_type": "markdown",
      "id": "ac9f1951",
      "metadata": {
        "id": "ac9f1951"
      },
      "source": [
        "### Ticks, Labels, and Legends"
      ]
    },
    {
      "cell_type": "markdown",
      "id": "4db9696a",
      "metadata": {
        "id": "4db9696a"
      },
      "source": [
        "There are two main ways to do things: using the \n",
        "procedural pyplot interface (i.e., matplotlib.pyplot) and the more object-oriented\n",
        "native matplotlib API.\n",
        "The pyplot interface, designed for interactive use, consists of methods like xlim,\n",
        "xticks, and xticklabels. These control the plot range, tick locations, and tick labels,\n",
        "respectively. They can be used in two ways:\n",
        "- Called with no arguments returns the current parameter value (e.g., plt.xlim()\n",
        "returns the current x-axis plotting range)\n",
        "- Called with parameters sets the parameter value (e.g., plt.xlim([0, 10]), sets\n",
        "the x-axis range to 0 to 10)\n",
        "\n",
        "All such methods act on the active or most recently created AxesSubplot. Each of\n",
        "them corresponds to two methods on the subplot object itself; in the case of xlim\n",
        "these are ax.get_xlim and ax.set_xlim.\n"
      ]
    },
    {
      "cell_type": "code",
      "execution_count": 141,
      "id": "58c12e52",
      "metadata": {
        "colab": {
          "base_uri": "https://localhost:8080/",
          "height": 0
        },
        "id": "58c12e52",
        "outputId": "086c2acb-0056-4cd2-c052-8ef25e577efc"
      },
      "outputs": [
        {
          "output_type": "display_data",
          "data": {
            "text/plain": [
              "<Figure size 432x288 with 0 Axes>"
            ]
          },
          "metadata": {}
        }
      ],
      "source": [
        "fig = plt.figure()"
      ]
    },
    {
      "cell_type": "code",
      "execution_count": 142,
      "id": "47586f0b",
      "metadata": {
        "colab": {
          "base_uri": "https://localhost:8080/"
        },
        "id": "47586f0b",
        "outputId": "0d3e209c-97d3-4a6b-82c4-5343d7c992f5"
      },
      "outputs": [
        {
          "output_type": "execute_result",
          "data": {
            "text/plain": [
              "[<matplotlib.lines.Line2D at 0x7fcb3c700b50>]"
            ]
          },
          "metadata": {},
          "execution_count": 142
        }
      ],
      "source": [
        "ax = fig.add_subplot(1,1,1)\n",
        "ax.plot(np.random.randn(1000).cumsum())"
      ]
    },
    {
      "cell_type": "code",
      "execution_count": 143,
      "id": "c7a643ba",
      "metadata": {
        "colab": {
          "base_uri": "https://localhost:8080/",
          "height": 0
        },
        "id": "c7a643ba",
        "outputId": "147b2f60-aa39-4a3a-a11d-fa56b3fb3f4f"
      },
      "outputs": [
        {
          "output_type": "execute_result",
          "data": {
            "image/png": "[encoded data removed]",
            "text/plain": [
              "<Figure size 432x288 with 1 Axes>"
            ]
          },
          "metadata": {},
          "execution_count": 143
        }
      ],
      "source": [
        "fig"
      ]
    },
    {
      "cell_type": "code",
      "execution_count": 144,
      "id": "1edcf3d9",
      "metadata": {
        "id": "1edcf3d9"
      },
      "outputs": [],
      "source": [
        "ticks = ax.set_xticks([0,250,500,750,1000])"
      ]
    },
    {
      "cell_type": "code",
      "execution_count": 145,
      "id": "66afe2ca",
      "metadata": {
        "colab": {
          "base_uri": "https://localhost:8080/",
          "height": 0
        },
        "id": "66afe2ca",
        "outputId": "4657b87b-3d0f-429e-c57b-8bc0eeda17e4"
      },
      "outputs": [
        {
          "output_type": "execute_result",
          "data": {
            "image/png": "[encoded data removed]",
            "text/plain": [
              "<Figure size 432x288 with 1 Axes>"
            ]
          },
          "metadata": {},
          "execution_count": 145
        }
      ],
      "source": [
        "fig"
      ]
    },
    {
      "cell_type": "code",
      "execution_count": 146,
      "id": "07fcd59f",
      "metadata": {
        "id": "07fcd59f"
      },
      "outputs": [],
      "source": [
        "labels = ax.set_xticklabels(['one', 'two', 'three', 'four', 'five'],rotation=30, fontsize='small')"
      ]
    },
    {
      "cell_type": "code",
      "execution_count": 147,
      "id": "dacef619",
      "metadata": {
        "colab": {
          "base_uri": "https://localhost:8080/",
          "height": 0
        },
        "id": "dacef619",
        "outputId": "5a79a713-9bc1-4f47-f890-c405eded8372"
      },
      "outputs": [
        {
          "output_type": "execute_result",
          "data": {
            "image/png": "[encoded data removed]",
            "text/plain": [
              "<Figure size 432x288 with 1 Axes>"
            ]
          },
          "metadata": {},
          "execution_count": 147
        }
      ],
      "source": [
        "fig"
      ]
    },
    {
      "cell_type": "code",
      "execution_count": 148,
      "id": "c19dd26d",
      "metadata": {
        "colab": {
          "base_uri": "https://localhost:8080/"
        },
        "id": "c19dd26d",
        "outputId": "5319f628-d644-4e35-a495-1735af3d8c82"
      },
      "outputs": [
        {
          "output_type": "execute_result",
          "data": {
            "text/plain": [
              "Text(0.5, 1.0, 'My first matplotlib plot')"
            ]
          },
          "metadata": {},
          "execution_count": 148
        }
      ],
      "source": [
        "ax.set_title('My first matplotlib plot')"
      ]
    },
    {
      "cell_type": "code",
      "execution_count": 149,
      "id": "bcb71549",
      "metadata": {
        "colab": {
          "base_uri": "https://localhost:8080/",
          "height": 0
        },
        "id": "bcb71549",
        "outputId": "56dbeaf3-3fd7-4016-92d8-bf33142a9ca7"
      },
      "outputs": [
        {
          "output_type": "execute_result",
          "data": {
            "image/png": "[encoded data removed]",
            "text/plain": [
              "<Figure size 432x288 with 1 Axes>"
            ]
          },
          "metadata": {},
          "execution_count": 149
        }
      ],
      "source": [
        "fig"
      ]
    },
    {
      "cell_type": "code",
      "execution_count": 150,
      "id": "d378af6e",
      "metadata": {
        "colab": {
          "base_uri": "https://localhost:8080/"
        },
        "id": "d378af6e",
        "outputId": "067a64c1-14b0-447c-9e1c-196626fc536f"
      },
      "outputs": [
        {
          "output_type": "execute_result",
          "data": {
            "text/plain": [
              "Text(0.5, 3.200000000000003, 'Stages')"
            ]
          },
          "metadata": {},
          "execution_count": 150
        }
      ],
      "source": [
        "ax.set_xlabel('Stages')"
      ]
    },
    {
      "cell_type": "code",
      "execution_count": 151,
      "id": "0f0bf315",
      "metadata": {
        "colab": {
          "base_uri": "https://localhost:8080/",
          "height": 0
        },
        "id": "0f0bf315",
        "outputId": "361a05d7-bfc8-40b3-fac0-ff874ec8537e"
      },
      "outputs": [
        {
          "output_type": "execute_result",
          "data": {
            "image/png": "[encoded data removed]",
            "text/plain": [
              "<Figure size 432x288 with 1 Axes>"
            ]
          },
          "metadata": {},
          "execution_count": 151
        }
      ],
      "source": [
        "fig"
      ]
    },
    {
      "cell_type": "markdown",
      "id": "cc09d7d9",
      "metadata": {
        "id": "cc09d7d9"
      },
      "source": [
        "Modifying the y-axis consists of the same process, substituting y for x in the above.\n",
        "The axes class has a set method that allows batch setting of plot properties. From the\n",
        "prior example, we could also have written:"
      ]
    },
    {
      "cell_type": "code",
      "execution_count": 152,
      "id": "15479fad",
      "metadata": {
        "colab": {
          "base_uri": "https://localhost:8080/"
        },
        "id": "15479fad",
        "outputId": "429956cb-6100-47de-dae7-647130778b10"
      },
      "outputs": [
        {
          "output_type": "execute_result",
          "data": {
            "text/plain": [
              "[Text(0.5, 17.200000000000003, 'Stages'),\n",
              " Text(0.5, 1.0, 'My first matplotlib plot')]"
            ]
          },
          "metadata": {},
          "execution_count": 152
        }
      ],
      "source": [
        "props = {\n",
        " 'title': 'My first matplotlib plot',\n",
        " 'xlabel': 'Stages'\n",
        "}\n",
        "ax.set(**props)"
      ]
    },
    {
      "cell_type": "code",
      "execution_count": 153,
      "id": "c5cb3ee9",
      "metadata": {
        "colab": {
          "base_uri": "https://localhost:8080/",
          "height": 0
        },
        "id": "c5cb3ee9",
        "outputId": "999c3c5a-9dc5-43ea-9365-1eff56739356"
      },
      "outputs": [
        {
          "output_type": "execute_result",
          "data": {
            "image/png": "[encoded data removed]",
            "text/plain": [
              "<Figure size 432x288 with 1 Axes>"
            ]
          },
          "metadata": {},
          "execution_count": 153
        }
      ],
      "source": [
        "fig"
      ]
    },
    {
      "cell_type": "markdown",
      "id": "3d9fb6a5",
      "metadata": {
        "id": "3d9fb6a5"
      },
      "source": [
        "**Adding legends**\n",
        "\n",
        "- Legends are another critical element for identifying plot elements. There are a couple\n",
        "of ways to add one. The easiest is to pass the label argument when adding each piece\n",
        "of the plot:"
      ]
    },
    {
      "cell_type": "code",
      "execution_count": 154,
      "id": "608aacfb",
      "metadata": {
        "id": "608aacfb"
      },
      "outputs": [],
      "source": [
        "from numpy.random import randn"
      ]
    },
    {
      "cell_type": "code",
      "execution_count": 155,
      "id": "9b0d4e84",
      "metadata": {
        "colab": {
          "base_uri": "https://localhost:8080/",
          "height": 0
        },
        "id": "9b0d4e84",
        "outputId": "cdaf662a-395c-4518-8c5b-577430c10158"
      },
      "outputs": [
        {
          "output_type": "display_data",
          "data": {
            "text/plain": [
              "<Figure size 432x288 with 0 Axes>"
            ]
          },
          "metadata": {}
        }
      ],
      "source": [
        "fig = plt.figure()"
      ]
    },
    {
      "cell_type": "code",
      "execution_count": 156,
      "id": "02f8f3e4",
      "metadata": {
        "id": "02f8f3e4"
      },
      "outputs": [],
      "source": [
        "ax1 = fig.add_subplot(1,1,1)"
      ]
    },
    {
      "cell_type": "code",
      "execution_count": 157,
      "id": "e3ebc011",
      "metadata": {
        "colab": {
          "base_uri": "https://localhost:8080/"
        },
        "id": "e3ebc011",
        "outputId": "8e718284-4665-4734-ad5b-4326f54cecc8"
      },
      "outputs": [
        {
          "output_type": "execute_result",
          "data": {
            "text/plain": [
              "matplotlib.axes._subplots.AxesSubplot"
            ]
          },
          "metadata": {},
          "execution_count": 157
        }
      ],
      "source": [
        "type(ax1)"
      ]
    },
    {
      "cell_type": "code",
      "execution_count": 158,
      "id": "dd3524d4",
      "metadata": {
        "id": "dd3524d4"
      },
      "outputs": [],
      "source": [
        "data =randn(50).cumsum()"
      ]
    },
    {
      "cell_type": "code",
      "execution_count": 159,
      "id": "68bd2aab",
      "metadata": {
        "colab": {
          "base_uri": "https://localhost:8080/"
        },
        "id": "68bd2aab",
        "outputId": "caf85abd-1bc9-42d5-c7ce-1512e46f17e5"
      },
      "outputs": [
        {
          "output_type": "execute_result",
          "data": {
            "text/plain": [
              "[<matplotlib.lines.Line2D at 0x7fcb3c6cb850>]"
            ]
          },
          "metadata": {},
          "execution_count": 159
        }
      ],
      "source": [
        "ax1.plot(data,'r-',label='one')"
      ]
    },
    {
      "cell_type": "code",
      "execution_count": 160,
      "id": "898945c7",
      "metadata": {
        "colab": {
          "base_uri": "https://localhost:8080/"
        },
        "id": "898945c7",
        "outputId": "340a1f93-6772-46ef-8052-8bc80fea0a68"
      },
      "outputs": [
        {
          "output_type": "execute_result",
          "data": {
            "text/plain": [
              "[<matplotlib.lines.Line2D at 0x7fcb3c69bfd0>]"
            ]
          },
          "metadata": {},
          "execution_count": 160
        }
      ],
      "source": [
        "ax1.plot(data,'b--',drawstyle='steps-post',label='three')"
      ]
    },
    {
      "cell_type": "code",
      "execution_count": 161,
      "id": "eeeb8423",
      "metadata": {
        "colab": {
          "base_uri": "https://localhost:8080/"
        },
        "id": "eeeb8423",
        "outputId": "11d5352c-c666-4cff-d3e4-eac144f14456"
      },
      "outputs": [
        {
          "output_type": "execute_result",
          "data": {
            "text/plain": [
              "<matplotlib.legend.Legend at 0x7fcb3c69eb90>"
            ]
          },
          "metadata": {},
          "execution_count": 161
        }
      ],
      "source": [
        "ax1.legend()"
      ]
    },
    {
      "cell_type": "code",
      "execution_count": 162,
      "id": "90b2275c",
      "metadata": {
        "colab": {
          "base_uri": "https://localhost:8080/",
          "height": 0
        },
        "id": "90b2275c",
        "outputId": "1f624113-5a6b-4b0e-ac38-6c8a640f657e"
      },
      "outputs": [
        {
          "output_type": "execute_result",
          "data": {
            "image/png": "[encoded data removed]",
            "text/plain": [
              "<Figure size 432x288 with 1 Axes>"
            ]
          },
          "metadata": {},
          "execution_count": 162
        }
      ],
      "source": [
        "fig"
      ]
    },
    {
      "cell_type": "code",
      "execution_count": 163,
      "id": "63f6ee45",
      "metadata": {
        "colab": {
          "base_uri": "https://localhost:8080/",
          "height": 0
        },
        "id": "63f6ee45",
        "outputId": "34deb4b3-5447-46a5-edb4-bfebd74875ea"
      },
      "outputs": [
        {
          "output_type": "execute_result",
          "data": {
            "text/plain": [
              "[<matplotlib.lines.Line2D at 0x7fcb3c613290>]"
            ]
          },
          "metadata": {},
          "execution_count": 163
        },
        {
          "output_type": "display_data",
          "data": {
            "image/png": "[encoded data removed]",
            "text/plain": [
              "<Figure size 432x288 with 1 Axes>"
            ]
          },
          "metadata": {
            "needs_background": "light"
          }
        }
      ],
      "source": [
        "fig2 = plt.figure()\n",
        "ax3 = fig2.add_subplot(1,1,1)\n",
        "data = randn(50).cumsum()\n",
        "ax3.plot(data,'k--')\n",
        "ax3.plot(data,'k-',drawstyle='steps-post')"
      ]
    },
    {
      "cell_type": "markdown",
      "id": "493ef325",
      "metadata": {
        "id": "493ef325"
      },
      "source": [
        "### Annotations and Drawing on a Subplot"
      ]
    },
    {
      "cell_type": "markdown",
      "id": "08dc5a5e",
      "metadata": {
        "id": "08dc5a5e"
      },
      "source": [
        "In addition to the standard plot types, you may wish to draw your own plot annota‐\n",
        "tions, which could consist of text, arrows, or other shapes. You can add annotations\n",
        "and text using the text, arrow, and annotate functions. text draws text at given\n",
        "coordinates (x, y) on the plot with optional custom styling:"
      ]
    },
    {
      "cell_type": "markdown",
      "id": "a6ac2b8a",
      "metadata": {
        "id": "a6ac2b8a"
      },
      "source": [
        "Annotations can draw both text and arrows arranged appropriately. As an example,\n",
        "let’s plot the closing S&P 500 index price since 2007 (obtained from Yahoo! Finance)\n",
        "and annotate it with some of the important dates from the 2008–2009 financial crisis."
      ]
    },
    {
      "cell_type": "code",
      "execution_count": 164,
      "id": "d027d3c5",
      "metadata": {
        "id": "d027d3c5"
      },
      "outputs": [],
      "source": [
        "from datetime import datetime\n",
        "import pandas as pd\n",
        "import numpy as np"
      ]
    },
    {
      "cell_type": "code",
      "execution_count": 165,
      "id": "645bfc13",
      "metadata": {
        "colab": {
          "base_uri": "https://localhost:8080/",
          "height": 34
        },
        "id": "645bfc13",
        "outputId": "085871aa-bd6d-464f-ff34-a4986d91ae32"
      },
      "outputs": [
        {
          "output_type": "display_data",
          "data": {
            "text/plain": [
              "<Figure size 432x288 with 0 Axes>"
            ]
          },
          "metadata": {}
        }
      ],
      "source": [
        "fig = plt.figure()"
      ]
    },
    {
      "cell_type": "code",
      "execution_count": 166,
      "id": "f5b80f29",
      "metadata": {
        "id": "f5b80f29"
      },
      "outputs": [],
      "source": [
        "ax = fig.add_subplot(1,1,1)"
      ]
    },
    {
      "cell_type": "code",
      "execution_count": 167,
      "id": "dd175d21",
      "metadata": {
        "id": "dd175d21"
      },
      "outputs": [],
      "source": [
        "data = pd.read_csv(\"/content/sample_data/SP.csv\",delimiter=',',index_col = 0,parse_dates=True)"
      ]
    },
    {
      "cell_type": "code",
      "execution_count": 168,
      "id": "f2b5a910",
      "metadata": {
        "colab": {
          "base_uri": "https://localhost:8080/",
          "height": 238
        },
        "id": "f2b5a910",
        "outputId": "7afaccd7-b0d6-405f-9077-a40e0ed71ad3"
      },
      "outputs": [
        {
          "output_type": "execute_result",
          "data": {
            "text/html": [
              "<div>\n",
              "<style scoped>\n",
              "    .dataframe tbody tr th:only-of-type {\n",
              "        vertical-align: middle;\n",
              "    }\n",
              "\n",
              "    .dataframe tbody tr th {\n",
              "        vertical-align: top;\n",
              "    }\n",
              "\n",
              "    .dataframe thead th {\n",
              "        text-align: right;\n",
              "    }\n",
              "</style>\n",
              "<table border=\"1\" class=\"dataframe\">\n",
              "  <thead>\n",
              "    <tr style=\"text-align: right;\">\n",
              "      <th></th>\n",
              "      <th>SPX</th>\n",
              "    </tr>\n",
              "    <tr>\n",
              "      <th>Date</th>\n",
              "      <th></th>\n",
              "    </tr>\n",
              "  </thead>\n",
              "  <tbody>\n",
              "    <tr>\n",
              "      <th>1990-02-01</th>\n",
              "      <td>328.79</td>\n",
              "    </tr>\n",
              "    <tr>\n",
              "      <th>1990-02-02</th>\n",
              "      <td>330.92</td>\n",
              "    </tr>\n",
              "    <tr>\n",
              "      <th>1990-02-05</th>\n",
              "      <td>331.85</td>\n",
              "    </tr>\n",
              "    <tr>\n",
              "      <th>1990-02-06</th>\n",
              "      <td>329.66</td>\n",
              "    </tr>\n",
              "    <tr>\n",
              "      <th>1990-02-07</th>\n",
              "      <td>333.75</td>\n",
              "    </tr>\n",
              "  </tbody>\n",
              "</table>\n",
              "</div>"
            ],
            "text/plain": [
              "               SPX\n",
              "Date              \n",
              "1990-02-01  328.79\n",
              "1990-02-02  330.92\n",
              "1990-02-05  331.85\n",
              "1990-02-06  329.66\n",
              "1990-02-07  333.75"
            ]
          },
          "metadata": {},
          "execution_count": 168
        }
      ],
      "source": [
        "data.head()"
      ]
    },
    {
      "cell_type": "code",
      "execution_count": 169,
      "id": "9637689a",
      "metadata": {
        "id": "9637689a"
      },
      "outputs": [],
      "source": [
        "spx = data['SPX']"
      ]
    },
    {
      "cell_type": "code",
      "execution_count": 170,
      "id": "e23a51b3",
      "metadata": {
        "colab": {
          "base_uri": "https://localhost:8080/"
        },
        "id": "e23a51b3",
        "outputId": "70c275ba-657e-4fcf-dae8-5016a705c98a"
      },
      "outputs": [
        {
          "output_type": "execute_result",
          "data": {
            "text/plain": [
              "Date\n",
              "1990-02-01     328.79\n",
              "1990-02-02     330.92\n",
              "1990-02-05     331.85\n",
              "1990-02-06     329.66\n",
              "1990-02-07     333.75\n",
              "               ...   \n",
              "2011-10-10    1194.89\n",
              "2011-10-11    1195.54\n",
              "2011-10-12    1207.25\n",
              "2011-10-13    1203.66\n",
              "2011-10-14    1224.58\n",
              "Name: SPX, Length: 5472, dtype: float64"
            ]
          },
          "metadata": {},
          "execution_count": 170
        }
      ],
      "source": [
        "spx"
      ]
    },
    {
      "cell_type": "code",
      "execution_count": 171,
      "id": "46027551",
      "metadata": {
        "colab": {
          "base_uri": "https://localhost:8080/"
        },
        "id": "46027551",
        "outputId": "a9dc2a8d-cf53-48c4-964d-7f99c38c5b9c"
      },
      "outputs": [
        {
          "output_type": "execute_result",
          "data": {
            "text/plain": [
              "pandas.core.series.Series"
            ]
          },
          "metadata": {},
          "execution_count": 171
        }
      ],
      "source": [
        "type(spx)"
      ]
    },
    {
      "cell_type": "code",
      "execution_count": 172,
      "id": "52d3fd0e",
      "metadata": {
        "colab": {
          "base_uri": "https://localhost:8080/"
        },
        "id": "52d3fd0e",
        "outputId": "81bc2ff6-3185-4682-ad1f-c098a5d29bf1"
      },
      "outputs": [
        {
          "output_type": "execute_result",
          "data": {
            "text/plain": [
              "<matplotlib.axes._subplots.AxesSubplot at 0x7fcb3c5d47d0>"
            ]
          },
          "metadata": {},
          "execution_count": 172
        }
      ],
      "source": [
        "spx.plot.line(ax=ax,style='b-')"
      ]
    },
    {
      "cell_type": "code",
      "execution_count": 173,
      "id": "44b2254a",
      "metadata": {
        "colab": {
          "base_uri": "https://localhost:8080/",
          "height": 269
        },
        "id": "44b2254a",
        "outputId": "61162f71-f7aa-47ef-8085-e04410cfd83d"
      },
      "outputs": [
        {
          "output_type": "execute_result",
          "data": {
            "image/png": "[encoded data removed]",
            "text/plain": [
              "<Figure size 432x288 with 1 Axes>"
            ]
          },
          "metadata": {},
          "execution_count": 173
        }
      ],
      "source": [
        "fig"
      ]
    },
    {
      "cell_type": "code",
      "execution_count": 174,
      "id": "7e48482c",
      "metadata": {
        "id": "7e48482c"
      },
      "outputs": [],
      "source": [
        "crisis_data = [\n",
        " (datetime(2007, 10, 11), 'Peak of bull market'),\n",
        " (datetime(2008, 3, 12), 'Bear Stearns Fails'),\n",
        " (datetime(2008, 9, 15), 'Lehman Bankruptcy')\n",
        "]"
      ]
    },
    {
      "cell_type": "code",
      "execution_count": 175,
      "id": "f82331e7",
      "metadata": {
        "colab": {
          "base_uri": "https://localhost:8080/"
        },
        "id": "f82331e7",
        "outputId": "c17be593-9f83-423e-be73-a777bca21b1f"
      },
      "outputs": [
        {
          "output_type": "execute_result",
          "data": {
            "text/plain": [
              "Text(0.5, 1.0, 'Important dates in the 2008-2009 financial crisis')"
            ]
          },
          "metadata": {},
          "execution_count": 175
        }
      ],
      "source": [
        "for date, label in crisis_data:\n",
        "    ax.annotate(label, xy=(date, spx.asof(date) + 75),\n",
        "    xytext=(date, spx.asof(date) + 225),\n",
        "    arrowprops=dict(facecolor='black', headwidth=4, width=2,headlength=4),\n",
        "    horizontalalignment='left', verticalalignment='top')\n",
        "    \n",
        "# Zoom in on 2007-2010\n",
        "ax.set_xlim(['1/1/2007', '1/1/2011'])\n",
        "ax.set_ylim([600, 1800])\n",
        "ax.set_title('Important dates in the 2008-2009 financial crisis')"
      ]
    },
    {
      "cell_type": "code",
      "execution_count": 176,
      "id": "cb6b929a",
      "metadata": {
        "colab": {
          "base_uri": "https://localhost:8080/",
          "height": 293
        },
        "id": "cb6b929a",
        "outputId": "2f395d81-78b8-4ce4-8d66-fe24dfd3ff93"
      },
      "outputs": [
        {
          "output_type": "execute_result",
          "data": {
            "image/png": "[encoded data removed]",
            "text/plain": [
              "<Figure size 432x288 with 1 Axes>"
            ]
          },
          "metadata": {},
          "execution_count": 176
        }
      ],
      "source": [
        "fig"
      ]
    },
    {
      "cell_type": "markdown",
      "id": "016c2f09",
      "metadata": {
        "id": "016c2f09"
      },
      "source": [
        "Drawing shapes requires some more care. matplotlib has objects that represent many\n",
        "common shapes, referred to as patches. Some of these, like Rectangle and Circle, are\n",
        "found in matplotlib.pyplot, but the full set is located in matplotlib.patches.\n",
        "To add a shape to a plot, you create the patch object shp and add it to a subplot by\n",
        "calling ax.add_patch(shp)"
      ]
    },
    {
      "cell_type": "code",
      "execution_count": 177,
      "id": "acc96011",
      "metadata": {
        "colab": {
          "base_uri": "https://localhost:8080/",
          "height": 286
        },
        "id": "acc96011",
        "outputId": "84f7164e-f97b-47e5-c944-4e33a3c3ae60"
      },
      "outputs": [
        {
          "output_type": "execute_result",
          "data": {
            "text/plain": [
              "<matplotlib.patches.Rectangle at 0x7fcb3ce9a350>"
            ]
          },
          "metadata": {},
          "execution_count": 177
        },
        {
          "output_type": "display_data",
          "data": {
            "image/png": "[encoded data removed]",
            "text/plain": [
              "<Figure size 432x288 with 1 Axes>"
            ]
          },
          "metadata": {
            "needs_background": "light"
          }
        }
      ],
      "source": [
        "fig = plt.figure()\n",
        "ax = fig.add_subplot(1,1,1)\n",
        "\n",
        "rect = plt.Rectangle((0.2,0.6),0.4,0.15,color='r',alpha=0.3)\n",
        "ax.add_patch(rect)"
      ]
    },
    {
      "cell_type": "code",
      "execution_count": 178,
      "id": "9ef86be3",
      "metadata": {
        "colab": {
          "base_uri": "https://localhost:8080/",
          "height": 286
        },
        "id": "9ef86be3",
        "outputId": "54fb9a86-d2f7-4217-c86a-ee7366ca618a"
      },
      "outputs": [
        {
          "output_type": "execute_result",
          "data": {
            "text/plain": [
              "<matplotlib.patches.Circle at 0x7fcb3d23a190>"
            ]
          },
          "metadata": {},
          "execution_count": 178
        },
        {
          "output_type": "display_data",
          "data": {
            "image/png": "[encoded data removed]",
            "text/plain": [
              "<Figure size 432x288 with 1 Axes>"
            ]
          },
          "metadata": {
            "needs_background": "light"
          }
        }
      ],
      "source": [
        "fig = plt.figure()\n",
        "ax = fig.add_subplot(1,1,1)\n",
        "\n",
        "Cir = plt.Circle((0.2,0.6),0.15,color='b',alpha=0.5)\n",
        "ax.add_patch(Cir)"
      ]
    },
    {
      "cell_type": "code",
      "execution_count": 179,
      "id": "1e928a12",
      "metadata": {
        "colab": {
          "base_uri": "https://localhost:8080/",
          "height": 286
        },
        "id": "1e928a12",
        "outputId": "538b77d8-373d-4f3e-ba11-2f50b16269a3"
      },
      "outputs": [
        {
          "output_type": "execute_result",
          "data": {
            "text/plain": [
              "<matplotlib.patches.Polygon at 0x7fcb3d140590>"
            ]
          },
          "metadata": {},
          "execution_count": 179
        },
        {
          "output_type": "display_data",
          "data": {
            "image/png": "[encoded data removed]",
            "text/plain": [
              "<Figure size 432x288 with 1 Axes>"
            ]
          },
          "metadata": {
            "needs_background": "light"
          }
        }
      ],
      "source": [
        "fig = plt.figure()\n",
        "ax = fig.add_subplot(1,1,1)\n",
        "pgon = plt.Polygon([[0.15, 0.15], [0.35, 0.4], [0.2, 0.6]],color='g', alpha=0.5)\n",
        "ax.add_patch(pgon)"
      ]
    },
    {
      "cell_type": "markdown",
      "id": "08fd4e3a",
      "metadata": {
        "id": "08fd4e3a"
      },
      "source": [
        "### Saving Plots to File\n",
        "\n",
        "### Figure.savefig options\n",
        "\n",
        "- fname - String containing a filepath or a Python file-like object. The figure format is inferred from the file extension (e.g., .pdf for PDF or .png for PNG)\n",
        "- dpi - The figure resolution in dots per inch; defaults to 100 out of the box but can be configured\n",
        "- facecolor, edgecolor - The color of the figure background outside of the subplots; 'w' (white), by default\n",
        "- format - The explicit file format to use ('png', 'pdf', 'svg', 'ps', 'eps', ...)\n",
        "- bbox_inches - The portion of the figure to save; if 'tight' is passed, will attempt to trim the empty space around\n",
        "the figure\n"
      ]
    },
    {
      "cell_type": "code",
      "execution_count": 180,
      "id": "37830dc3",
      "metadata": {
        "colab": {
          "base_uri": "https://localhost:8080/",
          "height": 0
        },
        "id": "37830dc3",
        "outputId": "de777a99-20ad-42af-a966-869936be6376"
      },
      "outputs": [
        {
          "output_type": "display_data",
          "data": {
            "text/plain": [
              "<Figure size 432x288 with 0 Axes>"
            ]
          },
          "metadata": {}
        }
      ],
      "source": [
        "plt.savefig('figpath.svg')"
      ]
    },
    {
      "cell_type": "markdown",
      "id": "5fce4078",
      "metadata": {
        "id": "5fce4078"
      },
      "source": [
        "The file type is inferred from the file extension. So if you used .pdf instead, you\n",
        "would get a PDF. There are a couple of important options that I use frequently for\n",
        "publishing graphics: dpi, which controls the dots-per-inch resolution, and\n",
        "bbox_inches, which can trim the whitespace around the actual figure. To get the\n",
        "same plot as a PNG with minimal whitespace around the plot and at 400 DPI, you\n",
        "would do:\n"
      ]
    },
    {
      "cell_type": "code",
      "execution_count": 181,
      "id": "c9a14385",
      "metadata": {
        "colab": {
          "base_uri": "https://localhost:8080/",
          "height": 0
        },
        "id": "c9a14385",
        "outputId": "7a51a30d-7447-47d2-fbbd-97a911824369"
      },
      "outputs": [
        {
          "output_type": "display_data",
          "data": {
            "text/plain": [
              "<Figure size 432x288 with 0 Axes>"
            ]
          },
          "metadata": {}
        }
      ],
      "source": [
        "plt.savefig('figpath.png', dpi=400, bbox_inches='tight')"
      ]
    },
    {
      "cell_type": "markdown",
      "id": "34a65b2f",
      "metadata": {
        "id": "34a65b2f"
      },
      "source": [
        "savefig doesn’t have to write to disk; it can also write to any file-like object, such as a\n",
        "BytesIO:"
      ]
    },
    {
      "cell_type": "code",
      "execution_count": 182,
      "id": "f0fc052e",
      "metadata": {
        "colab": {
          "base_uri": "https://localhost:8080/",
          "height": 0
        },
        "id": "f0fc052e",
        "outputId": "71568662-41a3-4dc1-aa83-edf8674af4b0"
      },
      "outputs": [
        {
          "output_type": "display_data",
          "data": {
            "text/plain": [
              "<Figure size 432x288 with 0 Axes>"
            ]
          },
          "metadata": {}
        }
      ],
      "source": [
        "from io import BytesIO\n",
        "buffer = BytesIO()\n",
        "plt.savefig(buffer)\n",
        "plot_data = buffer.getvalue()"
      ]
    },
    {
      "cell_type": "markdown",
      "id": "52109ea5",
      "metadata": {
        "id": "52109ea5"
      },
      "source": [
        "## Matplotlib Configuration"
      ]
    },
    {
      "cell_type": "markdown",
      "id": "472e1580",
      "metadata": {
        "id": "472e1580"
      },
      "source": [
        "matplotlib comes configured with color schemes and defaults that are geared primar‐\n",
        "ily toward preparing figures for publication. Fortunately, nearly all of the default\n",
        "behavior can be customized via an extensive set of global parameters governing figure\n",
        "size, subplot spacing, colors, font sizes, grid styles, and so on. One way to modify the\n",
        "configuration programmatically from Python is to use the rc method; for example, to\n",
        "set the global default figure size to be 10 × 10, you could enter:"
      ]
    },
    {
      "cell_type": "code",
      "execution_count": 183,
      "id": "b8b2fe8b",
      "metadata": {
        "id": "b8b2fe8b"
      },
      "outputs": [],
      "source": [
        "plt.rc('figure', figsize=(10, 10))\n"
      ]
    },
    {
      "cell_type": "markdown",
      "id": "546f1f79",
      "metadata": {
        "id": "546f1f79"
      },
      "source": [
        "The first argument to rc is the component you wish to customize, such as 'figure',\n",
        "'axes', 'xtick', 'ytick', 'grid', 'legend', or many others. After that can follow a\n",
        "sequence of keyword arguments indicating the new parameters. An easy way to write\n",
        "down the options in your program is as a dict"
      ]
    },
    {
      "cell_type": "code",
      "execution_count": 185,
      "id": "e4a45b47",
      "metadata": {
        "colab": {
          "base_uri": "https://localhost:8080/",
          "height": 520
        },
        "id": "e4a45b47",
        "outputId": "1b596f50-4ec1-443e-cb8f-2b68e62744be"
      },
      "outputs": [
        {
          "output_type": "error",
          "ename": "ValueError",
          "evalue": "ignored",
          "traceback": [
            "\u001b[0;31m---------------------------------------------------------------------------\u001b[0m",
            "\u001b[0;31mValueError\u001b[0m                                Traceback (most recent call last)",
            "\u001b[0;32m/usr/local/lib/python3.7/dist-packages/matplotlib/rcsetup.py\u001b[0m in \u001b[0;36mvalidator\u001b[0;34m(s)\u001b[0m\n\u001b[1;32m    196\u001b[0m         \u001b[0;32mtry\u001b[0m\u001b[0;34m:\u001b[0m\u001b[0;34m\u001b[0m\u001b[0;34m\u001b[0m\u001b[0m\n\u001b[0;32m--> 197\u001b[0;31m             \u001b[0;32mreturn\u001b[0m \u001b[0mcls\u001b[0m\u001b[0;34m(\u001b[0m\u001b[0ms\u001b[0m\u001b[0;34m)\u001b[0m\u001b[0;34m\u001b[0m\u001b[0;34m\u001b[0m\u001b[0m\n\u001b[0m\u001b[1;32m    198\u001b[0m         \u001b[0;32mexcept\u001b[0m \u001b[0mValueError\u001b[0m\u001b[0;34m:\u001b[0m\u001b[0;34m\u001b[0m\u001b[0;34m\u001b[0m\u001b[0m\n",
            "\u001b[0;31mValueError\u001b[0m: could not convert string to float: 'small'",
            "\nDuring handling of the above exception, another exception occurred:\n",
            "\u001b[0;31mValueError\u001b[0m                                Traceback (most recent call last)",
            "\u001b[0;32m/usr/local/lib/python3.7/dist-packages/matplotlib/__init__.py\u001b[0m in \u001b[0;36m__setitem__\u001b[0;34m(self, key, val)\u001b[0m\n\u001b[1;32m    805\u001b[0m             \u001b[0;32mtry\u001b[0m\u001b[0;34m:\u001b[0m\u001b[0;34m\u001b[0m\u001b[0;34m\u001b[0m\u001b[0m\n\u001b[0;32m--> 806\u001b[0;31m                 \u001b[0mcval\u001b[0m \u001b[0;34m=\u001b[0m \u001b[0mself\u001b[0m\u001b[0;34m.\u001b[0m\u001b[0mvalidate\u001b[0m\u001b[0;34m[\u001b[0m\u001b[0mkey\u001b[0m\u001b[0;34m]\u001b[0m\u001b[0;34m(\u001b[0m\u001b[0mval\u001b[0m\u001b[0;34m)\u001b[0m\u001b[0;34m\u001b[0m\u001b[0;34m\u001b[0m\u001b[0m\n\u001b[0m\u001b[1;32m    807\u001b[0m             \u001b[0;32mexcept\u001b[0m \u001b[0mValueError\u001b[0m \u001b[0;32mas\u001b[0m \u001b[0mve\u001b[0m\u001b[0;34m:\u001b[0m\u001b[0;34m\u001b[0m\u001b[0;34m\u001b[0m\u001b[0m\n",
            "\u001b[0;32m/usr/local/lib/python3.7/dist-packages/matplotlib/rcsetup.py\u001b[0m in \u001b[0;36mvalidator\u001b[0;34m(s)\u001b[0m\n\u001b[1;32m    198\u001b[0m         \u001b[0;32mexcept\u001b[0m \u001b[0mValueError\u001b[0m\u001b[0;34m:\u001b[0m\u001b[0;34m\u001b[0m\u001b[0;34m\u001b[0m\u001b[0m\n\u001b[0;32m--> 199\u001b[0;31m             \u001b[0;32mraise\u001b[0m \u001b[0mValueError\u001b[0m\u001b[0;34m(\u001b[0m\u001b[0;34mf'Could not convert {s!r} to {cls.__name__}'\u001b[0m\u001b[0;34m)\u001b[0m\u001b[0;34m\u001b[0m\u001b[0;34m\u001b[0m\u001b[0m\n\u001b[0m\u001b[1;32m    200\u001b[0m \u001b[0;34m\u001b[0m\u001b[0m\n",
            "\u001b[0;31mValueError\u001b[0m: Could not convert 'small' to float",
            "\nDuring handling of the above exception, another exception occurred:\n",
            "\u001b[0;31mValueError\u001b[0m                                Traceback (most recent call last)",
            "\u001b[0;32m<ipython-input-185-f7044b31dee5>\u001b[0m in \u001b[0;36m<module>\u001b[0;34m()\u001b[0m\n\u001b[1;32m      1\u001b[0m \u001b[0mfont_options\u001b[0m \u001b[0;34m=\u001b[0m \u001b[0;34m{\u001b[0m\u001b[0;34m'family'\u001b[0m \u001b[0;34m:\u001b[0m \u001b[0;34m'monospace'\u001b[0m\u001b[0;34m,\u001b[0m\u001b[0;34m'weight'\u001b[0m \u001b[0;34m:\u001b[0m \u001b[0;34m'bold'\u001b[0m\u001b[0;34m,\u001b[0m\u001b[0;34m'size'\u001b[0m \u001b[0;34m:\u001b[0m \u001b[0;34m'small'\u001b[0m\u001b[0;34m}\u001b[0m\u001b[0;34m\u001b[0m\u001b[0;34m\u001b[0m\u001b[0m\n\u001b[1;32m      2\u001b[0m \u001b[0;34m\u001b[0m\u001b[0m\n\u001b[0;32m----> 3\u001b[0;31m \u001b[0mplt\u001b[0m\u001b[0;34m.\u001b[0m\u001b[0mrc\u001b[0m\u001b[0;34m(\u001b[0m\u001b[0;34m'font'\u001b[0m\u001b[0;34m,\u001b[0m \u001b[0;34m**\u001b[0m\u001b[0mfont_options\u001b[0m\u001b[0;34m)\u001b[0m\u001b[0;34m\u001b[0m\u001b[0;34m\u001b[0m\u001b[0m\n\u001b[0m",
            "\u001b[0;32m/usr/local/lib/python3.7/dist-packages/matplotlib/pyplot.py\u001b[0m in \u001b[0;36mrc\u001b[0;34m(group, **kwargs)\u001b[0m\n\u001b[1;32m    318\u001b[0m \u001b[0;34m@\u001b[0m\u001b[0mdocstring\u001b[0m\u001b[0;34m.\u001b[0m\u001b[0mcopy\u001b[0m\u001b[0;34m(\u001b[0m\u001b[0mmatplotlib\u001b[0m\u001b[0;34m.\u001b[0m\u001b[0mrc\u001b[0m\u001b[0;34m)\u001b[0m\u001b[0;34m\u001b[0m\u001b[0;34m\u001b[0m\u001b[0m\n\u001b[1;32m    319\u001b[0m \u001b[0;32mdef\u001b[0m \u001b[0mrc\u001b[0m\u001b[0;34m(\u001b[0m\u001b[0mgroup\u001b[0m\u001b[0;34m,\u001b[0m \u001b[0;34m**\u001b[0m\u001b[0mkwargs\u001b[0m\u001b[0;34m)\u001b[0m\u001b[0;34m:\u001b[0m\u001b[0;34m\u001b[0m\u001b[0;34m\u001b[0m\u001b[0m\n\u001b[0;32m--> 320\u001b[0;31m     \u001b[0mmatplotlib\u001b[0m\u001b[0;34m.\u001b[0m\u001b[0mrc\u001b[0m\u001b[0;34m(\u001b[0m\u001b[0mgroup\u001b[0m\u001b[0;34m,\u001b[0m \u001b[0;34m**\u001b[0m\u001b[0mkwargs\u001b[0m\u001b[0;34m)\u001b[0m\u001b[0;34m\u001b[0m\u001b[0;34m\u001b[0m\u001b[0m\n\u001b[0m\u001b[1;32m    321\u001b[0m \u001b[0;34m\u001b[0m\u001b[0m\n\u001b[1;32m    322\u001b[0m \u001b[0;34m\u001b[0m\u001b[0m\n",
            "\u001b[0;32m/usr/local/lib/python3.7/dist-packages/matplotlib/__init__.py\u001b[0m in \u001b[0;36mrc\u001b[0;34m(group, **kwargs)\u001b[0m\n\u001b[1;32m   1096\u001b[0m             \u001b[0mkey\u001b[0m \u001b[0;34m=\u001b[0m \u001b[0;34m'%s.%s'\u001b[0m \u001b[0;34m%\u001b[0m \u001b[0;34m(\u001b[0m\u001b[0mg\u001b[0m\u001b[0;34m,\u001b[0m \u001b[0mname\u001b[0m\u001b[0;34m)\u001b[0m\u001b[0;34m\u001b[0m\u001b[0;34m\u001b[0m\u001b[0m\n\u001b[1;32m   1097\u001b[0m             \u001b[0;32mtry\u001b[0m\u001b[0;34m:\u001b[0m\u001b[0;34m\u001b[0m\u001b[0;34m\u001b[0m\u001b[0m\n\u001b[0;32m-> 1098\u001b[0;31m                 \u001b[0mrcParams\u001b[0m\u001b[0;34m[\u001b[0m\u001b[0mkey\u001b[0m\u001b[0;34m]\u001b[0m \u001b[0;34m=\u001b[0m \u001b[0mv\u001b[0m\u001b[0;34m\u001b[0m\u001b[0;34m\u001b[0m\u001b[0m\n\u001b[0m\u001b[1;32m   1099\u001b[0m             \u001b[0;32mexcept\u001b[0m \u001b[0mKeyError\u001b[0m\u001b[0;34m:\u001b[0m\u001b[0;34m\u001b[0m\u001b[0;34m\u001b[0m\u001b[0m\n\u001b[1;32m   1100\u001b[0m                 raise KeyError(('Unrecognized key \"%s\" for group \"%s\" and '\n",
            "\u001b[0;32m/usr/local/lib/python3.7/dist-packages/matplotlib/__init__.py\u001b[0m in \u001b[0;36m__setitem__\u001b[0;34m(self, key, val)\u001b[0m\n\u001b[1;32m    806\u001b[0m                 \u001b[0mcval\u001b[0m \u001b[0;34m=\u001b[0m \u001b[0mself\u001b[0m\u001b[0;34m.\u001b[0m\u001b[0mvalidate\u001b[0m\u001b[0;34m[\u001b[0m\u001b[0mkey\u001b[0m\u001b[0;34m]\u001b[0m\u001b[0;34m(\u001b[0m\u001b[0mval\u001b[0m\u001b[0;34m)\u001b[0m\u001b[0;34m\u001b[0m\u001b[0;34m\u001b[0m\u001b[0m\n\u001b[1;32m    807\u001b[0m             \u001b[0;32mexcept\u001b[0m \u001b[0mValueError\u001b[0m \u001b[0;32mas\u001b[0m \u001b[0mve\u001b[0m\u001b[0;34m:\u001b[0m\u001b[0;34m\u001b[0m\u001b[0;34m\u001b[0m\u001b[0m\n\u001b[0;32m--> 808\u001b[0;31m                 \u001b[0;32mraise\u001b[0m \u001b[0mValueError\u001b[0m\u001b[0;34m(\u001b[0m\u001b[0;34m\"Key %s: %s\"\u001b[0m \u001b[0;34m%\u001b[0m \u001b[0;34m(\u001b[0m\u001b[0mkey\u001b[0m\u001b[0;34m,\u001b[0m \u001b[0mstr\u001b[0m\u001b[0;34m(\u001b[0m\u001b[0mve\u001b[0m\u001b[0;34m)\u001b[0m\u001b[0;34m)\u001b[0m\u001b[0;34m)\u001b[0m\u001b[0;34m\u001b[0m\u001b[0;34m\u001b[0m\u001b[0m\n\u001b[0m\u001b[1;32m    809\u001b[0m             \u001b[0mdict\u001b[0m\u001b[0;34m.\u001b[0m\u001b[0m__setitem__\u001b[0m\u001b[0;34m(\u001b[0m\u001b[0mself\u001b[0m\u001b[0;34m,\u001b[0m \u001b[0mkey\u001b[0m\u001b[0;34m,\u001b[0m \u001b[0mcval\u001b[0m\u001b[0;34m)\u001b[0m\u001b[0;34m\u001b[0m\u001b[0;34m\u001b[0m\u001b[0m\n\u001b[1;32m    810\u001b[0m         \u001b[0;32mexcept\u001b[0m \u001b[0mKeyError\u001b[0m\u001b[0;34m:\u001b[0m\u001b[0;34m\u001b[0m\u001b[0;34m\u001b[0m\u001b[0m\n",
            "\u001b[0;31mValueError\u001b[0m: Key font.size: Could not convert 'small' to float"
          ]
        }
      ],
      "source": [
        "font_options = {'family' : 'monospace','weight' : 'bold','size' : 'small'}\n",
        "\n",
        "plt.rc('font', **font_options)"
      ]
    },
    {
      "cell_type": "markdown",
      "id": "2301fac3",
      "metadata": {
        "id": "2301fac3"
      },
      "source": [
        "## Plotting with pandas and seaborn\n"
      ]
    },
    {
      "cell_type": "markdown",
      "id": "016b38b6",
      "metadata": {
        "id": "016b38b6"
      },
      "source": [
        "In pandas we may have multiple columns of data, along with row and column labels.\n",
        "pandas itself has built-in methods that simplify creating visualizations from Data‐\n",
        "Frame and Series objects."
      ]
    },
    {
      "cell_type": "markdown",
      "id": "e4830b32",
      "metadata": {
        "id": "e4830b32"
      },
      "source": [
        "### Series.plot method arguments\n",
        "\n",
        "- **label** - Label for plot legend\n",
        "- **ax** - matplotlib subplot object to plot on; if nothing passed, uses active matplotlib subplot\n",
        "- **style** - Style string, like 'ko--', to be passed to matplotlib\n",
        "- **alpha** - The plot fill opacity (from 0 to 1)\n",
        "- **kind** - Can be 'area', 'bar', 'barh', 'density', 'hist', 'kde', 'line', 'pie'\n",
        "- **logy** - Use logarithmic scaling on the y-axis\n",
        "- **use_index** - Use the object index for tick labels\n",
        "- **rot** - Rotation of tick labels (0 through 360)\n",
        "- **xticks** - Values to use for x-axis ticks\n",
        "- **yticks** - Values to use for y-axis ticks\n",
        "- **xlim** - x-axis limits (e.g., [0, 10])\n",
        "- **ylim** - y-axis limits\n",
        "- **grid** - Display axis grid (on by default)"
      ]
    },
    {
      "cell_type": "markdown",
      "id": "046032cd",
      "metadata": {
        "id": "046032cd"
      },
      "source": [
        "### Line Plot"
      ]
    },
    {
      "cell_type": "code",
      "execution_count": null,
      "id": "0509f0c4",
      "metadata": {
        "id": "0509f0c4"
      },
      "outputs": [],
      "source": [
        "s = pd.Series(np.random.rand(10).cumsum(),index = np.arange(0,100,10))"
      ]
    },
    {
      "cell_type": "code",
      "execution_count": null,
      "id": "7517f6fc",
      "metadata": {
        "id": "7517f6fc"
      },
      "outputs": [],
      "source": [
        "s"
      ]
    },
    {
      "cell_type": "markdown",
      "id": "7902c8d3",
      "metadata": {
        "id": "7902c8d3"
      },
      "source": [
        "The Series object’s index is passed to matplotlib for plotting on the x-axis, though you\n",
        "can disable this by passing use_index=False. The x-axis ticks and limits can be\n",
        "adjusted with the xticks and xlim options, and y-axis respectively with yticks and ylim. "
      ]
    },
    {
      "cell_type": "code",
      "execution_count": null,
      "id": "4d391d09",
      "metadata": {
        "id": "4d391d09"
      },
      "outputs": [],
      "source": [
        "s.plot(use_index=False) "
      ]
    },
    {
      "cell_type": "markdown",
      "id": "03493535",
      "metadata": {
        "id": "03493535"
      },
      "source": [
        "### DataFrame-specific plot arguments\n",
        "\n",
        "- **subplots** - Plot each DataFrame column in a separate subplot\n",
        "- **sharex** - If subplots=True, share the same x-axis, linking ticks and limits\n",
        "- **sharey** - If subplots=True, share the same y-axis\n",
        "- **figsize** - Size of figure to create as tuple\n",
        "- **title** - Plot title as string\n",
        "- **legend** - Add a subplot legend (True by default)\n",
        "- **sort_columns** - Plot columns in alphabetical order; by default uses existing column order"
      ]
    },
    {
      "cell_type": "markdown",
      "id": "cb715ccd",
      "metadata": {
        "id": "cb715ccd"
      },
      "source": [
        "DataFrame’s plot method plots each of its columns as a different line on the same\n",
        "subplot, creating a legend automatically"
      ]
    },
    {
      "cell_type": "code",
      "execution_count": null,
      "id": "353ba4ca",
      "metadata": {
        "id": "353ba4ca"
      },
      "outputs": [],
      "source": [
        "df = pd.DataFrame(np.random.randn(10,4).cumsum(0),columns=['A', 'B', 'C', 'D'],index=np.arange(0, 100, 10))"
      ]
    },
    {
      "cell_type": "code",
      "execution_count": null,
      "id": "14df9fbc",
      "metadata": {
        "id": "14df9fbc"
      },
      "outputs": [],
      "source": [
        "df.plot()"
      ]
    },
    {
      "cell_type": "code",
      "execution_count": null,
      "id": "5efdd930",
      "metadata": {
        "id": "5efdd930"
      },
      "outputs": [],
      "source": [
        "df.plot(subplots=True,sharex=True,sharey=True)"
      ]
    },
    {
      "cell_type": "markdown",
      "id": "9053117d",
      "metadata": {
        "id": "9053117d"
      },
      "source": [
        "### Bar Plots"
      ]
    },
    {
      "cell_type": "markdown",
      "id": "cbbbf149",
      "metadata": {
        "id": "cbbbf149"
      },
      "source": [
        "The plot.bar() and plot.barh() make vertical and horizontal bar plots, respec‐\n",
        "tively. In this case, the Series or DataFrame index will be used as the x (bar) or y\n",
        "(barh) ticks"
      ]
    },
    {
      "cell_type": "code",
      "execution_count": null,
      "id": "41f161f4",
      "metadata": {
        "id": "41f161f4"
      },
      "outputs": [],
      "source": [
        "fig, axes = plt.subplots(2, 1)\n",
        "data = pd.Series(np.random.rand(16), index=list('abcdefghijklmnop'))\n",
        "data.plot.bar(ax=axes[0],color='r',alpha=0.5)\n",
        "data.plot.barh(ax=axes[1],color='b',alpha=0.5)"
      ]
    },
    {
      "cell_type": "markdown",
      "id": "ca7d6e10",
      "metadata": {
        "id": "ca7d6e10"
      },
      "source": [
        "With a DataFrame, bar plots group the values in each row together in a group in bars,\n",
        "side by side, for each value."
      ]
    },
    {
      "cell_type": "code",
      "execution_count": null,
      "id": "0e83255f",
      "metadata": {
        "id": "0e83255f"
      },
      "outputs": [],
      "source": [
        "df = pd.DataFrame(np.random.rand(6, 4),index=['one', 'two', 'three', 'four', 'five', 'six'],columns=['A', 'B', 'C', 'D'])"
      ]
    },
    {
      "cell_type": "code",
      "execution_count": null,
      "id": "949c1573",
      "metadata": {
        "id": "949c1573"
      },
      "outputs": [],
      "source": [
        "df"
      ]
    },
    {
      "cell_type": "code",
      "execution_count": null,
      "id": "22416391",
      "metadata": {
        "id": "22416391"
      },
      "outputs": [],
      "source": [
        "df.plot.bar()"
      ]
    },
    {
      "cell_type": "markdown",
      "id": "5e1b796e",
      "metadata": {
        "id": "5e1b796e"
      },
      "source": [
        "We create stacked bar plots from a DataFrame by passing stacked=True, resulting in\n",
        "the value in each row being stacked together "
      ]
    },
    {
      "cell_type": "code",
      "execution_count": null,
      "id": "d1548c57",
      "metadata": {
        "id": "d1548c57"
      },
      "outputs": [],
      "source": [
        "df.plot.barh(stacked=True, alpha=0.5)"
      ]
    },
    {
      "cell_type": "code",
      "execution_count": null,
      "id": "9a9a3638",
      "metadata": {
        "id": "9a9a3638"
      },
      "outputs": [],
      "source": [
        "s.value_counts().plot.bar()"
      ]
    },
    {
      "cell_type": "code",
      "execution_count": null,
      "id": "9cb00ab9",
      "metadata": {
        "id": "9cb00ab9"
      },
      "outputs": [],
      "source": [
        "tips = pd.read_csv('./Dataset/tips.csv')"
      ]
    },
    {
      "cell_type": "code",
      "execution_count": null,
      "id": "a603c249",
      "metadata": {
        "id": "a603c249"
      },
      "outputs": [],
      "source": [
        "tips.head()"
      ]
    },
    {
      "cell_type": "code",
      "execution_count": null,
      "id": "df6b0a38",
      "metadata": {
        "id": "df6b0a38"
      },
      "outputs": [],
      "source": [
        "tips.shape"
      ]
    },
    {
      "cell_type": "code",
      "execution_count": null,
      "id": "e1e71ef5",
      "metadata": {
        "id": "e1e71ef5"
      },
      "outputs": [],
      "source": [
        "party_counts = pd.crosstab(tips['day'],tips['size'])"
      ]
    },
    {
      "cell_type": "code",
      "execution_count": null,
      "id": "81c72252",
      "metadata": {
        "id": "81c72252"
      },
      "outputs": [],
      "source": [
        "type(party_counts)"
      ]
    },
    {
      "cell_type": "code",
      "execution_count": null,
      "id": "e7d9ac85",
      "metadata": {
        "id": "e7d9ac85"
      },
      "outputs": [],
      "source": [
        "party_counts"
      ]
    },
    {
      "cell_type": "code",
      "execution_count": null,
      "id": "879e2c58",
      "metadata": {
        "id": "879e2c58"
      },
      "outputs": [],
      "source": [
        "party_counts = party_counts.loc[:,2:5]"
      ]
    },
    {
      "cell_type": "code",
      "execution_count": null,
      "id": "827f9d43",
      "metadata": {
        "id": "827f9d43"
      },
      "outputs": [],
      "source": [
        "party_counts"
      ]
    },
    {
      "cell_type": "code",
      "execution_count": null,
      "id": "bdbdaa48",
      "metadata": {
        "id": "bdbdaa48"
      },
      "outputs": [],
      "source": [
        "party_pcts = party_counts.div(party_counts.sum(1), axis=0)"
      ]
    },
    {
      "cell_type": "code",
      "execution_count": null,
      "id": "095bbbad",
      "metadata": {
        "id": "095bbbad"
      },
      "outputs": [],
      "source": [
        "party_pcts"
      ]
    },
    {
      "cell_type": "code",
      "execution_count": null,
      "id": "bc745c5a",
      "metadata": {
        "id": "bc745c5a"
      },
      "outputs": [],
      "source": [
        "party_pcts.plot.bar()"
      ]
    },
    {
      "cell_type": "markdown",
      "id": "a79f1c06",
      "metadata": {
        "id": "a79f1c06"
      },
      "source": [
        "Let’s look now at the tipping per‐\n",
        "centage by day with seaborn"
      ]
    },
    {
      "cell_type": "code",
      "execution_count": null,
      "id": "42225669",
      "metadata": {
        "id": "42225669"
      },
      "outputs": [],
      "source": [
        "import seaborn as sns"
      ]
    },
    {
      "cell_type": "code",
      "execution_count": null,
      "id": "a3528c6b",
      "metadata": {
        "id": "a3528c6b"
      },
      "outputs": [],
      "source": [
        "tips['tip_pct'] = tips['tip'] / (tips['total_bill'] - tips['tip'])"
      ]
    },
    {
      "cell_type": "code",
      "execution_count": null,
      "id": "9b613fbf",
      "metadata": {
        "id": "9b613fbf"
      },
      "outputs": [],
      "source": [
        "tips.head()"
      ]
    },
    {
      "cell_type": "code",
      "execution_count": null,
      "id": "5a7d2f8c",
      "metadata": {
        "id": "5a7d2f8c"
      },
      "outputs": [],
      "source": [
        "sns.barplot(x='tip_pct', y='day', data=tips, orient='h')"
      ]
    },
    {
      "cell_type": "markdown",
      "id": "25d43f9c",
      "metadata": {
        "id": "25d43f9c"
      },
      "source": [
        "seaborn.barplot has a hue option that enables us to split by an additional categorical\n",
        "value"
      ]
    },
    {
      "cell_type": "code",
      "execution_count": null,
      "id": "81c5bb54",
      "metadata": {
        "id": "81c5bb54"
      },
      "outputs": [],
      "source": [
        "sns.barplot(x='tip_pct', y='day', hue='time', data=tips, orient='h')"
      ]
    },
    {
      "cell_type": "markdown",
      "id": "3424eed5",
      "metadata": {
        "id": "3424eed5"
      },
      "source": [
        "### Histograms and Density Plots"
      ]
    },
    {
      "cell_type": "markdown",
      "id": "c4168bb1",
      "metadata": {
        "id": "c4168bb1"
      },
      "source": [
        "A histogram is a kind of bar plot that gives a discretized display of value frequency.\n",
        "The data points are split into discrete, evenly spaced bins, and the number of data\n",
        "points in each bin is plotted. Using the tipping data from before, we can make a histo‐\n",
        "gram of tip percentages of the total bill using the plot.hist method on the Series"
      ]
    },
    {
      "cell_type": "code",
      "execution_count": null,
      "id": "e5d51b19",
      "metadata": {
        "id": "e5d51b19"
      },
      "outputs": [],
      "source": [
        "tips['tip_pct'].plot.hist(bins=50)"
      ]
    },
    {
      "cell_type": "markdown",
      "id": "4395176c",
      "metadata": {
        "id": "4395176c"
      },
      "source": [
        "A related plot type is a density plot, which is formed by computing an estimate of a\n",
        "continuous probability distribution that might have generated the observed data. The\n",
        "usual procedure is to approximate this distribution as a mixture of “kernels”—that is,\n",
        "simpler distributions like the normal distribution. Thus, density plots are also known\n",
        "as kernel density estimate (KDE) plots. Using plot.kde makes a density plot using\n",
        "the conventional mixture-of-normals estimate"
      ]
    },
    {
      "cell_type": "code",
      "execution_count": null,
      "id": "5daa314b",
      "metadata": {
        "id": "5daa314b"
      },
      "outputs": [],
      "source": [
        "tips['tip_pct'].plot.density()"
      ]
    },
    {
      "cell_type": "markdown",
      "id": "1ac0ab9e",
      "metadata": {
        "id": "1ac0ab9e"
      },
      "source": [
        "Seaborn makes histograms and density plots even easier through its distplot\n",
        "method, which can plot both a histogram and a continuous density estimate simulta‐\n",
        "neously. As an example, consider a bimodal distribution consisting of draws from\n",
        "two different standard normal distributions"
      ]
    },
    {
      "cell_type": "code",
      "execution_count": null,
      "id": "f7b8af00",
      "metadata": {
        "id": "f7b8af00"
      },
      "outputs": [],
      "source": [
        "comp1 = np.random.normal(0, 1, size=200)"
      ]
    },
    {
      "cell_type": "code",
      "execution_count": null,
      "id": "015b9f65",
      "metadata": {
        "id": "015b9f65"
      },
      "outputs": [],
      "source": [
        "comp2 = np.random.normal(10, 2, size=200)\n"
      ]
    },
    {
      "cell_type": "code",
      "execution_count": null,
      "id": "e2f8c495",
      "metadata": {
        "id": "e2f8c495"
      },
      "outputs": [],
      "source": [
        "values = pd.Series(np.concatenate([comp1, comp2]))"
      ]
    },
    {
      "cell_type": "code",
      "execution_count": null,
      "id": "ce6b6f6e",
      "metadata": {
        "id": "ce6b6f6e"
      },
      "outputs": [],
      "source": [
        "values"
      ]
    },
    {
      "cell_type": "code",
      "execution_count": null,
      "id": "7b290a18",
      "metadata": {
        "id": "7b290a18"
      },
      "outputs": [],
      "source": [
        "sns.distplot(values, bins=100, color='k')"
      ]
    },
    {
      "cell_type": "markdown",
      "id": "57989ce6",
      "metadata": {
        "id": "57989ce6"
      },
      "source": [
        "### Scatter or Point Plots"
      ]
    },
    {
      "cell_type": "markdown",
      "id": "b9bb813e",
      "metadata": {
        "id": "b9bb813e"
      },
      "source": [
        "Point plots or scatter plots can be a useful way of examining the relationship between\n",
        "two one-dimensional data series. For example, here we load the macrodata dataset\n",
        "from the statsmodels project, select a few variables, then compute log differences:\n"
      ]
    },
    {
      "cell_type": "code",
      "execution_count": null,
      "id": "1cdbf01f",
      "metadata": {
        "id": "1cdbf01f"
      },
      "outputs": [],
      "source": [
        "macro = pd.read_csv('./Dataset/macrodta.csv')\n"
      ]
    },
    {
      "cell_type": "code",
      "execution_count": null,
      "id": "fb3ae5e6",
      "metadata": {
        "id": "fb3ae5e6"
      },
      "outputs": [],
      "source": [
        "macro.head()"
      ]
    },
    {
      "cell_type": "code",
      "execution_count": null,
      "id": "be5c0eb2",
      "metadata": {
        "id": "be5c0eb2"
      },
      "outputs": [],
      "source": [
        "data = macro[['cpi', 'm1', 'tbilrate', 'unemp']]"
      ]
    },
    {
      "cell_type": "code",
      "execution_count": null,
      "id": "0af49101",
      "metadata": {
        "id": "0af49101"
      },
      "outputs": [],
      "source": [
        "data.head()"
      ]
    },
    {
      "cell_type": "code",
      "execution_count": null,
      "id": "319cabca",
      "metadata": {
        "id": "319cabca"
      },
      "outputs": [],
      "source": [
        "trans_data = np.log(data).diff().dropna()"
      ]
    },
    {
      "cell_type": "code",
      "execution_count": null,
      "id": "56d80d67",
      "metadata": {
        "id": "56d80d67"
      },
      "outputs": [],
      "source": [
        "trans_data"
      ]
    },
    {
      "cell_type": "code",
      "execution_count": null,
      "id": "72cbffa7",
      "metadata": {
        "id": "72cbffa7"
      },
      "outputs": [],
      "source": [
        "trans_data[-5:]"
      ]
    },
    {
      "cell_type": "code",
      "execution_count": null,
      "id": "5454d746",
      "metadata": {
        "id": "5454d746"
      },
      "outputs": [],
      "source": [
        "sns.regplot('m1', 'unemp', data=trans_data)\n",
        "plt.title('Changes in log %s versus log %s' % ('m1', 'unemp'))"
      ]
    },
    {
      "cell_type": "markdown",
      "id": "bc088d50",
      "metadata": {
        "id": "bc088d50"
      },
      "source": [
        "In exploratory data analysis it’s helpful to be able to look at all the scatter plots among\n",
        "a group of variables; this is known as a pairs plot or scatter plot matrix. Making such a\n",
        "plot from scratch is a bit of work, so seaborn has a convenient pairplot function,\n",
        "which supports placing histograms or density estimates of each variable along the\n",
        "diagonal"
      ]
    },
    {
      "cell_type": "code",
      "execution_count": null,
      "id": "3fdb3b77",
      "metadata": {
        "id": "3fdb3b77"
      },
      "outputs": [],
      "source": [
        "sns.pairplot(trans_data, diag_kind='kde', plot_kws={'alpha': 0.2})"
      ]
    },
    {
      "cell_type": "markdown",
      "id": "1e0c6870",
      "metadata": {
        "id": "1e0c6870"
      },
      "source": [
        "### Facet Grids and Categorical Data"
      ]
    },
    {
      "cell_type": "markdown",
      "id": "d349b02b",
      "metadata": {
        "id": "d349b02b"
      },
      "source": [
        "What about datasets where we have additional grouping dimensions? One way to vis‐\n",
        "ualize data with many categorical variables is to use a facet grid. Seaborn has a useful\n",
        "built-in function factorplot that simplifies making many kinds of faceted plots"
      ]
    },
    {
      "cell_type": "code",
      "execution_count": null,
      "id": "3ee8d72f",
      "metadata": {
        "id": "3ee8d72f"
      },
      "outputs": [],
      "source": [
        "sns.factorplot(x='day', y='tip_pct', hue='time', col='smoker',kind='bar', data=tips[tips.tip_pct < 1])\n"
      ]
    },
    {
      "cell_type": "markdown",
      "id": "f5c68e02",
      "metadata": {
        "id": "f5c68e02"
      },
      "source": [
        "Instead of grouping by 'time' by different bar colors within a facet, we can also\n",
        "expand the facet grid by adding one row per time value"
      ]
    },
    {
      "cell_type": "code",
      "execution_count": null,
      "id": "78ba9972",
      "metadata": {
        "id": "78ba9972"
      },
      "outputs": [],
      "source": [
        "sns.factorplot(x='day', y='tip_pct', row='time',\n",
        " .....: col='smoker',\n",
        " .....: kind='bar', data=tips[tips.tip_pct < 1])"
      ]
    },
    {
      "cell_type": "markdown",
      "id": "68f55c4d",
      "metadata": {
        "id": "68f55c4d"
      },
      "source": [
        "Factorplot supports other plot types that may be useful depending on what you are\n",
        "trying to display. For example, box plots (which show the median, quartiles, and out‐\n",
        "liers) can be an effective visualization type"
      ]
    },
    {
      "cell_type": "code",
      "execution_count": null,
      "id": "a6275569",
      "metadata": {
        "id": "a6275569"
      },
      "outputs": [],
      "source": [
        " sns.factorplot(x='tip_pct', y='day', kind='box',\n",
        " .....: data=tips[tips.tip_pct < 0.5])\n"
      ]
    }
  ],
  "metadata": {
    "kernelspec": {
      "display_name": "Python 3",
      "language": "python",
      "name": "python3"
    },
    "language_info": {
      "codemirror_mode": {
        "name": "ipython",
        "version": 3
      },
      "file_extension": ".py",
      "mimetype": "text/x-python",
      "name": "python",
      "nbconvert_exporter": "python",
      "pygments_lexer": "ipython3",
      "version": "3.8.8"
    },
    "colab": {
      "name": "Assignment 9 - Plotting & Visualization.ipynb",
      "provenance": [],
      "collapsed_sections": [
        "4f46e56b",
        "f4ad1371",
        "091e2e00",
        "ac9f1951",
        "08fd4e3a",
        "e4830b32",
        "046032cd",
        "03493535",
        "9053117d",
        "3424eed5",
        "57989ce6",
        "1e0c6870"
      ]
    }
  },
  "nbformat": 4,
  "nbformat_minor": 5
}