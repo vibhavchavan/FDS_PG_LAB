{
  "cells": [
    {
      "cell_type": "markdown",
      "metadata": {
        "id": "QrU4UqBDEGaQ"
      },
      "source": [
        "## <center>FOUNDATION OF DATA SCIENCE</center>\n",
        "    \n",
        "## <center>Data Types And Data Levels</center>"
      ]
    },
    {
      "cell_type": "markdown",
      "metadata": {
        "id": "1pTgVuYyEGaV"
      },
      "source": [
        "<center><img src=\"https://www.databasetown.com/wp-content/uploads/2019/08/types-of-data-image-1-1024x568.png\"></center>"
      ]
    },
    {
      "cell_type": "markdown",
      "metadata": {
        "id": "_p5A2uTUEGaW"
      },
      "source": [
        "## Categorical or qualitative data is based on descriptive information\n",
        "### e.g. He is a cleaver boy. It has further three types:-\n",
        "\n",
        "- Binomial Data ( Variable data with only two options e.g. good or bad, true or false )\n",
        "- Nominal or Unordered Data (Variable data which is in unordered form e.g. red, green, man )\n",
        "- Ordinal Data (Variable data with proper order e.g. short, medium, long)\n",
        "\n",
        "## Numerical or quantitative data is based on numerical information\n",
        "### e.g. He has 2 legs. It is further divided into:\n",
        "\n",
        "- Discrete data (This data is countable e.g. no. of children, whole numbers) and\n",
        "- Continuous data (This data is measurable e.g. height, width, length ). Continuous data has further two types.\n",
        "    - Interval (No true zero e.g. absence of temperature)\n",
        "    - Ratio (Absolute zero e.g. height can be zero)"
      ]
    },
    {
      "cell_type": "markdown",
      "metadata": {
        "id": "xcNiGiftEGaX"
      },
      "source": [
        "### **World Health Organization Data**\n",
        "\n",
        "The World Health Organization dataset describing the average drinking habits of people in countries across the world. Using Python and the data exploration tool, Pandas, in order to gain a better look:"
      ]
    },
    {
      "cell_type": "code",
      "execution_count": 1,
      "metadata": {
        "colab": {
          "base_uri": "https://localhost:8080/",
          "height": 300
        },
        "id": "9Lo50xJqEGaY",
        "outputId": "de1f0887-3748-4798-f350-904ed361f3ff"
      },
      "outputs": [
        {
          "output_type": "execute_result",
          "data": {
            "text/html": [
              "<div>\n",
              "<style scoped>\n",
              "    .dataframe tbody tr th:only-of-type {\n",
              "        vertical-align: middle;\n",
              "    }\n",
              "\n",
              "    .dataframe tbody tr th {\n",
              "        vertical-align: top;\n",
              "    }\n",
              "\n",
              "    .dataframe thead th {\n",
              "        text-align: right;\n",
              "    }\n",
              "</style>\n",
              "<table border=\"1\" class=\"dataframe\">\n",
              "  <thead>\n",
              "    <tr style=\"text-align: right;\">\n",
              "      <th></th>\n",
              "      <th>country</th>\n",
              "      <th>beer_servings</th>\n",
              "      <th>spirit_servings</th>\n",
              "      <th>wine_servings</th>\n",
              "      <th>total_litres_of_pure_alcohol</th>\n",
              "      <th>continent</th>\n",
              "    </tr>\n",
              "  </thead>\n",
              "  <tbody>\n",
              "    <tr>\n",
              "      <th>0</th>\n",
              "      <td>Afghanistan</td>\n",
              "      <td>0</td>\n",
              "      <td>0</td>\n",
              "      <td>0</td>\n",
              "      <td>0.0</td>\n",
              "      <td>AS</td>\n",
              "    </tr>\n",
              "    <tr>\n",
              "      <th>1</th>\n",
              "      <td>Albania</td>\n",
              "      <td>89</td>\n",
              "      <td>132</td>\n",
              "      <td>54</td>\n",
              "      <td>4.9</td>\n",
              "      <td>EU</td>\n",
              "    </tr>\n",
              "    <tr>\n",
              "      <th>2</th>\n",
              "      <td>Algeria</td>\n",
              "      <td>25</td>\n",
              "      <td>0</td>\n",
              "      <td>14</td>\n",
              "      <td>0.7</td>\n",
              "      <td>AF</td>\n",
              "    </tr>\n",
              "    <tr>\n",
              "      <th>3</th>\n",
              "      <td>Andorra</td>\n",
              "      <td>245</td>\n",
              "      <td>138</td>\n",
              "      <td>312</td>\n",
              "      <td>12.4</td>\n",
              "      <td>EU</td>\n",
              "    </tr>\n",
              "    <tr>\n",
              "      <th>4</th>\n",
              "      <td>Angola</td>\n",
              "      <td>217</td>\n",
              "      <td>57</td>\n",
              "      <td>45</td>\n",
              "      <td>5.9</td>\n",
              "      <td>AF</td>\n",
              "    </tr>\n",
              "    <tr>\n",
              "      <th>5</th>\n",
              "      <td>Antigua &amp; Barbuda</td>\n",
              "      <td>102</td>\n",
              "      <td>128</td>\n",
              "      <td>45</td>\n",
              "      <td>4.9</td>\n",
              "      <td>NaN</td>\n",
              "    </tr>\n",
              "    <tr>\n",
              "      <th>6</th>\n",
              "      <td>Argentina</td>\n",
              "      <td>193</td>\n",
              "      <td>25</td>\n",
              "      <td>221</td>\n",
              "      <td>8.3</td>\n",
              "      <td>SA</td>\n",
              "    </tr>\n",
              "    <tr>\n",
              "      <th>7</th>\n",
              "      <td>Armenia</td>\n",
              "      <td>21</td>\n",
              "      <td>179</td>\n",
              "      <td>11</td>\n",
              "      <td>3.8</td>\n",
              "      <td>EU</td>\n",
              "    </tr>\n",
              "  </tbody>\n",
              "</table>\n",
              "</div>"
            ],
            "text/plain": [
              "             country  beer_servings  ...  total_litres_of_pure_alcohol  continent\n",
              "0        Afghanistan              0  ...                           0.0         AS\n",
              "1            Albania             89  ...                           4.9         EU\n",
              "2            Algeria             25  ...                           0.7         AF\n",
              "3            Andorra            245  ...                          12.4         EU\n",
              "4             Angola            217  ...                           5.9         AF\n",
              "5  Antigua & Barbuda            102  ...                           4.9        NaN\n",
              "6          Argentina            193  ...                           8.3         SA\n",
              "7            Armenia             21  ...                           3.8         EU\n",
              "\n",
              "[8 rows x 6 columns]"
            ]
          },
          "metadata": {},
          "execution_count": 1
        }
      ],
      "source": [
        "#Python program to read CSV.\n",
        "\n",
        "import pandas as pd\n",
        "\n",
        "#Read CSV file from a URL\n",
        "\n",
        "drinks=pd.read_csv('https://raw.githubusercontent.com/sinanuozdemir/principles_of_data_science/master/data/chapter_2/drinks.csv')\n",
        "\n",
        "drinks.head(8)   #First 8 rows  "
      ]
    },
    {
      "cell_type": "markdown",
      "metadata": {
        "id": "qTbYHXq8EGaa"
      },
      "source": [
        "- country: Qualitative\n",
        "- beer_servings: Quantitative\n",
        "- spirit_servings: Quantitative\n",
        "- wine_servings: Quantitative\n",
        "- total_litres_of_pure_alcohol: Quantitative\n",
        "- continent: Qualitative\n",
        "\n",
        "The describe() method is being used here, which first identifies whether the column is likely quantitative or \n",
        "qualitative and then gives basic information about the column as a whole."
      ]
    },
    {
      "cell_type": "code",
      "execution_count": 2,
      "metadata": {
        "colab": {
          "base_uri": "https://localhost:8080/"
        },
        "id": "7-emz09HEGab",
        "outputId": "c681fc63-edb6-4eaa-b13b-c6a989b0f921"
      },
      "outputs": [
        {
          "output_type": "execute_result",
          "data": {
            "text/plain": [
              "count     170\n",
              "unique      5\n",
              "top        AF\n",
              "freq       53\n",
              "Name: continent, dtype: object"
            ]
          },
          "metadata": {},
          "execution_count": 2
        }
      ],
      "source": [
        "drinks['continent'].describe()"
      ]
    },
    {
      "cell_type": "code",
      "execution_count": 3,
      "metadata": {
        "colab": {
          "base_uri": "https://localhost:8080/"
        },
        "id": "IiWKy_tIEGad",
        "outputId": "7ba3ad69-a877-404b-e5cf-76cbed792dc3"
      },
      "outputs": [
        {
          "output_type": "execute_result",
          "data": {
            "text/plain": [
              "count    193.000000\n",
              "mean     106.160622\n",
              "std      101.143103\n",
              "min        0.000000\n",
              "25%       20.000000\n",
              "50%       76.000000\n",
              "75%      188.000000\n",
              "max      376.000000\n",
              "Name: beer_servings, dtype: float64"
            ]
          },
          "metadata": {},
          "execution_count": 3
        }
      ],
      "source": [
        "drinks['beer_servings'].describe()"
      ]
    },
    {
      "cell_type": "markdown",
      "metadata": {
        "id": "6MPvWtBFEGae"
      },
      "source": [
        "### - Nominal Data\n",
        "\n",
        "The first level of data, the nominal level, (which also sounds like the word name) \n",
        "consists of data that is described purely by name or category. Basic examples include \n",
        "gender, nationality, species, or yeast strain in a beer. They are not described by \n",
        "numbers and are therefore qualitative. The following are some examples:\n",
        "\n",
        "- A type of animal is on the nominal level of data. We may also say that if you \n",
        "are a chimpanzee, then you belong to the mammalian class as well.\n",
        "- A part of speech is also considered on the nominal level of data. The word she\n",
        "is a pronoun, and it is also a noun"
      ]
    },
    {
      "cell_type": "markdown",
      "metadata": {
        "id": "ta-mzP8NEGaf"
      },
      "source": [
        "### - Ordinal Data\n",
        "\n",
        "Data in the ordinal level provides us with a rank order, or the means to place one observation before the other; however, it does not provide us with relative differences between observations, meaning that while we may order the observations from first to last, we cannot add or subtract them to get any real meaning.\n",
        "\n",
        "Arthimatic Operation Allowed:\n",
        "- Equality\n",
        "- Set Membership\n",
        "- Comparison\n",
        "- Ordering\n",
        "\n",
        "Measures of Central Tendency.\n",
        "- Median is usually an appropriate way of defining the center of the data."
      ]
    },
    {
      "cell_type": "code",
      "execution_count": 4,
      "metadata": {
        "colab": {
          "base_uri": "https://localhost:8080/"
        },
        "id": "DmV8jwF1EGag",
        "outputId": "de788590-1e75-415b-83be-6ff9fc4ae917"
      },
      "outputs": [
        {
          "output_type": "stream",
          "name": "stdout",
          "text": [
            "3.4375\n",
            "4.0\n"
          ]
        }
      ],
      "source": [
        "#Python program to find median in the given data set.\n",
        "\n",
        "import numpy\n",
        "\n",
        "results = [5, 4, 3, 4, 5, 3, 2, 5, 3, 2, 1, 4, 5, 3, 4, 4, 5, 4, 2, 1, 4, 5, 4, 3, 2, 4, 4, 5, 4, 3, 2, 1]\n",
        "\n",
        "sorted_results=sorted(results)\n",
        "\n",
        "print(numpy.mean(sorted_results))\n",
        "\n",
        "print(numpy.median(sorted_results))\n"
      ]
    },
    {
      "cell_type": "markdown",
      "metadata": {
        "id": "-fWsswHAEGag"
      },
      "source": [
        "### - Interval Data\n",
        "\n",
        "The basic difference between the ordinal level and the interval level is, well, just that—difference.\n",
        "Data at the interval level allows meaningful subtraction between data points.\n",
        "Example-Temperature is a great example of data at the interval level.\n",
        "\n",
        "Arthimatic Operation Allowed:\n",
        "- Equality\n",
        "- Set Membership\n",
        "- Comparison\n",
        "- Ordering\n",
        "- Addition\n",
        "- Substraction\n",
        "\n",
        "Measures of Central Tendency.\n",
        "- Mean is usually an appropriate way of defining the center of the data."
      ]
    },
    {
      "cell_type": "code",
      "execution_count": 5,
      "metadata": {
        "colab": {
          "base_uri": "https://localhost:8080/"
        },
        "id": "ifAseG2hEGah",
        "outputId": "98768d31-14e2-49ee-f459-2eb66f536f52"
      },
      "outputs": [
        {
          "output_type": "stream",
          "name": "stdout",
          "text": [
            "30.733333333333334\n",
            "31.0\n"
          ]
        }
      ],
      "source": [
        "#Python program to find the mean in the give data set.\n",
        "\n",
        "import numpy\n",
        "\n",
        "temps=[31, 32, 32, 31, 28, 29, 31, 38, 32, 31, 30, 29, 30, 31, 26]\n",
        "\n",
        "print(numpy.mean(temps))\n",
        "\n",
        "print(numpy.median(temps))"
      ]
    },
    {
      "cell_type": "markdown",
      "metadata": {
        "id": "YGuc0bouEGai"
      },
      "source": [
        "Note how the mean and median are quite close to each other and both are around 31 degrees.\n",
        "\n",
        "The question, on average, how cold is the fridge?, about 31, however the vaccine comes with a warning:\n",
        "\n",
        "Do not keep this vaccine at a temperature under 29 degrees.\n",
        "\n",
        "Note that at least twice, the temperature dropped below 29 degrees but you ended up assuming that it isn't enough for it to be detrimental.This is where the measure of variation can help us understand how bad the fridge situation can be.\n",
        "\n",
        "Measures of Variation\n",
        "\n",
        "In data science, it is also very important to mention how \"spread out\" the data is. The measures that describe this phenomenon are called measures of variation. \n",
        "\n",
        "- Standard Deviation\n",
        "- Variance\n",
        "- Interquartual Range\n",
        "- Range"
      ]
    },
    {
      "cell_type": "code",
      "execution_count": 6,
      "metadata": {
        "colab": {
          "base_uri": "https://localhost:8080/"
        },
        "id": "QbNoU5WaEGaj",
        "outputId": "5a11b782-2586-4e8f-bcd8-6ca67278cf23"
      },
      "outputs": [
        {
          "output_type": "stream",
          "name": "stdout",
          "text": [
            "2.5157283018817607\n"
          ]
        }
      ],
      "source": [
        "#Python program to calculate the standard deviation\n",
        "\n",
        "import numpy\n",
        "\n",
        "temps=[31, 32, 32, 31, 28, 29, 31, 38, 32, 31, 30, 29, 30, 31, 26]\n",
        "\n",
        "mean=numpy.mean(temps)\n",
        "\n",
        "squared_differences=[]\n",
        "\n",
        "for temperature in temps:\n",
        "    difference=temperature-mean\n",
        "    squared_difference=difference**2\n",
        "    squared_differences.append(squared_difference)\n",
        "\n",
        "averaged_squared_difference=numpy.mean(squared_differences)\n",
        "#This number is called variance\n",
        "\n",
        "standard_deviation=numpy.sqrt(averaged_squared_difference)\n",
        "\n",
        "print(standard_deviation)\n",
        "\n",
        "    "
      ]
    },
    {
      "cell_type": "markdown",
      "metadata": {
        "id": "qBzdV1QoEGaj"
      },
      "source": [
        "### - Ratio Data\n",
        "\n",
        "The ratio level proves to be the strongest of the four.\n",
        "Not only can we define order and difference, the ratio level allows us to multiply and divide as well.\n",
        "\n",
        "**Example:**\n",
        "\n",
        "Money in the bank is at the ratio level. You can have \"no money in the bank\" and it makes sense that $200,000 is \"twice as much as\" $100,000.\n",
        "\n",
        "Arthimatic Operation Allowed:\n",
        "- Equality\n",
        "- Set Membership\n",
        "- Comparison\n",
        "- Ordering\n",
        "- Addition\n",
        "- Substraction\n",
        "- Division\n",
        "- Multiplication\n",
        "\n",
        "Measures of Central Tendency\n",
        "\n",
        "- Mean - The arithmetic mean still holds meaning at this level, as does a new type of mean called the geometric mean.\n",
        "          It is the square root of the product of all the values."
      ]
    },
    {
      "cell_type": "code",
      "execution_count": 7,
      "metadata": {
        "colab": {
          "base_uri": "https://localhost:8080/"
        },
        "id": "PeyUAw8uEGak",
        "outputId": "4f29ccc6-51b9-42b2-efb5-ae8a20f3f154"
      },
      "outputs": [
        {
          "output_type": "stream",
          "name": "stdout",
          "text": [
            "30.63473484374659\n"
          ]
        }
      ],
      "source": [
        "#Python program to calculate geometric mean\n",
        "\n",
        "import numpy\n",
        "\n",
        "temps = [31, 32, 32, 31, 28, 29, 31, 38, 32, 31, 30, 29, 30, 31, 26]\n",
        "\n",
        "num_items=len(temps)\n",
        "\n",
        "product=1\n",
        "\n",
        "for temperature in temps:\n",
        "    product*=temperature\n",
        "\n",
        "geometric_mean= product**(1./num_items)\n",
        "\n",
        "print(geometric_mean)\n"
      ]
    },
    {
      "cell_type": "code",
      "execution_count": 7,
      "metadata": {
        "id": "m5ZBSbZeEGak"
      },
      "outputs": [],
      "source": [
        ""
      ]
    }
  ],
  "metadata": {
    "kernelspec": {
      "display_name": "Python 3",
      "language": "python",
      "name": "python3"
    },
    "language_info": {
      "codemirror_mode": {
        "name": "ipython",
        "version": 3
      },
      "file_extension": ".py",
      "mimetype": "text/x-python",
      "name": "python",
      "nbconvert_exporter": "python",
      "pygments_lexer": "ipython3",
      "version": "3.8.8"
    },
    "colab": {
      "name": "Assignment 4 - Types of Data.ipynb",
      "provenance": [],
      "collapsed_sections": []
    }
  },
  "nbformat": 4,
  "nbformat_minor": 0
}